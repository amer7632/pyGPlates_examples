{
 "cells": [
  {
   "cell_type": "markdown",
   "metadata": {},
   "source": [
    "This notebook creates a similar plot to Fig. 17 in Merdith et al. (2017) 'A full-plate global reconstruction of the Neoproterozoic'.  I've changed it from a violin plot to a heatmap for clarity and ease of plotting.\n",
    "\n",
    "It calculates the binned latiduinal area of continental mass and subduction zone length in 10 Ma timesteps.\n",
    "\n",
    "It should be (reasonably) adaptable for all times, provided you have a plate model (for continental area) and plate boundaries (for subduction zones).\n",
    "\n",
    "References\n",
    "\n",
    "Merdith, A.S., Collins, A.S., Williams, S.E., Pisarevsky, S., Foden, J.D., Archibald, D.B., Blades, M.L., Alessio, B.L., Armistead, S., Plavsa, D., Clark, C., and Müller, R.D. 2017. A full-plate global reconstruction of the Neoproterozoic. Gondwana Research, 50, pp.84-134."
   ]
  },
  {
   "cell_type": "code",
   "execution_count": 1,
   "metadata": {},
   "outputs": [],
   "source": [
    "import pygplates\n",
    "import numpy as np\n",
    "import healpy\n",
    "import matplotlib.pyplot as plt\n",
    "import matplotlib as mpl\n",
    "mpl.rcParams['pdf.fonttype'] = 42\n",
    "%matplotlib inline"
   ]
  },
  {
   "cell_type": "code",
   "execution_count": 2,
   "metadata": {},
   "outputs": [],
   "source": [
    "def create_gpml_velocity_feature(longitude_array,latitude_array,filename=None,feature_type=None):\n",
    "# function to make a velocity mesh nodes at an arbitrary set of points\n",
    "# Long and Lat are assumed to be 1d arrays. \n",
    "\n",
    "    multi_point = pygplates.MultiPointOnSphere(zip(latitude_array,longitude_array))\n",
    "\n",
    "    # Create a feature containing the multipoint feature. \n",
    "    # optionally, define as 'MeshNode' type, so that GPlates will recognise it as a velocity layer\n",
    "    if feature_type=='MeshNode':\n",
    "        meshnode_feature = pygplates.Feature(pygplates.FeatureType.create_from_qualified_string('gpml:MeshNode'))\n",
    "        meshnode_feature.set_name('Velocity Mesh Nodes')\n",
    "    else:\n",
    "        meshnode_feature = pygplates.Feature()\n",
    "        meshnode_feature.set_name('Multipoint Feature')\n",
    "    \n",
    "    meshnode_feature.set_geometry(multi_point)\n",
    "    \n",
    "    output_feature_collection = pygplates.FeatureCollection(meshnode_feature)\n",
    "    \n",
    "    if filename is not None:\n",
    "        output_feature_collection.write(filename)\n",
    "    else:\n",
    "        return output_feature_collection\n",
    "\n",
    "def create_gpml_healpix_mesh(nSide,filename=None,feature_type=None):\n",
    "\n",
    "    # call the function to create a healpix array\n",
    "    #nSide = 32\n",
    "    othetas,ophis = healpy.pix2ang(nSide,np.arange(12*nSide**2))\n",
    "    othetas = np.pi/2-othetas\n",
    "    ophis[ophis>np.pi] -= np.pi*2\n",
    "\n",
    "    lats = np.degrees(othetas) \n",
    "    lons = np.degrees(ophis)\n",
    "\n",
    "    # call the function to create a multipoint feature, with user-defined type\n",
    "    output_feature_collection = create_gpml_velocity_feature(lons,lats,filename,feature_type)\n",
    "\n",
    "    if filename is not None:  # This is superfluous, since file has already been written in previous line???\n",
    "        output_feature_collection.write(filename)\n",
    "    else:\n",
    "        return output_feature_collection"
   ]
  },
  {
   "cell_type": "code",
   "execution_count": 3,
   "metadata": {},
   "outputs": [],
   "source": [
    "#setbasedir for loading reconstruction files\n",
    "basedir = '/Users/Andrew/Documents/PhD/Scripts/Python_Scripts/pyGPlates_examples/Merdith_2017_GR/Sample_data/'\n",
    "rotation_model = pygplates.RotationModel('%sMer17_1000-520Ma_rotations.rot' % basedir)\n",
    "polygons = pygplates.FeatureCollection('%sMer17_1000-520Ma_shapes.gpml' % basedir)\n",
    "topology_features = ['%sMer17_1000-520Ma_Convergence.gpml' % basedir,\n",
    "                     '%sMer17_1000-520Ma_Divergence.gpml' % basedir,\n",
    "                     '%sMer17_1000-520Ma_Topologies.gpml' % basedir,\n",
    "                     '%sMer17_1000-520Ma_Transform.gpml' % basedir]"
   ]
  },
  {
   "cell_type": "code",
   "execution_count": 4,
   "metadata": {},
   "outputs": [
    {
     "name": "stdout",
     "output_type": "stream",
     "text": [
      "number of points 12288\n",
      "surface area of the earth 510064471.91\n",
      "area per point 41509.1529875\n"
     ]
    }
   ],
   "source": [
    "#set up some parameters for our analysis\n",
    "#we need to know what area of the earth each point covers!\n",
    "\n",
    "#create equal area mesh\n",
    "latlon_array = []\n",
    "latlon_mesh = create_gpml_healpix_mesh(32)\n",
    "for i in latlon_mesh:\n",
    "    for point in i.get_geometry():\n",
    "        latlon_array.append(point.to_lat_lon())\n",
    "        \n",
    "#we want to bin data into 5° latitudes\n",
    "#set up bins and how much area each point covers here\n",
    "\n",
    "#create bins\n",
    "bins = np.linspace(-90,90,185/5)\n",
    "\n",
    "#area covered by each point\n",
    "number_of_points = len(latlon_array)\n",
    "print 'number of points', len(latlon_array)\n",
    "\n",
    "#surface area of the earth\n",
    "r = 6371\n",
    "surface_area = 4 * np.pi * r ** 2\n",
    "print 'surface area of the earth', surface_area\n",
    "\n",
    "area_per_point = surface_area/number_of_points\n",
    "\n",
    "print 'area per point', area_per_point\n"
   ]
  },
  {
   "cell_type": "code",
   "execution_count": 5,
   "metadata": {},
   "outputs": [],
   "source": [
    "#set time range\n",
    "times=np.arange(520,1010,10)\n",
    "\n",
    "#createsan array of lat/lons for our mesh which we use to query the amount of continental mass at each point\n",
    "latlon_array = []\n",
    "for i in latlon_mesh:\n",
    "    for point in i.get_geometry():\n",
    "        latlon_array.append(point.to_lat_lon())"
   ]
  },
  {
   "cell_type": "code",
   "execution_count": 7,
   "metadata": {
    "scrolled": true
   },
   "outputs": [],
   "source": [
    "#we're going to grab subducton zone length as well as continental area\n",
    "#(if you have convergence rate you could get sub area per lat)\n",
    "\n",
    "#final results\n",
    "subduction_latitude_length = []\n",
    "continental_latitude_area = []\n",
    "\n",
    "for time in times:\n",
    "    #print time\n",
    "    #create empty lists and arrays for storing temperorary (within a timestep) results\n",
    "    tmp_sub_lat_length = np.zeros(len(bins)-1,)\n",
    "    tmp_lat_points = []\n",
    "    \n",
    "    #reconstruct and resolve continents and plate boundaries\n",
    "    reconstructed_features = []\n",
    "    resolved_topologies = []\n",
    "    shared_boundary_sections = []\n",
    "\n",
    "    pygplates.reconstruct(polygons, rotation_model, reconstructed_features, time)\n",
    "    pygplates.resolve_topologies(topology_features, rotation_model, resolved_topologies, time, shared_boundary_sections)\n",
    "\n",
    "    #we have to loop through the topologies\n",
    "    for shared_boundary_section in shared_boundary_sections:\n",
    "        #we only want subduction zones\n",
    "        if shared_boundary_section.get_feature().get_feature_type() == pygplates.FeatureType.gpml_subduction_zone:\n",
    "            #and just the segments that contribute to the topologies\n",
    "            for shared_sub_segment in shared_boundary_section.get_shared_sub_segments():\n",
    "                #tessellate them to n radians so we can fit them to latitude bins\n",
    "                tessellated_shared_sub_segment_polyline = (\n",
    "                    shared_sub_segment.get_resolved_geometry().to_tessellated(np.radians(1)))\n",
    "                \n",
    "                #we want the midpoints of the segments, to see what latitude they sit in\n",
    "                #and also the lengths of the arcs so we know how much is there\n",
    "                tmp_arc_lat_midpoints = []\n",
    "                tmp_arc_lengths = []\n",
    "                \n",
    "                #loop through arcs\n",
    "                for arc in tessellated_shared_sub_segment_polyline.get_segments():\n",
    "                    if not arc.is_zero_length():\n",
    "                        tmp_arc_lengths.append(arc.get_arc_length())\n",
    "                        tmp_arc_lat_midpoints.append(arc.get_arc_point(0.5).to_lat_lon_array()[:,0])\n",
    "                        #we just use the mean tessellation length for ease and quickness\n",
    "                        #this makes it an estimate and not an exact measure (but pretty close)\n",
    "                        tessellation_length_kms = np.mean(tmp_arc_lengths) * pygplates.Earth.mean_radius_in_kms\n",
    "                        #get a histogram of the data\n",
    "                        tmp_sub_data = np.histogram(tmp_arc_lat_midpoints, bins)        \n",
    "                        tmp_sub_length = tmp_sub_data[0] * tessellation_length_kms\n",
    "                tmp_sub_lat_length += tmp_sub_length\n",
    "                \n",
    "    subduction_latitude_length.append(tmp_sub_lat_length)\n",
    "    \n",
    "    #now for continental mass, simpler code but takes longer to run (cos there's a point in polygon test)\n",
    "    #we loop through our meshgrid and if a node is in a polygon we store the latitude value of that node\n",
    "    #then we can make a histogram again\n",
    "    for poly in reconstructed_features:\n",
    "        poly_geom = poly.get_reconstructed_geometry()\n",
    "        for i in latlon_array:\n",
    "            if poly_geom.is_point_in_polygon(i):\n",
    "                tmp_lat_points.append(i[0])\n",
    "    tmp_cont_data = np.histogram(tmp_lat_points, bins)\n",
    "    tmp_cont_area = tmp_cont_data[0] * area_per_point\n",
    "    continental_latitude_area.append(tmp_cont_area)   "
   ]
  },
  {
   "cell_type": "code",
   "execution_count": 8,
   "metadata": {},
   "outputs": [],
   "source": [
    "#turn into an array so we can plot it as a heatmap\n",
    "continental_latitude_area_array = np.stack(continental_latitude_area, axis=0 )\n",
    "subduction_latitude_length_array = np.stack(subduction_latitude_length, axis=0 )\n",
    "\n",
    "#save data as a csv if you want\n",
    "#np.savetxt('cont_area_vs_lat.csv', latitude_points_array, delimiter=',')"
   ]
  },
  {
   "cell_type": "code",
   "execution_count": 9,
   "metadata": {},
   "outputs": [
    {
     "name": "stderr",
     "output_type": "stream",
     "text": [
      "/Users/Andrew/anaconda2/lib/python2.7/site-packages/matplotlib/figure.py:2299: UserWarning: This figure includes Axes that are not compatible with tight_layout, so results might be incorrect.\n",
      "  warnings.warn(\"This figure includes Axes that are not compatible \"\n"
     ]
    },
    {
     "data": {
      "image/png": "[encoded data removed]",
      "text/plain": [
       "<Figure size 864x432 with 2 Axes>"
      ]
     },
     "metadata": {},
     "output_type": "display_data"
    }
   ],
   "source": [
    "cm = plt.get_cmap('viridis')\n",
    "fig, ax = plt.subplots(nrows=1, ncols=1, figsize=(12,6),facecolor='w', edgecolor='k')\n",
    "\n",
    "#we have to transpose the array because it's around the wrong way\n",
    "plot = ax.imshow(continental_latitude_area_array.T, origin='lower', extent=[520,1000,-90,90], cmap=cm, interpolation='None')\n",
    "cax = fig.add_axes([0.1, 0, 0.8, 0.05])\n",
    "cbar = fig.colorbar(plot, cax=cax, orientation='horizontal')\n",
    "cbar.set_label('Continental Area (km2)')\n",
    "ax.set_xlim(1000,520)\n",
    "ax.set_xlabel('Time (Ma)')\n",
    "ax.set_ylabel('Latitude')\n",
    "plt.tight_layout()"
   ]
  },
  {
   "cell_type": "code",
   "execution_count": 10,
   "metadata": {},
   "outputs": [
    {
     "data": {
      "image/png": "[encoded data removed]",
      "text/plain": [
       "<Figure size 864x432 with 2 Axes>"
      ]
     },
     "metadata": {},
     "output_type": "display_data"
    }
   ],
   "source": [
    "cm = plt.get_cmap('viridis')\n",
    "fig, ax = plt.subplots(nrows=1, ncols=1, figsize=(12,6),facecolor='w', edgecolor='k')\n",
    "\n",
    "#we have to transpose the array because it's around the wrong way\n",
    "plot = ax.imshow(subduction_latitude_length_array.T, origin='lower', extent=[520,1000,-90,90], cmap=cm, interpolation='None')\n",
    "cax = fig.add_axes([0.1, 0, 0.8, 0.05])\n",
    "cbar = fig.colorbar(plot, cax=cax, orientation='horizontal')\n",
    "cbar.set_label('Subduction Length (km)')\n",
    "ax.set_xlim(1000,520)\n",
    "ax.set_xlabel('Time (Ma)')\n",
    "ax.set_ylabel('Latitude')\n",
    "plt.tight_layout()"
   ]
  },
  {
   "cell_type": "code",
   "execution_count": null,
   "metadata": {},
   "outputs": [],
   "source": []
  }
 ],
 "metadata": {
  "kernelspec": {
   "display_name": "Python 2",
   "language": "python",
   "name": "python2"
  },
  "language_info": {
   "codemirror_mode": {
    "name": "ipython",
    "version": 2
   },
   "file_extension": ".py",
   "mimetype": "text/x-python",
   "name": "python",
   "nbconvert_exporter": "python",
   "pygments_lexer": "ipython2",
   "version": "2.7.16"
  }
 },
 "nbformat": 4,
 "nbformat_minor": 1
}
