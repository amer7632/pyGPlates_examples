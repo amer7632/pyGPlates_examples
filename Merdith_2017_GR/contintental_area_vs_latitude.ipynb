{
 "cells": [
  {
   "cell_type": "code",
   "execution_count": 5,
   "metadata": {},
   "outputs": [],
   "source": [
    "import pygplates\n",
    "import numpy as np\n",
    "import pandas as pd\n",
    "import healpy\n",
    "import math\n",
    "import matplotlib.pyplot as plt\n",
    "%matplotlib inline"
   ]
  },
  {
   "cell_type": "code",
   "execution_count": 6,
   "metadata": {},
   "outputs": [],
   "source": [
    "def create_gpml_velocity_feature(longitude_array,latitude_array,filename=None,feature_type=None):\n",
    "# function to make a velocity mesh nodes at an arbitrary set of points\n",
    "# Long and Lat are assumed to be 1d arrays. \n",
    "\n",
    "    multi_point = pygplates.MultiPointOnSphere(zip(latitude_array,longitude_array))\n",
    "\n",
    "    # Create a feature containing the multipoint feature. \n",
    "    # optionally, define as 'MeshNode' type, so that GPlates will recognise it as a velocity layer\n",
    "    if feature_type=='MeshNode':\n",
    "        meshnode_feature = pygplates.Feature(pygplates.FeatureType.create_from_qualified_string('gpml:MeshNode'))\n",
    "        meshnode_feature.set_name('Velocity Mesh Nodes')\n",
    "    else:\n",
    "        meshnode_feature = pygplates.Feature()\n",
    "        meshnode_feature.set_name('Multipoint Feature')\n",
    "    \n",
    "    meshnode_feature.set_geometry(multi_point)\n",
    "    \n",
    "    output_feature_collection = pygplates.FeatureCollection(meshnode_feature)\n",
    "    \n",
    "    if filename is not None:\n",
    "        output_feature_collection.write(filename)\n",
    "    else:\n",
    "        return output_feature_collection\n",
    "\n",
    "def create_gpml_healpix_mesh(nSide,filename=None,feature_type=None):\n",
    "\n",
    "    # call the function to create a healpix array\n",
    "    #nSide = 32\n",
    "    othetas,ophis = healpy.pix2ang(nSide,np.arange(12*nSide**2))\n",
    "    othetas = np.pi/2-othetas\n",
    "    ophis[ophis>np.pi] -= np.pi*2\n",
    "\n",
    "    lats = np.degrees(othetas) \n",
    "    lons = np.degrees(ophis)\n",
    "\n",
    "    # call the function to create a multipoint feature, with user-defined type\n",
    "    output_feature_collection = create_gpml_velocity_feature(lons,lats,filename,feature_type)\n",
    "\n",
    "    if filename is not None:  # This is superfluous, since file has already been written in previous line???\n",
    "        output_feature_collection.write(filename)\n",
    "    else:\n",
    "        return output_feature_collection"
   ]
  },
  {
   "cell_type": "code",
   "execution_count": 8,
   "metadata": {},
   "outputs": [],
   "source": [
    "#setbasedir for loading reconstruction files\n",
    "basedir = '/Users/Andrew/Documents/PhD/Scripts/Python_Scripts/pyGPlates_examples/Merdith_2017_GR/Sample_data/'\n",
    "rotation_model = pygplates.RotationModel('%sMer17_Neoproterozoic_rotations.rot' % basedir)\n",
    "polygons = pygplates.FeatureCollection('%sMer17_Neoproterozoic_shapes.gpml' % basedir)"
   ]
  },
  {
   "cell_type": "code",
   "execution_count": 9,
   "metadata": {},
   "outputs": [],
   "source": [
    "#create equal area mesh\n",
    "latlon_mesh = create_gpml_healpix_mesh(32)"
   ]
  },
  {
   "cell_type": "code",
   "execution_count": 13,
   "metadata": {},
   "outputs": [
    {
     "name": "stdout",
     "output_type": "stream",
     "text": [
      "number of points 12288\n",
      "surface area of the earth 510064471.91\n",
      "area per point 41509.1529875\n"
     ]
    }
   ],
   "source": [
    "#we want to bin data into 5° latitudes\n",
    "#set up bins and how much area each point covers here\n",
    "\n",
    "#create bins\n",
    "bins = np.linspace(-90,90,185/5)\n",
    "\n",
    "#area covered by each point\n",
    "number_of_points = len(pt_lat)\n",
    "print 'number of points', len(pt_lat)\n",
    "\n",
    "#surface area of the earth\n",
    "r = 6371\n",
    "surface_area = 4 * np.pi * r ** 2\n",
    "print 'surface area of the earth', surface_area\n",
    "\n",
    "area_per_point = surface_area/number_of_points\n",
    "\n",
    "print 'area per point', area_per_point\n"
   ]
  },
  {
   "cell_type": "code",
   "execution_count": 14,
   "metadata": {},
   "outputs": [],
   "source": [
    "# Resolve our topological plate polygons (and deforming networks) to the current 'time'.\n",
    "start_time = 520\n",
    "end_time = 1000\n",
    "time_step = 10\n",
    "\n",
    "latitude_points = []\n",
    "latlon_array = []\n",
    "\n",
    "for i in latlon_mesh:\n",
    "    for point in i.get_geometry():\n",
    "        latlon_array.append(point.to_lat_lon())\n"
   ]
  },
  {
   "cell_type": "code",
   "execution_count": 277,
   "metadata": {
    "scrolled": true
   },
   "outputs": [],
   "source": [
    "# Resolve our topological plate polygons (and deforming networks) to the current 'time'.\n",
    "\n",
    "#set times, 520 to 1000 in 10 Ma steps\n",
    "times = np.arange(520,1000,10)\n",
    "latitude_points = []\n",
    "latlon_array = []\n",
    "\n",
    "#this creates an array of lat/lons of our mesh which we use to query the amount of continental mass at each point\n",
    "for i in latlon_mesh:\n",
    "    for point in i.get_geometry():\n",
    "        latlon_array.append(point.to_lat_lon())\n",
    "\n",
    "for time in times:\n",
    "    #print time\n",
    "    tmp_lat_points = []\n",
    "    reconstructed_features = []\n",
    "    \n",
    "    pygplates.reconstruct(polygons, \n",
    "                          rotation_model, \n",
    "                          reconstructed_features, \n",
    "                          time)\n",
    "    \n",
    "    for poly in reconstructed_features:\n",
    "        poly_geom = poly.get_reconstructed_geometry()\n",
    "\n",
    "        for i in latlon_array:\n",
    "            if poly_geom.is_point_in_polygon(i):\n",
    "                #print i[0]\n",
    "                tmp_lat_points.append(i[0])\n",
    "    tmp_data = np.histogram(tmp_lat_points, bins)\n",
    "    tmp_area = tmp_data[0] * area_per_point\n",
    "    latitude_points.append(tmp_area)"
   ]
  },
  {
   "cell_type": "code",
   "execution_count": 278,
   "metadata": {},
   "outputs": [],
   "source": [
    "#turn into an array so we can plot it as a heatmap\n",
    "latitude_points_array = np.stack(latitude_points, axis=0 )\n",
    "\n",
    "#save data as a csv if you want\n",
    "np.savetxt('cont_area_vs_lat.csv', latitude_points_array, delimiter=',')"
   ]
  },
  {
   "cell_type": "code",
   "execution_count": 286,
   "metadata": {},
   "outputs": [
    {
     "name": "stderr",
     "output_type": "stream",
     "text": [
      "/Users/Andrew/anaconda2/lib/python2.7/site-packages/matplotlib/figure.py:2299: UserWarning: This figure includes Axes that are not compatible with tight_layout, so results might be incorrect.\n",
      "  warnings.warn(\"This figure includes Axes that are not compatible \"\n"
     ]
    },
    {
     "data": {
      "image/png": "[encoded data removed]",
      "text/plain": [
       "<Figure size 864x864 with 2 Axes>"
      ]
     },
     "metadata": {},
     "output_type": "display_data"
    }
   ],
   "source": [
    "cm = plt.get_cmap('viridis')\n",
    "fig, ax = plt.subplots(nrows=1, ncols=1, figsize=(12,12),facecolor='w', edgecolor='k')\n",
    "\n",
    "#we have to transpose the array because it's around the wrong way\n",
    "plot = ax.imshow(latitude_points_array.T, origin='lower', extent=[520,1000,-90,90], cmap=cm, interpolation='None')\n",
    "cax = fig.add_axes([0.1, 0.22, 0.8, 0.05])\n",
    "cbar = fig.colorbar(plot, cax=cax, orientation='horizontal')\n",
    "cbar.set_label('Continental Area (km2)')\n",
    "ax.set_xlim(1000,520)\n",
    "ax.set_xlabel('Time (Ma)')\n",
    "ax.set_ylabel('Latitude')\n",
    "plt.tight_layout()"
   ]
  }
 ],
 "metadata": {
  "kernelspec": {
   "display_name": "Python 2",
   "language": "python",
   "name": "python2"
  },
  "language_info": {
   "codemirror_mode": {
    "name": "ipython",
    "version": 2
   },
   "file_extension": ".py",
   "mimetype": "text/x-python",
   "name": "python",
   "nbconvert_exporter": "python",
   "pygments_lexer": "ipython2",
   "version": "2.7.16"
  }
 },
 "nbformat": 4,
 "nbformat_minor": 1
}
