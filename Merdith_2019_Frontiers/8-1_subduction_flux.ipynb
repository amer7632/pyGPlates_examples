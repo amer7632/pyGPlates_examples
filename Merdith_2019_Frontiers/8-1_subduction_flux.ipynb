{
 "cells": [
  {
   "cell_type": "markdown",
   "metadata": {},
   "source": [
    "Okay, this is getting to the pointy end a bit. In this notebook we take our grids that we made in notebook 6 (6_GMT_processing) and use them, along with the plate boundaries of the plate model to get the intersection with subduction zones and from that, the subduction flux of serpentinite and/or carbonate (or any other variable one desires). We have, of course, two different models (using plate model spreading rates or Pacific Ocean spreading rates) as well as three different ways of measuring uncertainty (see notebook 3); full, batch or individual. We prefer to use 'batch' uncertainty, as it plays a midpoint between full and individual, thus accommodating the inherent uncertainty in spreading rates in the plate model. For serpentinite it is recommended not use 'full' as the bimodal distribution will produce a very (very) large error bar.\n",
    "\n",
    "Futhermore, there is a separate conceptual issue, especially with using the POSR vs PMSR models, and in the  implementation in the paper.\n",
    "\n",
    "- In original publication POSR used vertical area (i.e. distance between two hypothetical isochrons) for times prior to 160 Ma in order to deail with uncertainty in ocean basin reconstructions. We also did this with the PMSR values to be consistent.\n",
    "- This causes a problem though, because when we go to sub flux we use the passed in spreading rate instead of the convergence rate to determine the third dimension of our flux (along with thickness and subduction segment length). E.g. vertical area approach: flux = thickness • spreading rate at point creation • length of subduction zone. vs. thickness • local convergence rate • length of subduction zone\n",
    "- This means crust formed at slow spreading ridges (i.e. high serpentinite) but subdcuted at times of fast convergence (i.e. late Cretaceous) are likely to underestimate the amount of serpentinite (and the converse is true). This is probably not so important for carbon, as inorganic carbon is stored to a similar order of magnitude irrispective of MOR dynamics.\n",
    "- In the publication we tried to minimise this be weighting these cases by multiplying the flux by the local convergence rate-to-global mean convergence rate ratio (that later of which is ~65 mm/a). This should have the effect of increasing the estimates during times of high convergence rate in the plate model and lowering the estimates during times of low convergence rates.\n",
    "- There are two problems though that we did not consider at the time, and now I think are important to address:\n",
    "    1) Serpentinite has a bimodal disrtibution and forms preferentially at slow ridges, therefore it should be divided by a value closer to ~20 mm/a (here we opt for 17 mm/a as the average spreading rate of ridges spreading more slowly than 40 mm/a) to reflect this, rather than 65 mm/a\n",
    "    2) For times after 160 Ma (when we have a good seafloor spreading record) we still used the vertical area. In these cases we should be using the local convergence rate from the plate model instead of vertical area, as ther e is a seafloor spreading history. This means we have to divide these values by the spreading rate at creation to go back to point thickness, then use local convergence rate.\n",
    "\n",
    "In the future I think the best approach will be to somehow use the spreading rate at time X (for pre 160 Ma) as a proxy for convergence rate also at time X, of the great circle drawn between the mid ocean ridge segment and the subduction zone. Or perhaps sampling the Pacific spreading distribution for convergence rate as well. But I'm not quite sure if the current framework would support that super well.\n",
    "\n",
    "Implementing these changes leads to a revision, in particular, in the Cretaceous of serpentinite subduction flux. This is partly because in the plate model the pacific is slowly spreading between 170 and 140 Ma, then very quickly spreading between 140 and 100 Ma.\n"
   ]
  },
  {
   "cell_type": "code",
   "execution_count": 48,
   "metadata": {},
   "outputs": [],
   "source": [
    "import numpy as np\n",
    "import pygplates\n",
    "import pandas as pd\n",
    "import time as tme\n",
    "import math\n",
    "import subduction_convergence\n",
    "import raster_query\n",
    "import pickle\n",
    "import csv"
   ]
  },
  {
   "cell_type": "code",
   "execution_count": 49,
   "metadata": {},
   "outputs": [],
   "source": [
    "#set base directories\n",
    "datadir = '/Users/Andrew/Documents/PhD/Scripts/Python_Scripts/pyGPlates_examples/Merdith_2019_Frontiers/Sample_Data/'\n",
    "loaddir = '/Users/Andrew/Documents/PhD/Scripts/Python_Scripts/pyGPlates_examples/Merdith_2019_Frontiers/output/'\n",
    "savedir = '/Users/Andrew/Documents/PhD/Scripts/Python_Scripts/pyGPlates_examples/Merdith_2019_Frontiers/output/results/'\n",
    "\n",
    "rotation_filename = '%sMatthews_etal_GPC_2016_410-0Ma_GK07.rot' % datadir\n",
    "topology_dir = datadir\n",
    "thickness_grid_dir = loaddir + 'rasters'\n",
    "#some variables\n",
    "tessellation_threshold_radians = math.radians(0.5)\n",
    "search_radius_radians = math.radians(20.0)\n",
    "smoothing_radius_radians = None\n",
    "\n",
    "#density carbon g/cm3\n",
    "carbon_density = 2.26\n",
    "carbon_densitygkm3 = float(carbon_density * 100000**3)\n",
    "carbon_densitygm3 = float(carbon_density *100**3)\n",
    "\n",
    "#density serpentinites g/cm3\n",
    "serpentinites_density = 3.00 #ranges between 2.7-3.3\n",
    "serpentinites_densitghhygkm3 = float(serpentinites_density * 100000**3)\n",
    "serpentinites_densitygm3 = float(serpentinites_density *100**3)"
   ]
  },
  {
   "cell_type": "code",
   "execution_count": 50,
   "metadata": {},
   "outputs": [],
   "source": [
    "def running_mean(x, N, mode):\n",
    "    \n",
    "    '''\n",
    "    uses np.convolve to return a running mean.\n",
    "    X: 1D array or list of values to compute running mean\n",
    "    N: window size of running mean\n",
    "    mode: valid, full or same (see https://stackoverflow.com/questions/13728392/moving-average-or-running-mean\n",
    "    for an example of the difference). I default to 'valid'.\n",
    "    '''\n",
    "    #x = np.pad(x, (0, N // 2), mode='constant', constant_values = np.nan)\n",
    "    return np.convolve(x, np.ones((N,))/N, mode=mode)"
   ]
  },
  {
   "cell_type": "code",
   "execution_count": 51,
   "metadata": {},
   "outputs": [],
   "source": [
    "def get_distribution(variable, method):\n",
    "    \n",
    "    '''\n",
    "    Accesses a pickle file made in '3_Uncertainty_Distributions_per_spreading_rate' which stores a\n",
    "    distribution of expected variable values at different spreading rates. Three approaches depenting on 'method'.\n",
    "\n",
    "    Variable (String): What variable (e.g. Carbon, serpentinite) distirbution we want access to.\n",
    "    Method (String): What distribution method we want to access; (1) individual; (2) batch; (3) full\n",
    "    \n",
    "    1) Distribution for each spreading rate is recovered and sampled to perturb\n",
    "    2) Distirbution for each spreading rate classificaiton is recovered and sampled to perturb\n",
    "    3) Full distribution for all spreading rates are recovered\n",
    "    '''\n",
    "    \n",
    "    with open('%s%s_thickness_%s.pkl' % (loaddir, variable, method), 'rb') as f:\n",
    "        distribution = pickle.load(f)\n",
    "        \n",
    "    return distribution"
   ]
  },
  {
   "cell_type": "code",
   "execution_count": 52,
   "metadata": {},
   "outputs": [],
   "source": [
    "def calc_subducting_sediment_volume(time, \n",
    "                                    samples, \n",
    "                                    variable,\n",
    "                                    distribution,\n",
    "                                    thickness_threshold, \n",
    "                                    uncertainty_method, \n",
    "                                    PMSR=True):\n",
    "    \n",
    "    '''\n",
    "    Variable (string): What variable (e.g. Carbon, serpentinite) we are calculating.\n",
    "    Thickness_threshold (float): Only used for POSR, to undo some large vales that flag whether a point was made\n",
    "    under POSR or PMSR.\n",
    "    Uncertainty_method (string): What distribution method we want to access; (1) individual; (2) batch; (3) full\n",
    "    PMSR: True for PMSR, or False for POSR\n",
    "    '''\n",
    "    \n",
    "    if PMSR:\n",
    "        key='PMSR'\n",
    "    \n",
    "    else:\n",
    "        key='POSR'\n",
    "    print (key)\n",
    "\n",
    "    #to normalise values against convergence rate if POSR\n",
    "    mean_spreading_rate = 64.96\n",
    "    mean_spreading_rate_serp = 17.3\n",
    "    \n",
    "    #load topologies and thicknesses\n",
    "    rotation_model = pygplates.RotationModel(rotation_filename)\n",
    "    topology_features = pygplates.FeaturesFunctionArgument(\n",
    "            (topology_dir + 'Matthews_etal_GPC_2016_MesozoicCenozoic_PlateTopologies.gpmlz',\n",
    "            topology_dir +  'Matthews_etal_GPC_2016_Paleozoic_PlateTopologies.gpmlz')).get_features()\n",
    "    spreading_grid_filename = thickness_grid_dir + '/{}_SR_{}_Ma.grd'.format(key, time)\n",
    "    thickness_grid_filename = thickness_grid_dir + '/{}_{}_{}_Ma.grd'.format(key, variable, time)\n",
    "\n",
    "    #get subduction data\n",
    "    subduction_convergence_data = subduction_convergence.subduction_convergence(\n",
    "                rotation_model,\n",
    "                topology_features,\n",
    "                tessellation_threshold_radians,\n",
    "                time)\n",
    "    subduction_points = [pygplates.PointOnSphere(data[1], data[0]) for data in subduction_convergence_data]\n",
    "    \n",
    "    #We want the spreading rate of each point when it was created\n",
    "    spreading_rate_at_points_creation = raster_query.query_raster_at_points(\n",
    "                                                        spreading_grid_filename,\n",
    "                                                        subduction_points,\n",
    "                                                        search_radius_radians,\n",
    "                                                        smoothing_radius_radians)\n",
    "    #\n",
    "    #Sample the thickness raster at the subduction points.      \n",
    "    variable_thicknesses = raster_query.query_raster_at_points(\n",
    "            thickness_grid_filename,\n",
    "            subduction_points,\n",
    "            search_radius_radians,\n",
    "            smoothing_radius_radians)\n",
    "\n",
    "    \n",
    "    # Iterate over subduction points/thicknesses and calculate statistics (including subducting volume).\n",
    "    #we want it per in km3 per Ma\n",
    "    total_subducting_length_kilometres = np.zeros([samples])\n",
    "    total_subducting_volume_km_3_per_Ma = np.zeros([samples])\n",
    "\n",
    "    for subduction_point_index, thickness in enumerate(variable_thicknesses):\n",
    "        if math.isnan(thickness):\n",
    "            continue\n",
    "        \n",
    "        local_spreading_rate_at_creation = np.round(spreading_rate_at_points_creation[subduction_point_index])\n",
    "        \n",
    "        #round up incase\n",
    "        if local_spreading_rate_at_creation == 0:\n",
    "            local_spreading_rate_at_creation = 1\n",
    "        \n",
    "        if uncertainty_method == 'individual':\n",
    "            if local_spreading_rate_at_creation > 100:\n",
    "                local_spreading_rate_at_creation = 100\n",
    "                \n",
    "            variable_key = int(local_spreading_rate_at_creation)\n",
    "\n",
    "            variation = distribution[variable_key-1]\n",
    "            \n",
    "        if uncertainty_method == 'batch':\n",
    "            if local_spreading_rate_at_creation <= 20:\n",
    "                variable_key = 0\n",
    "            elif 20 < local_spreading_rate_at_creation <= 40:\n",
    "                variable_key = 1\n",
    "            elif 40 < local_spreading_rate_at_creation <= 70:\n",
    "                variable_key = 0\n",
    "            else:\n",
    "                variable_key = 3\n",
    "\n",
    "            variation = distribution[variable_key]\n",
    "        \n",
    "        if uncertainty_method == 'full':\n",
    "                    variation = distribution\n",
    "            \n",
    "#        print (local_spreading_rate_at_creation)            \n",
    "        #organise our perturbation to generate uncertainty\n",
    "        \n",
    "        #variation = distribution[20]\n",
    "        mean_variation = np.mean(variation)\n",
    "\n",
    "\n",
    "        perturbation = variation / mean_variation\n",
    "    \n",
    "        #print (perturbation)\n",
    "        #testing here\n",
    "        #it might be in the spherical interpolation that value average to include a basaltic component\n",
    "        #in a slow/ultraslow spreading rate, in which case a '0' value would not fully represent\n",
    "        #what is preserved. So in this case we just put 1 for now. But to be rectified, as this could be\n",
    "        #a way to ensure more variability within the final results (i.e. resum the thickness at each point\n",
    "        #if there's a non gabbroic volcanic component, then that crustal thickness is greater?)\n",
    "        perturbation[perturbation == 0] = 1\n",
    "\n",
    "        subduction_convergence_item = subduction_convergence_data[subduction_point_index]\n",
    "        \n",
    "        subducting_lon = subduction_convergence_item[0]\n",
    "        subducting_lat = subduction_convergence_item[1]\n",
    "        convergence_velocity_magnitude_cm_per_yr = subduction_convergence_item[2]\n",
    "        convergence_obliquity_degrees = subduction_convergence_item[3]\n",
    "        subducting_length_degrees = subduction_convergence_item[6]\n",
    "        \n",
    "        #eh unit conversions, we want the final result to be in km3/Ma\n",
    "        subducting_length_kilometres = (\n",
    "            math.radians(subducting_length_degrees) * pygplates.Earth.mean_radius_in_kms)\n",
    "\n",
    "        total_subducting_length_kilometres += subducting_length_kilometres\n",
    "        convergence_normal_velocity_km_per_Ma = (\n",
    "            # 1e-5 converts cm/y to km/y...\n",
    "            1e-5 * math.fabs(convergence_velocity_magnitude_cm_per_yr) *\n",
    "            # Negative convergence handled by cos(obliquity_angle)...\n",
    "            math.cos(math.radians(convergence_obliquity_degrees)) * 1e6)\n",
    "        \n",
    "        #because we don't mask, some points may be warped with spinterpolate to be haflway between small and big \n",
    "        #usually on the order of 10^1. in this case we divide by the difference by 1000\n",
    "        #0.01 and 5 for carbon\n",
    "        #if np.abs(thickness) > 0.01 and np.abs(thickness) < 5:\n",
    "        #    prev_ind = subduction_point_index\n",
    "        #    thickness = thicknesses[subduction_point_index-1]\n",
    "        \n",
    "        #if PMSR:\n",
    "        #    spreading_convergence_ratio = np.nan\n",
    "        #    subducting_volume_km_3_per_Ma = (\n",
    "        #        np.abs(thickness) * perturbation *\\\n",
    "        #        subducting_length_kilometres * convergence_normal_velocity_km_per_Ma)\n",
    "\n",
    "        \n",
    "        if np.abs(thickness) > thickness_threshold:\n",
    "            print('here')\n",
    "            #we are in POSR territory\n",
    "            #pass in the appropriate thickness_threshold\n",
    "\n",
    "#            if np.abs(thickness) > thickness_threshold:\n",
    "            #undoes our fix to tell crust formed before 160 Ma from ocean crust afterwards\n",
    "            thickness = thickness * 1e-6\n",
    "\n",
    "            #spreading convergence ratio\n",
    "            #limits the [conceptual] effect of POSR where more/less crust is created at a ridge\n",
    "            #that then what is passed into the equation\n",
    "            if time > 160:\n",
    "                spreading_convergence_ratio = convergence_normal_velocity_km_per_Ma/mean_spreading_rate\n",
    "                \n",
    "            else:\n",
    "                spreading_convergence_ratio = convergence_normal_velocity_km_per_Ma/local_spreading_rate_at_creation\n",
    "                                \n",
    "            subducting_volume_km_3_per_Ma = (\n",
    "            np.abs(thickness) * subducting_length_kilometres * spreading_convergence_ratio *perturbation)#\n",
    "        else:\n",
    "\n",
    "            subducting_volume_km_3_per_Ma = np.abs(\n",
    "            thickness * subducting_length_kilometres * convergence_normal_velocity_km_per_Ma * perturbation)#\n",
    "\n",
    "        total_subducting_volume_km_3_per_Ma += subducting_volume_km_3_per_Ma\n",
    "\n",
    "    return (total_subducting_volume_km_3_per_Ma)"
   ]
  },
  {
   "cell_type": "code",
   "execution_count": 64,
   "metadata": {
    "scrolled": true
   },
   "outputs": [
    {
     "name": "stdout",
     "output_type": "stream",
     "text": [
      "0\n",
      "PMSR\n",
      "--- 30.4801299572 seconds for timestep ---\n",
      "1\n",
      "PMSR\n",
      "--- 28.3154499531 seconds for timestep ---\n",
      "2\n",
      "PMSR\n",
      "--- 34.4042289257 seconds for timestep ---\n",
      "3\n",
      "PMSR\n",
      "--- 31.1325120926 seconds for timestep ---\n",
      "4\n",
      "PMSR\n",
      "--- 32.1917998791 seconds for timestep ---\n",
      "5\n",
      "PMSR\n",
      "--- 33.2042229176 seconds for timestep ---\n",
      "6\n",
      "PMSR\n",
      "--- 41.3513839245 seconds for timestep ---\n",
      "7\n",
      "PMSR\n",
      "--- 52.6122581959 seconds for timestep ---\n",
      "8\n",
      "PMSR\n",
      "--- 54.5794858932 seconds for timestep ---\n",
      "9\n",
      "PMSR\n",
      "--- 47.8592700958 seconds for timestep ---\n",
      "10\n",
      "PMSR\n",
      "--- 42.7676868439 seconds for timestep ---\n",
      "11\n",
      "PMSR\n",
      "--- 46.0814831257 seconds for timestep ---\n",
      "12\n",
      "PMSR\n",
      "--- 38.9373631477 seconds for timestep ---\n",
      "13\n",
      "PMSR\n",
      "--- 29.1846649647 seconds for timestep ---\n",
      "14\n",
      "PMSR\n",
      "--- 30.9128859043 seconds for timestep ---\n",
      "15\n",
      "PMSR\n"
     ]
    },
    {
     "name": "stderr",
     "output_type": "stream",
     "text": [
      "subduction_convergence.py:34: RuntimeWarning: Unable to find the subducting plate of the subducting shared sub-segment \"Trench Baja California COB MG 4-30-07\" at 15Ma\n",
      "  warnings.warn(message_string, RuntimeWarning)\n",
      "subduction_convergence.py:34: RuntimeWarning: Unable to find the overriding and subducting plates of the subducting shared sub-segment \"Japan sub zone fromEarthByte cob MG 4-20-07\" at 15Ma\n",
      "  warnings.warn(message_string, RuntimeWarning)\n",
      "subduction_convergence.py:34: RuntimeWarning: Unable to find the overriding and subducting plates of the subducting shared sub-segment \"Japan sub zone fromEarthByte cob MG 4-20-07 for IZA part 2\" at 15Ma\n",
      "  warnings.warn(message_string, RuntimeWarning)\n",
      "subduction_convergence.py:34: RuntimeWarning: Unable to find the overriding and subducting plates of the subducting shared sub-segment \"Aleutian and Bering Sea Masking Polygon\" at 15Ma\n",
      "  warnings.warn(message_string, RuntimeWarning)\n",
      "subduction_convergence.py:34: RuntimeWarning: Unable to find the overriding and subducting plates of the subducting shared sub-segment \"Shirshov Ridge Subduction\" at 15Ma\n",
      "  warnings.warn(message_string, RuntimeWarning)\n"
     ]
    },
    {
     "name": "stdout",
     "output_type": "stream",
     "text": [
      "--- 29.6119589806 seconds for timestep ---\n",
      "16\n",
      "PMSR\n"
     ]
    },
    {
     "name": "stderr",
     "output_type": "stream",
     "text": [
      "subduction_convergence.py:34: RuntimeWarning: Unable to find the overriding and subducting plates of the subducting shared sub-segment \"Japan sub zone fromEarthByte cob MG 4-20-07\" at 16Ma\n",
      "  warnings.warn(message_string, RuntimeWarning)\n",
      "subduction_convergence.py:34: RuntimeWarning: Unable to find the overriding and subducting plates of the subducting shared sub-segment \"Japan sub zone fromEarthByte cob MG 4-20-07 for IZA part 1\" at 16Ma\n",
      "  warnings.warn(message_string, RuntimeWarning)\n",
      "subduction_convergence.py:34: RuntimeWarning: Unable to find the overriding and subducting plates of the subducting shared sub-segment \"Japan sub zone fromEarthByte cob MG 4-20-07 for IZA part 2\" at 16Ma\n",
      "  warnings.warn(message_string, RuntimeWarning)\n"
     ]
    },
    {
     "name": "stdout",
     "output_type": "stream",
     "text": [
      "--- 33.1176440716 seconds for timestep ---\n",
      "17\n",
      "PMSR\n"
     ]
    },
    {
     "name": "stderr",
     "output_type": "stream",
     "text": [
      "subduction_convergence.py:34: RuntimeWarning: Unable to find the overriding and subducting plates of the subducting shared sub-segment \"Kamchatka SZ from EarthByte COB at 0Ma -- MG 4/20/07\" at 17Ma\n",
      "  warnings.warn(message_string, RuntimeWarning)\n",
      "subduction_convergence.py:34: RuntimeWarning: Unable to find the overriding and subducting plates of the subducting shared sub-segment \"Indonesian bndy w AUS-mg\" at 17Ma\n",
      "  warnings.warn(message_string, RuntimeWarning)\n",
      "subduction_convergence.py:34: RuntimeWarning: Unable to find the overriding and subducting plates of the subducting shared sub-segment \"Japan sub zone fromEarthByte cob MG 4-20-07\" at 17Ma\n",
      "  warnings.warn(message_string, RuntimeWarning)\n",
      "subduction_convergence.py:34: RuntimeWarning: Unable to find the overriding plate of the subducting shared sub-segment \"\" at 17Ma\n",
      "  warnings.warn(message_string, RuntimeWarning)\n",
      "subduction_convergence.py:34: RuntimeWarning: Unable to find the overriding and subducting plates of the subducting shared sub-segment \"Japan sub zone fromEarthByte cob MG 4-20-07 for IZA part 1\" at 17Ma\n",
      "  warnings.warn(message_string, RuntimeWarning)\n",
      "subduction_convergence.py:34: RuntimeWarning: Unable to find the overriding and subducting plates of the subducting shared sub-segment \"Japan sub zone fromEarthByte cob MG 4-20-07 for IZA part 2\" at 17Ma\n",
      "  warnings.warn(message_string, RuntimeWarning)\n",
      "subduction_convergence.py:34: RuntimeWarning: Unable to find the overriding and subducting plates of the subducting shared sub-segment \"Java SZ\" at 17Ma\n",
      "  warnings.warn(message_string, RuntimeWarning)\n",
      "subduction_convergence.py:34: RuntimeWarning: Unable to find the subducting plate of the subducting shared sub-segment \"Trench Baja California COB MG 4-30-07\" at 17Ma\n",
      "  warnings.warn(message_string, RuntimeWarning)\n"
     ]
    },
    {
     "name": "stdout",
     "output_type": "stream",
     "text": [
      "--- 30.0357789993 seconds for timestep ---\n",
      "18\n",
      "PMSR\n"
     ]
    },
    {
     "name": "stderr",
     "output_type": "stream",
     "text": [
      "subduction_convergence.py:34: RuntimeWarning: Unable to find the overriding and subducting plates of the subducting shared sub-segment \"Japan sub zone fromEarthByte cob MG 4-20-07\" at 18Ma\n",
      "  warnings.warn(message_string, RuntimeWarning)\n",
      "subduction_convergence.py:34: RuntimeWarning: Unable to find the overriding and subducting plates of the subducting shared sub-segment \"Kamchatka SZ from EarthByte COB at 0Ma -- MG 4/20/07\" at 18Ma\n",
      "  warnings.warn(message_string, RuntimeWarning)\n",
      "subduction_convergence.py:34: RuntimeWarning: Unable to find the subducting plate of the subducting shared sub-segment \"Trench Baja California COB MG 4-30-07\" at 18Ma\n",
      "  warnings.warn(message_string, RuntimeWarning)\n",
      "subduction_convergence.py:34: RuntimeWarning: Unable to find the overriding plate of the subducting shared sub-segment \"\" at 18Ma\n",
      "  warnings.warn(message_string, RuntimeWarning)\n",
      "subduction_convergence.py:34: RuntimeWarning: Unable to find the overriding and subducting plates of the subducting shared sub-segment \"Japan sub zone fromEarthByte cob MG 4-20-07 for IZA part 2\" at 18Ma\n",
      "  warnings.warn(message_string, RuntimeWarning)\n",
      "subduction_convergence.py:34: RuntimeWarning: Unable to find the overriding and subducting plates of the subducting shared sub-segment \"Japan sub zone fromEarthByte cob MG 4-20-07 for IZA part 1\" at 18Ma\n",
      "  warnings.warn(message_string, RuntimeWarning)\n",
      "subduction_convergence.py:34: RuntimeWarning: Unable to find the overriding plate of the subducting shared sub-segment \"Alpine subduction clean\"\n",
      "  warnings.warn(message_string, RuntimeWarning)\n"
     ]
    },
    {
     "name": "stdout",
     "output_type": "stream",
     "text": [
      "--- 32.2461340427 seconds for timestep ---\n",
      "19\n",
      "PMSR\n"
     ]
    },
    {
     "name": "stderr",
     "output_type": "stream",
     "text": [
      "subduction_convergence.py:34: RuntimeWarning: Unable to find the overriding and subducting plates of the subducting shared sub-segment \"Japan sub zone fromEarthByte cob MG 4-20-07 for IZA part 2\" at 19Ma\n",
      "  warnings.warn(message_string, RuntimeWarning)\n",
      "subduction_convergence.py:34: RuntimeWarning: Unable to find the overriding and subducting plates of the subducting shared sub-segment \"Japan sub zone fromEarthByte cob MG 4-20-07 for IZA part 1\" at 19Ma\n",
      "  warnings.warn(message_string, RuntimeWarning)\n",
      "subduction_convergence.py:34: RuntimeWarning: Unable to find the subducting plate of the subducting shared sub-segment \"Trench Baja California COB MG 4-30-07\" at 19Ma\n",
      "  warnings.warn(message_string, RuntimeWarning)\n",
      "subduction_convergence.py:34: RuntimeWarning: Unable to find the overriding plate of the subducting shared sub-segment \"\" at 19Ma\n",
      "  warnings.warn(message_string, RuntimeWarning)\n",
      "subduction_convergence.py:34: RuntimeWarning: Unable to find the overriding and subducting plates of the subducting shared sub-segment \"Kamchatka SZ from EarthByte COB at 0Ma -- MG 4/20/07\" at 19Ma\n",
      "  warnings.warn(message_string, RuntimeWarning)\n",
      "subduction_convergence.py:34: RuntimeWarning: Unable to find the overriding and subducting plates of the subducting shared sub-segment \"Japan sub zone fromEarthByte cob MG 4-20-07\" at 19Ma\n",
      "  warnings.warn(message_string, RuntimeWarning)\n"
     ]
    },
    {
     "name": "stdout",
     "output_type": "stream",
     "text": [
      "--- 30.6088171005 seconds for timestep ---\n",
      "20\n",
      "PMSR\n"
     ]
    },
    {
     "name": "stderr",
     "output_type": "stream",
     "text": [
      "subduction_convergence.py:34: RuntimeWarning: Unable to find the overriding and subducting plates of the subducting shared sub-segment \"Japan sub zone fromEarthByte cob MG 4-20-07 for IZA part 1\" at 20Ma\n",
      "  warnings.warn(message_string, RuntimeWarning)\n",
      "subduction_convergence.py:34: RuntimeWarning: Unable to find the overriding and subducting plates of the subducting shared sub-segment \"Japan sub zone fromEarthByte cob MG 4-20-07 for IZA part 2\" at 20Ma\n",
      "  warnings.warn(message_string, RuntimeWarning)\n",
      "subduction_convergence.py:34: RuntimeWarning: Unable to find the overriding plate of the subducting shared sub-segment \"\" at 20Ma\n",
      "  warnings.warn(message_string, RuntimeWarning)\n",
      "subduction_convergence.py:34: RuntimeWarning: Unable to find the overriding and subducting plates of the subducting shared sub-segment \"Kamchatka SZ from EarthByte COB at 0Ma -- MG 4/20/07\" at 20Ma\n",
      "  warnings.warn(message_string, RuntimeWarning)\n",
      "subduction_convergence.py:34: RuntimeWarning: Unable to find the overriding and subducting plates of the subducting shared sub-segment \"Japan sub zone fromEarthByte cob MG 4-20-07\" at 20Ma\n",
      "  warnings.warn(message_string, RuntimeWarning)\n"
     ]
    },
    {
     "name": "stdout",
     "output_type": "stream",
     "text": [
      "--- 32.9151718616 seconds for timestep ---\n",
      "21\n",
      "PMSR\n"
     ]
    },
    {
     "name": "stderr",
     "output_type": "stream",
     "text": [
      "subduction_convergence.py:34: RuntimeWarning: Unable to find the overriding and subducting plates of the subducting shared sub-segment \"Kamchatka SZ from EarthByte COB at 0Ma -- MG 4/20/07\" at 21Ma\n",
      "  warnings.warn(message_string, RuntimeWarning)\n",
      "subduction_convergence.py:34: RuntimeWarning: Unable to find the overriding and subducting plates of the subducting shared sub-segment \"Proto Mussau Trench\" at 21Ma\n",
      "  warnings.warn(message_string, RuntimeWarning)\n",
      "subduction_convergence.py:34: RuntimeWarning: Unable to find the overriding and subducting plates of the subducting shared sub-segment \"Liguro subduction clean\" at 21Ma\n",
      "  warnings.warn(message_string, RuntimeWarning)\n",
      "subduction_convergence.py:34: RuntimeWarning: Unable to find the overriding and subducting plates of the subducting shared sub-segment \"Pacific Melanesia Subduction Zone\" at 21Ma\n",
      "  warnings.warn(message_string, RuntimeWarning)\n",
      "subduction_convergence.py:34: RuntimeWarning: Unable to find the overriding and subducting plates of the subducting shared sub-segment \"Japan sub zone fromEarthByte cob MG 4-20-07\" at 21Ma\n",
      "  warnings.warn(message_string, RuntimeWarning)\n",
      "subduction_convergence.py:34: RuntimeWarning: Unable to find the overriding and subducting plates of the subducting shared sub-segment \"Japan sub zone fromEarthByte cob MG 4-20-07 for IZA part 1\" at 21Ma\n",
      "  warnings.warn(message_string, RuntimeWarning)\n",
      "subduction_convergence.py:34: RuntimeWarning: Unable to find the overriding and subducting plates of the subducting shared sub-segment \"MelanesiaVityaz DiCaprio\" at 21Ma\n",
      "  warnings.warn(message_string, RuntimeWarning)\n",
      "subduction_convergence.py:34: RuntimeWarning: Unable to find the subducting plate of the subducting shared sub-segment \"Trench Baja California COB MG 4-30-07\" at 21Ma\n",
      "  warnings.warn(message_string, RuntimeWarning)\n"
     ]
    },
    {
     "name": "stdout",
     "output_type": "stream",
     "text": [
      "--- 32.5520129204 seconds for timestep ---\n",
      "22\n",
      "PMSR\n"
     ]
    },
    {
     "name": "stderr",
     "output_type": "stream",
     "text": [
      "subduction_convergence.py:34: RuntimeWarning: Unable to find the overriding plate of the subducting shared sub-segment \"Ligurian subduction clean\"\n",
      "  warnings.warn(message_string, RuntimeWarning)\n",
      "subduction_convergence.py:34: RuntimeWarning: Unable to find the overriding and subducting plates of the subducting shared sub-segment \"Japan sub zone fromEarthByte cob MG 4-20-07 for IZA part 1\" at 22Ma\n",
      "  warnings.warn(message_string, RuntimeWarning)\n",
      "subduction_convergence.py:34: RuntimeWarning: Unable to find the subducting plate of the subducting shared sub-segment \"Trench Baja California COB MG 4-30-07\" at 22Ma\n",
      "  warnings.warn(message_string, RuntimeWarning)\n",
      "subduction_convergence.py:34: RuntimeWarning: Unable to find the overriding and subducting plates of the subducting shared sub-segment \"Japan sub zone fromEarthByte cob MG 4-20-07\" at 22Ma\n",
      "  warnings.warn(message_string, RuntimeWarning)\n",
      "subduction_convergence.py:34: RuntimeWarning: Unable to find the overriding and subducting plates of the subducting shared sub-segment \"Kamchatka SZ from EarthByte COB at 0Ma -- MG 4/20/07\" at 22Ma\n",
      "  warnings.warn(message_string, RuntimeWarning)\n",
      "subduction_convergence.py:34: RuntimeWarning: Unable to find the overriding and subducting plates of the subducting shared sub-segment \"Kermadec Trench DiCaprio\" at 22Ma\n",
      "  warnings.warn(message_string, RuntimeWarning)\n"
     ]
    },
    {
     "name": "stdout",
     "output_type": "stream",
     "text": [
      "--- 33.4764881134 seconds for timestep ---\n",
      "23\n",
      "PMSR\n"
     ]
    },
    {
     "name": "stderr",
     "output_type": "stream",
     "text": [
      "subduction_convergence.py:34: RuntimeWarning: Unable to find the subducting plate of the subducting shared sub-segment \"Trench Baja California COB MG 4-30-07\" at 23Ma\n",
      "  warnings.warn(message_string, RuntimeWarning)\n",
      "subduction_convergence.py:34: RuntimeWarning: Unable to find the overriding and subducting plates of the subducting shared sub-segment \"Kamchatka SZ from EarthByte COB at 0Ma -- MG 4/20/07\" at 23Ma\n",
      "  warnings.warn(message_string, RuntimeWarning)\n",
      "subduction_convergence.py:34: RuntimeWarning: Unable to find the overriding and subducting plates of the subducting shared sub-segment \"Japan sub zone fromEarthByte cob MG 4-20-07 for IZA part 1\" at 23Ma\n",
      "  warnings.warn(message_string, RuntimeWarning)\n",
      "subduction_convergence.py:34: RuntimeWarning: Unable to find the overriding and subducting plates of the subducting shared sub-segment \"Japan sub zone fromEarthByte cob MG 4-20-07\" at 23Ma\n",
      "  warnings.warn(message_string, RuntimeWarning)\n"
     ]
    },
    {
     "name": "stdout",
     "output_type": "stream",
     "text": [
      "--- 28.9723770618 seconds for timestep ---\n",
      "24\n",
      "PMSR\n"
     ]
    },
    {
     "name": "stderr",
     "output_type": "stream",
     "text": [
      "subduction_convergence.py:34: RuntimeWarning: Unable to find the overriding and subducting plates of the subducting shared sub-segment \"Kamchatka SZ from EarthByte COB at 0Ma -- MG 4/20/07\" at 24Ma\n",
      "  warnings.warn(message_string, RuntimeWarning)\n",
      "subduction_convergence.py:34: RuntimeWarning: Unable to find the overriding and subducting plates of the subducting shared sub-segment \"Japan sub zone fromEarthByte cob MG 4-20-07 for IZA part 1\" at 24Ma\n",
      "  warnings.warn(message_string, RuntimeWarning)\n",
      "subduction_convergence.py:34: RuntimeWarning: Unable to find the subducting plate of the subducting shared sub-segment \"Trench Baja California COB MG 4-30-07\" at 24Ma\n",
      "  warnings.warn(message_string, RuntimeWarning)\n",
      "subduction_convergence.py:34: RuntimeWarning: Unable to find the overriding and subducting plates of the subducting shared sub-segment \"Japan sub zone fromEarthByte cob MG 4-20-07\" at 24Ma\n",
      "  warnings.warn(message_string, RuntimeWarning)\n"
     ]
    },
    {
     "name": "stdout",
     "output_type": "stream",
     "text": [
      "--- 29.0744400024 seconds for timestep ---\n",
      "25\n",
      "PMSR\n"
     ]
    },
    {
     "name": "stderr",
     "output_type": "stream",
     "text": [
      "subduction_convergence.py:34: RuntimeWarning: Unable to find the overriding and subducting plates of the subducting shared sub-segment \"Proto Caroline arc\" at 25Ma\n",
      "  warnings.warn(message_string, RuntimeWarning)\n",
      "subduction_convergence.py:34: RuntimeWarning: Unable to find the overriding and subducting plates of the subducting shared sub-segment \"Aleutian and Bering Sea Masking Polygon\" at 25Ma\n",
      "  warnings.warn(message_string, RuntimeWarning)\n",
      "subduction_convergence.py:34: RuntimeWarning: Unable to find the overriding and subducting plates of the subducting shared sub-segment \"Kamchatka SZ from EarthByte COB at 0Ma -- MG 4/20/07\" at 25Ma\n",
      "  warnings.warn(message_string, RuntimeWarning)\n",
      "subduction_convergence.py:34: RuntimeWarning: Unable to find the overriding and subducting plates of the subducting shared sub-segment \"Japan sub zone fromEarthByte cob MG 4-20-07\" at 25Ma\n",
      "  warnings.warn(message_string, RuntimeWarning)\n",
      "subduction_convergence.py:34: RuntimeWarning: Unable to find the overriding and subducting plates of the subducting shared sub-segment \"Japan sub zone fromEarthByte cob MG 4-20-07 for IZA part 1\" at 25Ma\n",
      "  warnings.warn(message_string, RuntimeWarning)\n",
      "subduction_convergence.py:34: RuntimeWarning: Unable to find the overriding and subducting plates of the subducting shared sub-segment \"Shirshov Ridge Subduction\" at 25Ma\n",
      "  warnings.warn(message_string, RuntimeWarning)\n",
      "subduction_convergence.py:34: RuntimeWarning: Unable to find the subducting plate of the subducting shared sub-segment \"Trench Baja California COB MG 4-30-07\" at 25Ma\n",
      "  warnings.warn(message_string, RuntimeWarning)\n",
      "subduction_convergence.py:34: RuntimeWarning: Unable to find the overriding and subducting plates of the subducting shared sub-segment \"Western NAM subduction\" at 25Ma\n",
      "  warnings.warn(message_string, RuntimeWarning)\n",
      "subduction_convergence.py:34: RuntimeWarning: Unable to find the overriding and subducting plates of the subducting shared sub-segment \"East Philippine Isl Nthward Subduction DiCaprio\" at 25Ma\n",
      "  warnings.warn(message_string, RuntimeWarning)\n"
     ]
    },
    {
     "name": "stdout",
     "output_type": "stream",
     "text": [
      "--- 31.194051981 seconds for timestep ---\n",
      "26\n",
      "PMSR\n"
     ]
    },
    {
     "name": "stderr",
     "output_type": "stream",
     "text": [
      "subduction_convergence.py:34: RuntimeWarning: Unable to find the overriding and subducting plates of the subducting shared sub-segment \"Shirshov Ridge Subduction\" at 26Ma\n",
      "  warnings.warn(message_string, RuntimeWarning)\n",
      "subduction_convergence.py:34: RuntimeWarning: Unable to find the overriding and subducting plates of the subducting shared sub-segment \"Aleutian and Bering Sea Masking Polygon\" at 26Ma\n",
      "  warnings.warn(message_string, RuntimeWarning)\n",
      "subduction_convergence.py:34: RuntimeWarning: Unable to find the overriding and subducting plates of the subducting shared sub-segment \"Japan sub zone fromEarthByte cob MG 4-20-07\" at 26Ma\n",
      "  warnings.warn(message_string, RuntimeWarning)\n",
      "subduction_convergence.py:34: RuntimeWarning: Unable to find the overriding plate of the subducting shared sub-segment \"\" at 26Ma\n",
      "  warnings.warn(message_string, RuntimeWarning)\n",
      "subduction_convergence.py:34: RuntimeWarning: Unable to find the subducting plate of the subducting shared sub-segment \"Trench Baja California COB MG 4-30-07\" at 26Ma\n",
      "  warnings.warn(message_string, RuntimeWarning)\n",
      "subduction_convergence.py:34: RuntimeWarning: Unable to find the overriding and subducting plates of the subducting shared sub-segment \"Japan sub zone fromEarthByte cob MG 4-20-07 for IZA part 1\" at 26Ma\n",
      "  warnings.warn(message_string, RuntimeWarning)\n"
     ]
    },
    {
     "name": "stdout",
     "output_type": "stream",
     "text": [
      "--- 38.4842760563 seconds for timestep ---\n",
      "27\n",
      "PMSR\n"
     ]
    },
    {
     "name": "stderr",
     "output_type": "stream",
     "text": [
      "subduction_convergence.py:34: RuntimeWarning: Unable to find the overriding and subducting plates of the subducting shared sub-segment \"Aleutian and Bering Sea Masking Polygon\" at 27Ma\n",
      "  warnings.warn(message_string, RuntimeWarning)\n",
      "subduction_convergence.py:34: RuntimeWarning: Unable to find the overriding and subducting plates of the subducting shared sub-segment \"Shirshov Ridge Subduction\" at 27Ma\n",
      "  warnings.warn(message_string, RuntimeWarning)\n",
      "subduction_convergence.py:34: RuntimeWarning: Unable to find the overriding plate of the subducting shared sub-segment \"\" at 27Ma\n",
      "  warnings.warn(message_string, RuntimeWarning)\n"
     ]
    },
    {
     "name": "stdout",
     "output_type": "stream",
     "text": [
      "--- 38.9555029869 seconds for timestep ---\n",
      "28\n",
      "PMSR\n"
     ]
    },
    {
     "name": "stderr",
     "output_type": "stream",
     "text": [
      "subduction_convergence.py:34: RuntimeWarning: Unable to find the overriding and subducting plates of the subducting shared sub-segment \"Western NAM subduction\" at 28Ma\n",
      "  warnings.warn(message_string, RuntimeWarning)\n",
      "subduction_convergence.py:34: RuntimeWarning: Unable to find the overriding plate of the subducting shared sub-segment \"\" at 28Ma\n",
      "  warnings.warn(message_string, RuntimeWarning)\n",
      "subduction_convergence.py:34: RuntimeWarning: Unable to find the overriding and subducting plates of the subducting shared sub-segment \"Aleutian and Bering Sea Masking Polygon\" at 28Ma\n",
      "  warnings.warn(message_string, RuntimeWarning)\n",
      "subduction_convergence.py:34: RuntimeWarning: Unable to find the overriding and subducting plates of the subducting shared sub-segment \"Shirshov Ridge Subduction\" at 28Ma\n",
      "  warnings.warn(message_string, RuntimeWarning)\n",
      "subduction_convergence.py:34: RuntimeWarning: Unable to find the overriding and subducting plates of the subducting shared sub-segment \"South America trench taken from COB file\" at 28Ma\n",
      "  warnings.warn(message_string, RuntimeWarning)\n",
      "subduction_convergence.py:34: RuntimeWarning: Unable to find the overriding and subducting plates of the subducting shared sub-segment \"Trench Baja California COB MG 4-30-07\" at 28Ma\n",
      "  warnings.warn(message_string, RuntimeWarning)\n"
     ]
    },
    {
     "name": "stdout",
     "output_type": "stream",
     "text": [
      "--- 32.9575631618 seconds for timestep ---\n",
      "29\n",
      "PMSR\n"
     ]
    },
    {
     "name": "stderr",
     "output_type": "stream",
     "text": [
      "subduction_convergence.py:34: RuntimeWarning: Unable to find the overriding and subducting plates of the subducting shared sub-segment \"Aleutian and Bering Sea Masking Polygon\" at 29Ma\n",
      "  warnings.warn(message_string, RuntimeWarning)\n",
      "subduction_convergence.py:34: RuntimeWarning: Unable to find the overriding and subducting plates of the subducting shared sub-segment \"Western NAM subduction\" at 29Ma\n",
      "  warnings.warn(message_string, RuntimeWarning)\n",
      "subduction_convergence.py:34: RuntimeWarning: Unable to find the overriding and subducting plates of the subducting shared sub-segment \"Shirshov Ridge Subduction\" at 29Ma\n",
      "  warnings.warn(message_string, RuntimeWarning)\n",
      "subduction_convergence.py:34: RuntimeWarning: Unable to find the overriding plate of the subducting shared sub-segment \"\" at 29Ma\n",
      "  warnings.warn(message_string, RuntimeWarning)\n"
     ]
    },
    {
     "name": "stdout",
     "output_type": "stream",
     "text": [
      "--- 30.3808948994 seconds for timestep ---\n",
      "30\n",
      "PMSR\n"
     ]
    },
    {
     "name": "stderr",
     "output_type": "stream",
     "text": [
      "subduction_convergence.py:34: RuntimeWarning: Unable to find the overriding and subducting plates of the subducting shared sub-segment \"Aleutian and Bering Sea Masking Polygon\" at 30Ma\n",
      "  warnings.warn(message_string, RuntimeWarning)\n",
      "subduction_convergence.py:34: RuntimeWarning: Unable to find the overriding and subducting plates of the subducting shared sub-segment \"Shirshov Ridge Subduction\" at 30Ma\n",
      "  warnings.warn(message_string, RuntimeWarning)\n",
      "subduction_convergence.py:34: RuntimeWarning: Unable to find the overriding plate of the subducting shared sub-segment \"\" at 30Ma\n",
      "  warnings.warn(message_string, RuntimeWarning)\n"
     ]
    },
    {
     "name": "stdout",
     "output_type": "stream",
     "text": [
      "--- 37.1713309288 seconds for timestep ---\n",
      "31\n",
      "PMSR\n"
     ]
    },
    {
     "name": "stderr",
     "output_type": "stream",
     "text": [
      "subduction_convergence.py:34: RuntimeWarning: Unable to find the overriding and subducting plates of the subducting shared sub-segment \"Shirshov Ridge Subduction\" at 31Ma\n",
      "  warnings.warn(message_string, RuntimeWarning)\n",
      "subduction_convergence.py:34: RuntimeWarning: Unable to find the overriding and subducting plates of the subducting shared sub-segment \"Aleutian and Bering Sea Masking Polygon\" at 31Ma\n",
      "  warnings.warn(message_string, RuntimeWarning)\n",
      "subduction_convergence.py:34: RuntimeWarning: Unable to find the overriding plate of the subducting shared sub-segment \"\" at 31Ma\n",
      "  warnings.warn(message_string, RuntimeWarning)\n"
     ]
    },
    {
     "name": "stdout",
     "output_type": "stream",
     "text": [
      "--- 39.9314210415 seconds for timestep ---\n",
      "32\n",
      "PMSR\n"
     ]
    },
    {
     "name": "stderr",
     "output_type": "stream",
     "text": [
      "subduction_convergence.py:34: RuntimeWarning: Unable to find the overriding plate of the subducting shared sub-segment \"\" at 32Ma\n",
      "  warnings.warn(message_string, RuntimeWarning)\n",
      "subduction_convergence.py:34: RuntimeWarning: Unable to find the overriding and subducting plates of the subducting shared sub-segment \"Aleutian and Bering Sea Masking Polygon\" at 32Ma\n",
      "  warnings.warn(message_string, RuntimeWarning)\n",
      "subduction_convergence.py:34: RuntimeWarning: Unable to find the overriding and subducting plates of the subducting shared sub-segment \"Ligurian subduction clean\" at 32Ma\n",
      "  warnings.warn(message_string, RuntimeWarning)\n",
      "subduction_convergence.py:34: RuntimeWarning: Unable to find the overriding and subducting plates of the subducting shared sub-segment \"Alpine subuction clean\" at 32Ma\n",
      "  warnings.warn(message_string, RuntimeWarning)\n",
      "subduction_convergence.py:34: RuntimeWarning: Unable to find the overriding and subducting plates of the subducting shared sub-segment \"Shirshov Ridge Subduction\" at 32Ma\n",
      "  warnings.warn(message_string, RuntimeWarning)\n"
     ]
    },
    {
     "name": "stdout",
     "output_type": "stream",
     "text": [
      "--- 43.4405360222 seconds for timestep ---\n",
      "33\n",
      "PMSR\n"
     ]
    },
    {
     "name": "stderr",
     "output_type": "stream",
     "text": [
      "subduction_convergence.py:34: RuntimeWarning: Unable to find the overriding plate of the subducting shared sub-segment \"\" at 33Ma\n",
      "  warnings.warn(message_string, RuntimeWarning)\n",
      "subduction_convergence.py:34: RuntimeWarning: Unable to find the overriding and subducting plates of the subducting shared sub-segment \"Aleutian and Bering Sea Masking Polygon\" at 33Ma\n",
      "  warnings.warn(message_string, RuntimeWarning)\n",
      "subduction_convergence.py:34: RuntimeWarning: Unable to find the overriding and subducting plates of the subducting shared sub-segment \"Japan sub zone fromEarthByte cob MG 4-20-07\" at 33Ma\n",
      "  warnings.warn(message_string, RuntimeWarning)\n",
      "subduction_convergence.py:34: RuntimeWarning: Unable to find the overriding and subducting plates of the subducting shared sub-segment \"Japan sub zone fromEarthByte cob MG 4-20-07 for IZA part 1\" at 33Ma\n",
      "  warnings.warn(message_string, RuntimeWarning)\n",
      "subduction_convergence.py:34: RuntimeWarning: Unable to find the overriding and subducting plates of the subducting shared sub-segment \"Shirshov Ridge Subduction\" at 33Ma\n",
      "  warnings.warn(message_string, RuntimeWarning)\n"
     ]
    },
    {
     "name": "stdout",
     "output_type": "stream",
     "text": [
      "--- 39.3861670494 seconds for timestep ---\n",
      "34\n",
      "PMSR\n"
     ]
    },
    {
     "name": "stderr",
     "output_type": "stream",
     "text": [
      "subduction_convergence.py:34: RuntimeWarning: Unable to find the overriding plate of the subducting shared sub-segment \"\" at 34Ma\n",
      "  warnings.warn(message_string, RuntimeWarning)\n",
      "subduction_convergence.py:34: RuntimeWarning: Unable to find the overriding and subducting plates of the subducting shared sub-segment \"Tethyan Subduction after Afghan block Accretion AG 2012\" at 34Ma\n",
      "  warnings.warn(message_string, RuntimeWarning)\n",
      "subduction_convergence.py:34: RuntimeWarning: Unable to find the overriding and subducting plates of the subducting shared sub-segment \"Shirshov Ridge Subduction\" at 34Ma\n",
      "  warnings.warn(message_string, RuntimeWarning)\n",
      "subduction_convergence.py:34: RuntimeWarning: Unable to find the overriding and subducting plates of the subducting shared sub-segment \"Aleutian and Bering Sea Masking Polygon\" at 34Ma\n",
      "  warnings.warn(message_string, RuntimeWarning)\n",
      "subduction_convergence.py:34: RuntimeWarning: Unable to find the overriding and subducting plates of the subducting shared sub-segment \"Kermadec Trench DiCaprio\" at 34Ma\n",
      "  warnings.warn(message_string, RuntimeWarning)\n",
      "subduction_convergence.py:34: RuntimeWarning: Unable to find the overriding and subducting plates of the subducting shared sub-segment \"NewCal Obd Oph\" at 34Ma\n",
      "  warnings.warn(message_string, RuntimeWarning)\n",
      "subduction_convergence.py:34: RuntimeWarning: Unable to find the overriding and subducting plates of the subducting shared sub-segment \"Tonga Trench DiCaprio\" at 34Ma\n",
      "  warnings.warn(message_string, RuntimeWarning)\n",
      "subduction_convergence.py:34: RuntimeWarning: Unable to find the overriding and subducting plates of the subducting shared sub-segment \"Mediterranean Subduction, DB 04-2007\" at 34Ma\n",
      "  warnings.warn(message_string, RuntimeWarning)\n",
      "subduction_convergence.py:34: RuntimeWarning: Unable to find the overriding and subducting plates of the subducting shared sub-segment \"Eastern Meditteranean subuction clean\" at 34Ma\n",
      "  warnings.warn(message_string, RuntimeWarning)\n",
      "subduction_convergence.py:34: RuntimeWarning: Unable to find the overriding and subducting plates of the subducting shared sub-segment \"Vardar Sea subuction clean\" at 34Ma\n",
      "  warnings.warn(message_string, RuntimeWarning)\n"
     ]
    },
    {
     "name": "stdout",
     "output_type": "stream",
     "text": [
      "--- 38.4213309288 seconds for timestep ---\n",
      "35\n",
      "PMSR\n"
     ]
    },
    {
     "name": "stderr",
     "output_type": "stream",
     "text": [
      "subduction_convergence.py:34: RuntimeWarning: Unable to find the overriding and subducting plates of the subducting shared sub-segment \"Aleutian and Bering Sea Masking Polygon\" at 35Ma\n",
      "  warnings.warn(message_string, RuntimeWarning)\n",
      "subduction_convergence.py:34: RuntimeWarning: Unable to find the overriding and subducting plates of the subducting shared sub-segment \"NewCal Obd Oph\" at 35Ma\n",
      "  warnings.warn(message_string, RuntimeWarning)\n",
      "subduction_convergence.py:34: RuntimeWarning: Unable to find the overriding and subducting plates of the subducting shared sub-segment \"Mediterranean Subduction, DB 04-2007\" at 35Ma\n",
      "  warnings.warn(message_string, RuntimeWarning)\n",
      "subduction_convergence.py:34: RuntimeWarning: Unable to find the overriding and subducting plates of the subducting shared sub-segment \"Tethyan Subduction after Afghan block Accretion AG 2012\" at 35Ma\n",
      "  warnings.warn(message_string, RuntimeWarning)\n",
      "subduction_convergence.py:34: RuntimeWarning: Unable to find the overriding and subducting plates of the subducting shared sub-segment \"Vardar Sea subuction clean\" at 35Ma\n",
      "  warnings.warn(message_string, RuntimeWarning)\n",
      "subduction_convergence.py:34: RuntimeWarning: Unable to find the overriding and subducting plates of the subducting shared sub-segment \"Eastern Meditteranean subuction clean\" at 35Ma\n",
      "  warnings.warn(message_string, RuntimeWarning)\n",
      "subduction_convergence.py:34: RuntimeWarning: Unable to find the overriding and subducting plates of the subducting shared sub-segment \"Shirshov Ridge Subduction\" at 35Ma\n",
      "  warnings.warn(message_string, RuntimeWarning)\n",
      "subduction_convergence.py:34: RuntimeWarning: Unable to find the overriding and subducting plates of the subducting shared sub-segment \"Japan sub zone fromEarthByte cob MG 4-20-07\" at 35Ma\n",
      "  warnings.warn(message_string, RuntimeWarning)\n",
      "subduction_convergence.py:34: RuntimeWarning: Unable to find the overriding and subducting plates of the subducting shared sub-segment \"Kermadec Trench DiCaprio\" at 35Ma\n",
      "  warnings.warn(message_string, RuntimeWarning)\n",
      "subduction_convergence.py:34: RuntimeWarning: Unable to find the overriding and subducting plates of the subducting shared sub-segment \"Japan sub zone fromEarthByte cob MG 4-20-07 for IZA part 1\" at 35Ma\n",
      "  warnings.warn(message_string, RuntimeWarning)\n",
      "subduction_convergence.py:34: RuntimeWarning: Unable to find the overriding and subducting plates of the subducting shared sub-segment \"Tonga Trench DiCaprio\" at 35Ma\n",
      "  warnings.warn(message_string, RuntimeWarning)\n"
     ]
    },
    {
     "name": "stdout",
     "output_type": "stream",
     "text": [
      "--- 35.8171141148 seconds for timestep ---\n",
      "36\n",
      "PMSR\n"
     ]
    },
    {
     "name": "stderr",
     "output_type": "stream",
     "text": [
      "subduction_convergence.py:34: RuntimeWarning: Unable to find the overriding and subducting plates of the subducting shared sub-segment \"Tonga Trench DiCaprio\" at 36Ma\n",
      "  warnings.warn(message_string, RuntimeWarning)\n",
      "subduction_convergence.py:34: RuntimeWarning: Unable to find the overriding and subducting plates of the subducting shared sub-segment \"Kermadec Trench DiCaprio\" at 36Ma\n",
      "  warnings.warn(message_string, RuntimeWarning)\n"
     ]
    },
    {
     "name": "stdout",
     "output_type": "stream",
     "text": [
      "--- 40.8933990002 seconds for timestep ---\n",
      "37\n",
      "PMSR\n",
      "--- 37.5159518719 seconds for timestep ---\n",
      "38\n",
      "PMSR\n",
      "--- 39.7813448906 seconds for timestep ---\n",
      "39\n",
      "PMSR\n"
     ]
    },
    {
     "name": "stderr",
     "output_type": "stream",
     "text": [
      "subduction_convergence.py:34: RuntimeWarning: Unable to find the overriding and subducting plates of the subducting shared sub-segment \"Alpine subuction clean\" at 39Ma\n",
      "  warnings.warn(message_string, RuntimeWarning)\n",
      "subduction_convergence.py:34: RuntimeWarning: Unable to find the overriding and subducting plates of the subducting shared sub-segment \"Ligurian subuction clean\" at 39Ma\n",
      "  warnings.warn(message_string, RuntimeWarning)\n",
      "subduction_convergence.py:34: RuntimeWarning: Unable to find the overriding and subducting plates of the subducting shared sub-segment \"Pyrenean subuction clean\" at 39Ma\n",
      "  warnings.warn(message_string, RuntimeWarning)\n"
     ]
    },
    {
     "name": "stdout",
     "output_type": "stream",
     "text": [
      "--- 44.4288818836 seconds for timestep ---\n",
      "40\n",
      "PMSR\n",
      "--- 43.0121669769 seconds for timestep ---\n",
      "41\n",
      "PMSR\n"
     ]
    },
    {
     "name": "stderr",
     "output_type": "stream",
     "text": [
      "subduction_convergence.py:34: RuntimeWarning: Unable to find the overriding and subducting plates of the subducting shared sub-segment \"\" at 41Ma\n",
      "  warnings.warn(message_string, RuntimeWarning)\n",
      "subduction_convergence.py:34: RuntimeWarning: Unable to find the overriding and subducting plates of the subducting shared sub-segment \"Japan sub zone fromEarthByte cob MG 4-20-07\" at 41Ma\n",
      "  warnings.warn(message_string, RuntimeWarning)\n",
      "subduction_convergence.py:34: RuntimeWarning: Unable to find the overriding and subducting plates of the subducting shared sub-segment \"Western NAM subduction\" at 41Ma\n",
      "  warnings.warn(message_string, RuntimeWarning)\n",
      "subduction_convergence.py:34: RuntimeWarning: Unable to find the overriding and subducting plates of the subducting shared sub-segment \"South America trench taken from COB file\" at 41Ma\n",
      "  warnings.warn(message_string, RuntimeWarning)\n",
      "subduction_convergence.py:34: RuntimeWarning: Unable to find the overriding and subducting plates of the subducting shared sub-segment \"Japan sub zone fromEarthByte cob MG 4-20-07 for IZA part 1\" at 41Ma\n",
      "  warnings.warn(message_string, RuntimeWarning)\n"
     ]
    },
    {
     "name": "stdout",
     "output_type": "stream",
     "text": [
      "--- 28.6645522118 seconds for timestep ---\n",
      "42\n",
      "PMSR\n",
      "--- 39.1096789837 seconds for timestep ---\n",
      "43\n",
      "PMSR\n",
      "--- 46.0268712044 seconds for timestep ---\n",
      "44\n",
      "PMSR\n",
      "--- 42.1716899872 seconds for timestep ---\n",
      "45\n",
      "PMSR\n",
      "--- 42.5668640137 seconds for timestep ---\n",
      "46\n",
      "PMSR\n",
      "--- 39.8711020947 seconds for timestep ---\n",
      "47\n",
      "PMSR\n",
      "--- 32.1593830585 seconds for timestep ---\n",
      "48\n",
      "PMSR\n",
      "--- 31.3771870136 seconds for timestep ---\n",
      "49\n",
      "PMSR\n"
     ]
    },
    {
     "name": "stderr",
     "output_type": "stream",
     "text": [
      "subduction_convergence.py:34: RuntimeWarning: Unable to find the subducting plate of the subducting shared sub-segment \"Subduction Zone - A Gibbons Phd 2012\" at 49Ma\n",
      "  warnings.warn(message_string, RuntimeWarning)\n"
     ]
    },
    {
     "name": "stdout",
     "output_type": "stream",
     "text": [
      "--- 31.6556780338 seconds for timestep ---\n",
      "50\n",
      "PMSR\n"
     ]
    },
    {
     "name": "stderr",
     "output_type": "stream",
     "text": [
      "subduction_convergence.py:34: RuntimeWarning: Unable to find the subducting plate of the subducting shared sub-segment \"Subduction Zone - A Gibbons Phd 2012\" at 50Ma\n",
      "  warnings.warn(message_string, RuntimeWarning)\n",
      "subduction_convergence.py:34: RuntimeWarning: Unable to find the overriding and subducting plates of the subducting shared sub-segment \"Alpine subduction clean\" at 50Ma\n",
      "  warnings.warn(message_string, RuntimeWarning)\n",
      "subduction_convergence.py:34: RuntimeWarning: Unable to find the overriding and subducting plates of the subducting shared sub-segment \"Subduction East Ligurian Ocean clean\" at 50Ma\n",
      "  warnings.warn(message_string, RuntimeWarning)\n",
      "subduction_convergence.py:34: RuntimeWarning: Unable to find the overriding and subducting plates of the subducting shared sub-segment \"East Alpine subduction clean\" at 50Ma\n",
      "  warnings.warn(message_string, RuntimeWarning)\n"
     ]
    },
    {
     "name": "stdout",
     "output_type": "stream",
     "text": [
      "--- 37.1271681786 seconds for timestep ---\n",
      "51\n",
      "PMSR\n",
      "--- 41.0588681698 seconds for timestep ---\n",
      "52\n",
      "PMSR\n",
      "--- 36.172000885 seconds for timestep ---\n",
      "53\n",
      "PMSR\n"
     ]
    },
    {
     "name": "stderr",
     "output_type": "stream",
     "text": [
      "subduction_convergence.py:34: RuntimeWarning: Unable to find the overriding and subducting plates of the subducting shared sub-segment \"Subduction Zone - A Gibbons Phd 2012\" at 53Ma\n",
      "  warnings.warn(message_string, RuntimeWarning)\n",
      "subduction_convergence.py:34: RuntimeWarning: Unable to find the overriding and subducting plates of the subducting shared sub-segment \"Eastern Mediterranean Subduction clean\" at 53Ma\n",
      "  warnings.warn(message_string, RuntimeWarning)\n",
      "subduction_convergence.py:34: RuntimeWarning: Unable to find the overriding and subducting plates of the subducting shared sub-segment \"Subduction East Ligurian Ocean clean\" at 53Ma\n",
      "  warnings.warn(message_string, RuntimeWarning)\n",
      "subduction_convergence.py:34: RuntimeWarning: Unable to find the overriding and subducting plates of the subducting shared sub-segment \"Tethyan Subduction after Afghan block Accretion AG 2012\" at 53Ma\n",
      "  warnings.warn(message_string, RuntimeWarning)\n"
     ]
    },
    {
     "name": "stdout",
     "output_type": "stream",
     "text": [
      "--- 36.65371418 seconds for timestep ---\n",
      "54\n",
      "PMSR\n"
     ]
    },
    {
     "name": "stderr",
     "output_type": "stream",
     "text": [
      "subduction_convergence.py:34: RuntimeWarning: Unable to find the overriding and subducting plates of the subducting shared sub-segment \"Tethyan Subduction after Afghan block Accretion AG 2012\" at 54Ma\n",
      "  warnings.warn(message_string, RuntimeWarning)\n",
      "subduction_convergence.py:34: RuntimeWarning: Unable to find the overriding and subducting plates of the subducting shared sub-segment \"Subduction East Ligurian Ocean clean\" at 54Ma\n",
      "  warnings.warn(message_string, RuntimeWarning)\n",
      "subduction_convergence.py:34: RuntimeWarning: Unable to find the overriding and subducting plates of the subducting shared sub-segment \"Eastern Mediterranean Subduction clean\" at 54Ma\n",
      "  warnings.warn(message_string, RuntimeWarning)\n",
      "subduction_convergence.py:34: RuntimeWarning: Unable to find the overriding and subducting plates of the subducting shared sub-segment \"Subduction zone to close the Tethyan/Lhasa back-arc basin, southward jump after accretion\" at 54Ma\n",
      "  warnings.warn(message_string, RuntimeWarning)\n",
      "subduction_convergence.py:34: RuntimeWarning: Unable to find the overriding and subducting plates of the subducting shared sub-segment \"Subduction Zone - A Gibbons Phd 2012\" at 54Ma\n",
      "  warnings.warn(message_string, RuntimeWarning)\n"
     ]
    },
    {
     "name": "stdout",
     "output_type": "stream",
     "text": [
      "--- 38.7533919811 seconds for timestep ---\n",
      "55\n",
      "PMSR\n"
     ]
    },
    {
     "name": "stderr",
     "output_type": "stream",
     "text": [
      "subduction_convergence.py:34: RuntimeWarning: Unable to find the overriding and subducting plates of the subducting shared sub-segment \"Tethyan Subduction after Afghan block Accretion AG 2012\" at 55Ma\n",
      "  warnings.warn(message_string, RuntimeWarning)\n",
      "subduction_convergence.py:34: RuntimeWarning: Unable to find the overriding and subducting plates of the subducting shared sub-segment \"Subduction zone to close the Tethyan/Lhasa back-arc basin, southward jump after accretion\" at 55Ma\n",
      "  warnings.warn(message_string, RuntimeWarning)\n",
      "subduction_convergence.py:34: RuntimeWarning: Unable to find the overriding and subducting plates of the subducting shared sub-segment \"MelanesiaVityaz DiCaprio\" at 55Ma\n",
      "  warnings.warn(message_string, RuntimeWarning)\n",
      "subduction_convergence.py:34: RuntimeWarning: Unable to find the overriding and subducting plates of the subducting shared sub-segment \"SW-dipping SZ southeast of PNG to open BAB\" at 55Ma\n",
      "  warnings.warn(message_string, RuntimeWarning)\n",
      "subduction_convergence.py:34: RuntimeWarning: Unable to find the overriding and subducting plates of the subducting shared sub-segment \"Philippine Subduction\" at 55Ma\n",
      "  warnings.warn(message_string, RuntimeWarning)\n",
      "subduction_convergence.py:34: RuntimeWarning: Unable to find the overriding and subducting plates of the subducting shared sub-segment \"Eastern Mediterranean Subduction clean\" at 55Ma\n",
      "  warnings.warn(message_string, RuntimeWarning)\n",
      "subduction_convergence.py:34: RuntimeWarning: Unable to find the overriding and subducting plates of the subducting shared sub-segment \"Subduction East Ligurian Ocean clean\" at 55Ma\n",
      "  warnings.warn(message_string, RuntimeWarning)\n",
      "subduction_convergence.py:34: RuntimeWarning: Unable to find the overriding and subducting plates of the subducting shared sub-segment \"Subduction Zone - A Gibbons Phd 2012\" at 55Ma\n",
      "  warnings.warn(message_string, RuntimeWarning)\n",
      "subduction_convergence.py:34: RuntimeWarning: Unable to find the overriding plate of the subducting shared sub-segment \"Subduction Zone - A Gibbons Phd 2012\" at 55Ma\n",
      "  warnings.warn(message_string, RuntimeWarning)\n"
     ]
    },
    {
     "name": "stdout",
     "output_type": "stream",
     "text": [
      "--- 37.368819952 seconds for timestep ---\n",
      "56\n",
      "PMSR\n"
     ]
    },
    {
     "name": "stderr",
     "output_type": "stream",
     "text": [
      "subduction_convergence.py:34: RuntimeWarning: Unable to find the overriding and subducting plates of the subducting shared sub-segment \"Subduction zone to close the Tethyan/Lhasa back-arc basin, southward jump after accretion\" at 56Ma\n",
      "  warnings.warn(message_string, RuntimeWarning)\n",
      "subduction_convergence.py:34: RuntimeWarning: Unable to find the overriding and subducting plates of the subducting shared sub-segment \"Japan sub zone fromEarthByte cob MG 4-20-07\" at 56Ma\n",
      "  warnings.warn(message_string, RuntimeWarning)\n",
      "subduction_convergence.py:34: RuntimeWarning: Unable to find the overriding and subducting plates of the subducting shared sub-segment \"Japan sub zone fromEarthByte cob MG 4-20-07 for IZA part 1\" at 56Ma\n",
      "  warnings.warn(message_string, RuntimeWarning)\n",
      "subduction_convergence.py:34: RuntimeWarning: Unable to find the overriding and subducting plates of the subducting shared sub-segment \"Subduction Zone - A Gibbons Phd 2012\" at 56Ma\n",
      "  warnings.warn(message_string, RuntimeWarning)\n"
     ]
    },
    {
     "name": "stdout",
     "output_type": "stream",
     "text": [
      "--- 36.3868350983 seconds for timestep ---\n",
      "57\n",
      "PMSR\n"
     ]
    },
    {
     "name": "stderr",
     "output_type": "stream",
     "text": [
      "subduction_convergence.py:34: RuntimeWarning: Unable to find the overriding and subducting plates of the subducting shared sub-segment \"Japan sub zone fromEarthByte cob MG 4-20-07 for IZA part 1\" at 57Ma\n",
      "  warnings.warn(message_string, RuntimeWarning)\n",
      "subduction_convergence.py:34: RuntimeWarning: Unable to find the overriding and subducting plates of the subducting shared sub-segment \"Subduction zone to close the Tethyan/Lhasa back-arc basin, southward jump after accretion\" at 57Ma\n",
      "  warnings.warn(message_string, RuntimeWarning)\n",
      "subduction_convergence.py:34: RuntimeWarning: Unable to find the overriding and subducting plates of the subducting shared sub-segment \"Subduction Zone - A Gibbons Phd 2012\" at 57Ma\n",
      "  warnings.warn(message_string, RuntimeWarning)\n",
      "subduction_convergence.py:34: RuntimeWarning: Unable to find the overriding and subducting plates of the subducting shared sub-segment \"Japan sub zone fromEarthByte cob MG 4-20-07\" at 57Ma\n",
      "  warnings.warn(message_string, RuntimeWarning)\n"
     ]
    },
    {
     "name": "stdout",
     "output_type": "stream",
     "text": [
      "--- 36.5253889561 seconds for timestep ---\n",
      "58\n",
      "PMSR\n"
     ]
    },
    {
     "name": "stderr",
     "output_type": "stream",
     "text": [
      "subduction_convergence.py:34: RuntimeWarning: Unable to find the overriding and subducting plates of the subducting shared sub-segment \"Subduction zone to close the Tethyan/Lhasa back-arc basin, southward jump after accretion\" at 58Ma\n",
      "  warnings.warn(message_string, RuntimeWarning)\n",
      "subduction_convergence.py:34: RuntimeWarning: Unable to find the overriding and subducting plates of the subducting shared sub-segment \"Subduction Zone - A Gibbons Phd 2012\" at 58Ma\n",
      "  warnings.warn(message_string, RuntimeWarning)\n"
     ]
    },
    {
     "name": "stdout",
     "output_type": "stream",
     "text": [
      "--- 37.1944038868 seconds for timestep ---\n",
      "59\n",
      "PMSR\n"
     ]
    },
    {
     "name": "stderr",
     "output_type": "stream",
     "text": [
      "subduction_convergence.py:34: RuntimeWarning: Unable to find the overriding and subducting plates of the subducting shared sub-segment \"Subduction zone to close the Tethyan/Lhasa back-arc basin, southward jump after accretion\" at 59Ma\n",
      "  warnings.warn(message_string, RuntimeWarning)\n",
      "subduction_convergence.py:34: RuntimeWarning: Unable to find the overriding and subducting plates of the subducting shared sub-segment \"Subduction Zone - A Gibbons Phd 2012\" at 59Ma\n",
      "  warnings.warn(message_string, RuntimeWarning)\n"
     ]
    },
    {
     "name": "stdout",
     "output_type": "stream",
     "text": [
      "--- 36.1619968414 seconds for timestep ---\n",
      "60\n",
      "PMSR\n"
     ]
    },
    {
     "name": "stderr",
     "output_type": "stream",
     "text": [
      "subduction_convergence.py:34: RuntimeWarning: Unable to find the overriding and subducting plates of the subducting shared sub-segment \"Subduction Zone - A Gibbons Phd 2012\" at 60Ma\n",
      "  warnings.warn(message_string, RuntimeWarning)\n",
      "subduction_convergence.py:34: RuntimeWarning: Unable to find the overriding and subducting plates of the subducting shared sub-segment \"Subduction zone to close the Tethyan/Lhasa back-arc basin, southward jump after accretion\" at 60Ma\n",
      "  warnings.warn(message_string, RuntimeWarning)\n"
     ]
    },
    {
     "name": "stdout",
     "output_type": "stream",
     "text": [
      "--- 35.9424099922 seconds for timestep ---\n",
      "61\n",
      "PMSR\n",
      "--- 39.2253439426 seconds for timestep ---\n",
      "62\n",
      "PMSR\n",
      "--- 38.4472811222 seconds for timestep ---\n",
      "63\n",
      "PMSR\n",
      "--- 35.3265771866 seconds for timestep ---\n",
      "64\n",
      "PMSR\n",
      "--- 40.4852399826 seconds for timestep ---\n",
      "65\n",
      "PMSR\n",
      "--- 36.7130451202 seconds for timestep ---\n",
      "66\n",
      "PMSR\n",
      "--- 36.7744510174 seconds for timestep ---\n",
      "67\n",
      "PMSR\n"
     ]
    },
    {
     "name": "stderr",
     "output_type": "stream",
     "text": [
      "subduction_convergence.py:34: RuntimeWarning: Unable to find the overriding and subducting plates of the subducting shared sub-segment \"TBD\" at 67Ma\n",
      "  warnings.warn(message_string, RuntimeWarning)\n"
     ]
    },
    {
     "name": "stdout",
     "output_type": "stream",
     "text": [
      "--- 37.4400238991 seconds for timestep ---\n",
      "68\n",
      "PMSR\n"
     ]
    },
    {
     "name": "stderr",
     "output_type": "stream",
     "text": [
      "subduction_convergence.py:34: RuntimeWarning: Unable to find the overriding and subducting plates of the subducting shared sub-segment \"South America trench taken from COB file\" at 68Ma\n",
      "  warnings.warn(message_string, RuntimeWarning)\n",
      "subduction_convergence.py:34: RuntimeWarning: Unable to find the overriding and subducting plates of the subducting shared sub-segment \"Vardar Sea Subduction clean\" at 68Ma\n",
      "  warnings.warn(message_string, RuntimeWarning)\n",
      "subduction_convergence.py:34: RuntimeWarning: Unable to find the overriding and subducting plates of the subducting shared sub-segment \"Kirsehir Subduction clean\" at 68Ma\n",
      "  warnings.warn(message_string, RuntimeWarning)\n",
      "subduction_convergence.py:34: RuntimeWarning: Unable to find the overriding and subducting plates of the subducting shared sub-segment \"TBD\" at 68Ma\n",
      "  warnings.warn(message_string, RuntimeWarning)\n",
      "subduction_convergence.py:34: RuntimeWarning: Unable to find the overriding and subducting plates of the subducting shared sub-segment \"ANT NAZ 060 015 TF\" at 68Ma\n",
      "  warnings.warn(message_string, RuntimeWarning)\n",
      "subduction_convergence.py:34: RuntimeWarning: Unable to find the overriding and subducting plates of the subducting shared sub-segment \"Tethyan Subduction after Afghan block Accretion AG 2012\" at 68Ma\n",
      "  warnings.warn(message_string, RuntimeWarning)\n",
      "subduction_convergence.py:34: RuntimeWarning: Unable to find the overriding and subducting plates of the subducting shared sub-segment \"Antarctic-Aluk subduction zone\" at 68Ma\n",
      "  warnings.warn(message_string, RuntimeWarning)\n"
     ]
    },
    {
     "name": "stdout",
     "output_type": "stream",
     "text": [
      "--- 37.2419319153 seconds for timestep ---\n",
      "69\n",
      "PMSR\n"
     ]
    },
    {
     "name": "stderr",
     "output_type": "stream",
     "text": [
      "subduction_convergence.py:34: RuntimeWarning: Unable to find the overriding and subducting plates of the subducting shared sub-segment \"TBD\" at 69Ma\n",
      "  warnings.warn(message_string, RuntimeWarning)\n",
      "subduction_convergence.py:34: RuntimeWarning: Unable to find the overriding and subducting plates of the subducting shared sub-segment \"Vardar Sea Subduction clean\" at 69Ma\n",
      "  warnings.warn(message_string, RuntimeWarning)\n",
      "subduction_convergence.py:34: RuntimeWarning: Unable to find the overriding and subducting plates of the subducting shared sub-segment \"Kirsehir Subduction clean\" at 69Ma\n",
      "  warnings.warn(message_string, RuntimeWarning)\n"
     ]
    },
    {
     "name": "stdout",
     "output_type": "stream",
     "text": [
      "--- 40.6659281254 seconds for timestep ---\n",
      "70\n",
      "PMSR\n"
     ]
    },
    {
     "name": "stderr",
     "output_type": "stream",
     "text": [
      "subduction_convergence.py:34: RuntimeWarning: Unable to find the overriding and subducting plates of the subducting shared sub-segment \"Kirsehir Subduction clean\" at 70Ma\n",
      "  warnings.warn(message_string, RuntimeWarning)\n",
      "subduction_convergence.py:34: RuntimeWarning: Unable to find the overriding and subducting plates of the subducting shared sub-segment \"Vardar Sea Subduction clean\" at 70Ma\n",
      "  warnings.warn(message_string, RuntimeWarning)\n"
     ]
    },
    {
     "name": "stdout",
     "output_type": "stream",
     "text": [
      "--- 36.9557330608 seconds for timestep ---\n",
      "71\n",
      "PMSR\n"
     ]
    },
    {
     "name": "stderr",
     "output_type": "stream",
     "text": [
      "subduction_convergence.py:34: RuntimeWarning: Unable to find the overriding and subducting plates of the subducting shared sub-segment \"Vardar Sea Subduction clean\" at 71Ma\n",
      "  warnings.warn(message_string, RuntimeWarning)\n",
      "subduction_convergence.py:34: RuntimeWarning: Unable to find the overriding and subducting plates of the subducting shared sub-segment \"Kirsehir Subduction clean\" at 71Ma\n",
      "  warnings.warn(message_string, RuntimeWarning)\n"
     ]
    },
    {
     "name": "stdout",
     "output_type": "stream",
     "text": [
      "--- 34.5139200687 seconds for timestep ---\n",
      "72\n",
      "PMSR\n"
     ]
    },
    {
     "name": "stderr",
     "output_type": "stream",
     "text": [
      "subduction_convergence.py:34: RuntimeWarning: Unable to find the overriding and subducting plates of the subducting shared sub-segment \"Kirsehir Subduction clean\" at 72Ma\n",
      "  warnings.warn(message_string, RuntimeWarning)\n",
      "subduction_convergence.py:34: RuntimeWarning: Unable to find the overriding and subducting plates of the subducting shared sub-segment \"Vardar Sea Subduction clean\" at 72Ma\n",
      "  warnings.warn(message_string, RuntimeWarning)\n"
     ]
    },
    {
     "name": "stdout",
     "output_type": "stream",
     "text": [
      "--- 35.8496799469 seconds for timestep ---\n",
      "73\n",
      "PMSR\n",
      "--- 35.5916519165 seconds for timestep ---\n",
      "74\n",
      "PMSR\n",
      "--- 35.9484670162 seconds for timestep ---\n",
      "75\n",
      "PMSR\n",
      "--- 40.6307659149 seconds for timestep ---\n",
      "76\n",
      "PMSR\n"
     ]
    },
    {
     "name": "stderr",
     "output_type": "stream",
     "text": [
      "subduction_convergence.py:34: RuntimeWarning: Unable to find the overriding plate of the subducting shared sub-segment \"Kirshehir Subduction clean\"\n",
      "  warnings.warn(message_string, RuntimeWarning)\n"
     ]
    },
    {
     "name": "stdout",
     "output_type": "stream",
     "text": [
      "--- 37.5108151436 seconds for timestep ---\n",
      "77\n",
      "PMSR\n",
      "--- 37.8365030289 seconds for timestep ---\n",
      "78\n",
      "PMSR\n"
     ]
    },
    {
     "name": "stderr",
     "output_type": "stream",
     "text": [
      "subduction_convergence.py:34: RuntimeWarning: Unable to find the overriding and subducting plates of the subducting shared sub-segment \"Vardar Sea Subduction clean\" at 78Ma\n",
      "  warnings.warn(message_string, RuntimeWarning)\n",
      "subduction_convergence.py:34: RuntimeWarning: Unable to find the overriding plate of the subducting shared sub-segment \"Kirsehir Subduction clean\"\n",
      "  warnings.warn(message_string, RuntimeWarning)\n"
     ]
    },
    {
     "name": "stdout",
     "output_type": "stream",
     "text": [
      "--- 38.0711159706 seconds for timestep ---\n",
      "79\n",
      "PMSR\n"
     ]
    },
    {
     "name": "stderr",
     "output_type": "stream",
     "text": [
      "subduction_convergence.py:34: RuntimeWarning: Unable to find the overriding and subducting plates of the subducting shared sub-segment \"Vardar Sea Subduction clean\" at 79Ma\n",
      "  warnings.warn(message_string, RuntimeWarning)\n"
     ]
    },
    {
     "name": "stdout",
     "output_type": "stream",
     "text": [
      "--- 36.3373978138 seconds for timestep ---\n",
      "80\n",
      "PMSR\n"
     ]
    },
    {
     "name": "stderr",
     "output_type": "stream",
     "text": [
      "subduction_convergence.py:34: RuntimeWarning: Unable to find the overriding and subducting plates of the subducting shared sub-segment \"Vardar Sea Subduction clean\" at 80Ma\n",
      "  warnings.warn(message_string, RuntimeWarning)\n"
     ]
    },
    {
     "name": "stdout",
     "output_type": "stream",
     "text": [
      "--- 38.8645570278 seconds for timestep ---\n",
      "81\n",
      "PMSR\n"
     ]
    },
    {
     "name": "stderr",
     "output_type": "stream",
     "text": [
      "subduction_convergence.py:34: RuntimeWarning: Unable to find the overriding and subducting plates of the subducting shared sub-segment \"Proto Molucca Plate subduction\" at 81Ma\n",
      "  warnings.warn(message_string, RuntimeWarning)\n"
     ]
    },
    {
     "name": "stdout",
     "output_type": "stream",
     "text": [
      "--- 39.3346188068 seconds for timestep ---\n",
      "82\n",
      "PMSR\n",
      "--- 38.3318607807 seconds for timestep ---\n",
      "83\n",
      "PMSR\n"
     ]
    },
    {
     "name": "stderr",
     "output_type": "stream",
     "text": [
      "subduction_convergence.py:34: RuntimeWarning: Unable to find the overriding and subducting plates of the subducting shared sub-segment \"Pyrenean Subduction clean\" at 83Ma\n",
      "  warnings.warn(message_string, RuntimeWarning)\n",
      "subduction_convergence.py:34: RuntimeWarning: Unable to find the overriding and subducting plates of the subducting shared sub-segment \"Alpine Subduction clean\" at 83Ma\n",
      "  warnings.warn(message_string, RuntimeWarning)\n",
      "subduction_convergence.py:34: RuntimeWarning: Unable to find the overriding and subducting plates of the subducting shared sub-segment \"Subduction East Ligurian Ocean subduction zone clean\" at 83Ma\n",
      "  warnings.warn(message_string, RuntimeWarning)\n"
     ]
    },
    {
     "name": "stdout",
     "output_type": "stream",
     "text": [
      "--- 38.331138134 seconds for timestep ---\n",
      "84\n",
      "PMSR\n"
     ]
    },
    {
     "name": "stderr",
     "output_type": "stream",
     "text": [
      "subduction_convergence.py:34: RuntimeWarning: Unable to find the overriding and subducting plates of the subducting shared sub-segment \"MesoTethys subduction zone clean\" at 84Ma\n",
      "  warnings.warn(message_string, RuntimeWarning)\n",
      "subduction_convergence.py:34: RuntimeWarning: Unable to find the overriding and subducting plates of the subducting shared sub-segment \"Subduction Zone - A Gibbons Phd 2012\" at 84Ma\n",
      "  warnings.warn(message_string, RuntimeWarning)\n",
      "subduction_convergence.py:34: RuntimeWarning: Unable to find the overriding and subducting plates of the subducting shared sub-segment \"Tethyan Subduction after Afghan block Accretion AG 2012\" at 84Ma\n",
      "  warnings.warn(message_string, RuntimeWarning)\n"
     ]
    },
    {
     "name": "stdout",
     "output_type": "stream",
     "text": [
      "--- 34.3153810501 seconds for timestep ---\n",
      "85\n",
      "PMSR\n"
     ]
    },
    {
     "name": "stderr",
     "output_type": "stream",
     "text": [
      "subduction_convergence.py:34: RuntimeWarning: Unable to find the overriding and subducting plates of the subducting shared sub-segment \"Subduction Zone - A Gibbons Phd 2012\" at 85Ma\n",
      "  warnings.warn(message_string, RuntimeWarning)\n",
      "subduction_convergence.py:34: RuntimeWarning: Unable to find the overriding and subducting plates of the subducting shared sub-segment \"MesoTethys subduction zone clean\" at 85Ma\n",
      "  warnings.warn(message_string, RuntimeWarning)\n",
      "subduction_convergence.py:34: RuntimeWarning: Unable to find the overriding and subducting plates of the subducting shared sub-segment \"Tethyan Subduction after Afghan block Accretion AG 2012\" at 85Ma\n",
      "  warnings.warn(message_string, RuntimeWarning)\n"
     ]
    },
    {
     "name": "stdout",
     "output_type": "stream",
     "text": [
      "--- 33.5870258808 seconds for timestep ---\n",
      "86\n",
      "PMSR\n"
     ]
    },
    {
     "name": "stderr",
     "output_type": "stream",
     "text": [
      "subduction_convergence.py:34: RuntimeWarning: Unable to find the overriding and subducting plates of the subducting shared sub-segment \"MesoTethys subduction zone clean\" at 86Ma\n",
      "  warnings.warn(message_string, RuntimeWarning)\n",
      "subduction_convergence.py:34: RuntimeWarning: Unable to find the overriding and subducting plates of the subducting shared sub-segment \"Subduction Zone - A Gibbons Phd 2012\" at 86Ma\n",
      "  warnings.warn(message_string, RuntimeWarning)\n",
      "subduction_convergence.py:34: RuntimeWarning: Unable to find the overriding and subducting plates of the subducting shared sub-segment \"Tethyan Subduction after Afghan block Accretion AG 2012\" at 86Ma\n",
      "  warnings.warn(message_string, RuntimeWarning)\n",
      "subduction_convergence.py:34: RuntimeWarning: Unable to find the overriding and subducting plates of the subducting shared sub-segment \"Woyla and Proto Andaman Sea Subduction\" at 86Ma\n",
      "  warnings.warn(message_string, RuntimeWarning)\n",
      "subduction_convergence.py:34: RuntimeWarning: Unable to find the overriding and subducting plates of the subducting shared sub-segment \"Sunda Jurassic-Cretaceous subduction\" at 86Ma\n",
      "  warnings.warn(message_string, RuntimeWarning)\n",
      "subduction_convergence.py:34: RuntimeWarning: Unable to find the overriding and subducting plates of the subducting shared sub-segment \"Barito Sea Subduction\" at 86Ma\n",
      "  warnings.warn(message_string, RuntimeWarning)\n"
     ]
    },
    {
     "name": "stdout",
     "output_type": "stream",
     "text": [
      "--- 32.9161829948 seconds for timestep ---\n",
      "87\n",
      "PMSR\n"
     ]
    },
    {
     "name": "stderr",
     "output_type": "stream",
     "text": [
      "subduction_convergence.py:34: RuntimeWarning: Unable to find the overriding and subducting plates of the subducting shared sub-segment \"Subduction Zone - A Gibbons Phd 2012\" at 87Ma\n",
      "  warnings.warn(message_string, RuntimeWarning)\n",
      "subduction_convergence.py:34: RuntimeWarning: Unable to find the overriding and subducting plates of the subducting shared sub-segment \"MesoTethys subduction zone clean\" at 87Ma\n",
      "  warnings.warn(message_string, RuntimeWarning)\n",
      "subduction_convergence.py:34: RuntimeWarning: Unable to find the overriding and subducting plates of the subducting shared sub-segment \"Tethyan Subduction after Afghan block Accretion AG 2012\" at 87Ma\n",
      "  warnings.warn(message_string, RuntimeWarning)\n"
     ]
    },
    {
     "name": "stdout",
     "output_type": "stream",
     "text": [
      "--- 36.6759169102 seconds for timestep ---\n",
      "88\n",
      "PMSR\n"
     ]
    },
    {
     "name": "stderr",
     "output_type": "stream",
     "text": [
      "subduction_convergence.py:34: RuntimeWarning: Unable to find the overriding and subducting plates of the subducting shared sub-segment \"Subduction Zone - A Gibbons Phd 2012\" at 88Ma\n",
      "  warnings.warn(message_string, RuntimeWarning)\n",
      "subduction_convergence.py:34: RuntimeWarning: Unable to find the overriding and subducting plates of the subducting shared sub-segment \"MesoTethys subduction zone clean\" at 88Ma\n",
      "  warnings.warn(message_string, RuntimeWarning)\n",
      "subduction_convergence.py:34: RuntimeWarning: Unable to find the overriding and subducting plates of the subducting shared sub-segment \"Tethyan Subduction after Afghan block Accretion AG 2012\" at 88Ma\n",
      "  warnings.warn(message_string, RuntimeWarning)\n"
     ]
    },
    {
     "name": "stdout",
     "output_type": "stream",
     "text": [
      "--- 36.8299767971 seconds for timestep ---\n",
      "89\n",
      "PMSR\n"
     ]
    },
    {
     "name": "stderr",
     "output_type": "stream",
     "text": [
      "subduction_convergence.py:34: RuntimeWarning: Unable to find the overriding and subducting plates of the subducting shared sub-segment \"Subduction Zone - A Gibbons Phd 2012\" at 89Ma\n",
      "  warnings.warn(message_string, RuntimeWarning)\n",
      "subduction_convergence.py:34: RuntimeWarning: Unable to find the overriding and subducting plates of the subducting shared sub-segment \"MesoTethys subduction zone clean\" at 89Ma\n",
      "  warnings.warn(message_string, RuntimeWarning)\n",
      "subduction_convergence.py:34: RuntimeWarning: Unable to find the overriding and subducting plates of the subducting shared sub-segment \"Tethyan Subduction after Afghan block Accretion AG 2012\" at 89Ma\n",
      "  warnings.warn(message_string, RuntimeWarning)\n"
     ]
    },
    {
     "name": "stdout",
     "output_type": "stream",
     "text": [
      "--- 33.6438939571 seconds for timestep ---\n",
      "90\n",
      "PMSR\n",
      "--- 33.1120061874 seconds for timestep ---\n",
      "91\n",
      "PMSR\n",
      "--- 34.2310290337 seconds for timestep ---\n",
      "92\n",
      "PMSR\n",
      "--- 35.0178642273 seconds for timestep ---\n",
      "93\n",
      "PMSR\n",
      "--- 31.4964809418 seconds for timestep ---\n",
      "94\n",
      "PMSR\n"
     ]
    },
    {
     "name": "stderr",
     "output_type": "stream",
     "text": [
      "subduction_convergence.py:34: RuntimeWarning: Unable to find the overriding and subducting plates of the subducting shared sub-segment \"Chatham Rise subduction KM\" at 94Ma\n",
      "  warnings.warn(message_string, RuntimeWarning)\n",
      "subduction_convergence.py:34: RuntimeWarning: Unable to find the overriding and subducting plates of the subducting shared sub-segment \"Challenger Plateau NE margin\" at 94Ma\n",
      "  warnings.warn(message_string, RuntimeWarning)\n"
     ]
    },
    {
     "name": "stdout",
     "output_type": "stream",
     "text": [
      "--- 37.4959437847 seconds for timestep ---\n",
      "95\n",
      "PMSR\n"
     ]
    },
    {
     "name": "stderr",
     "output_type": "stream",
     "text": [
      "subduction_convergence.py:34: RuntimeWarning: Unable to find the overriding and subducting plates of the subducting shared sub-segment \"Challenger Plateau NE margin\" at 95Ma\n",
      "  warnings.warn(message_string, RuntimeWarning)\n",
      "subduction_convergence.py:34: RuntimeWarning: Unable to find the overriding and subducting plates of the subducting shared sub-segment \"Chatham Rise subduction KM\" at 95Ma\n",
      "  warnings.warn(message_string, RuntimeWarning)\n"
     ]
    },
    {
     "name": "stdout",
     "output_type": "stream",
     "text": [
      "--- 34.051402092 seconds for timestep ---\n",
      "96\n",
      "PMSR\n"
     ]
    },
    {
     "name": "stderr",
     "output_type": "stream",
     "text": [
      "subduction_convergence.py:34: RuntimeWarning: Unable to find the overriding and subducting plates of the subducting shared sub-segment \"Chatham Rise subduction KM\" at 96Ma\n",
      "  warnings.warn(message_string, RuntimeWarning)\n",
      "subduction_convergence.py:34: RuntimeWarning: Unable to find the overriding and subducting plates of the subducting shared sub-segment \"Challenger Plateau NE margin\" at 96Ma\n",
      "  warnings.warn(message_string, RuntimeWarning)\n"
     ]
    },
    {
     "name": "stdout",
     "output_type": "stream",
     "text": [
      "--- 35.9357569218 seconds for timestep ---\n",
      "97\n",
      "PMSR\n"
     ]
    },
    {
     "name": "stderr",
     "output_type": "stream",
     "text": [
      "subduction_convergence.py:34: RuntimeWarning: Unable to find the overriding plate of the subducting shared sub-segment \"Chatham Rise subduction KM\" at 97Ma\n",
      "  warnings.warn(message_string, RuntimeWarning)\n",
      "subduction_convergence.py:34: RuntimeWarning: Unable to find the overriding and subducting plates of the subducting shared sub-segment \"Chatham Rise subduction KM\" at 97Ma\n",
      "  warnings.warn(message_string, RuntimeWarning)\n",
      "subduction_convergence.py:34: RuntimeWarning: Unable to find the overriding and subducting plates of the subducting shared sub-segment \"boundary LHR\" at 97Ma\n",
      "  warnings.warn(message_string, RuntimeWarning)\n",
      "subduction_convergence.py:34: RuntimeWarning: Unable to find the overriding and subducting plates of the subducting shared sub-segment \"West Ant SZ\" at 97Ma\n",
      "  warnings.warn(message_string, RuntimeWarning)\n",
      "subduction_convergence.py:34: RuntimeWarning: Unable to find the overriding and subducting plates of the subducting shared sub-segment \"Challenger Plateau NE margin\" at 97Ma\n",
      "  warnings.warn(message_string, RuntimeWarning)\n"
     ]
    },
    {
     "name": "stdout",
     "output_type": "stream",
     "text": [
      "--- 34.039347887 seconds for timestep ---\n",
      "98\n",
      "PMSR\n",
      "--- 34.4861929417 seconds for timestep ---\n",
      "99\n",
      "PMSR\n"
     ]
    },
    {
     "name": "stderr",
     "output_type": "stream",
     "text": [
      "subduction_convergence.py:34: RuntimeWarning: Unable to find the overriding and subducting plates of the subducting shared sub-segment \"Jarrod\" at 99Ma\n",
      "  warnings.warn(message_string, RuntimeWarning)\n",
      "subduction_convergence.py:34: RuntimeWarning: Unable to find the overriding and subducting plates of the subducting shared sub-segment \"West Ant SZ\" at 99Ma\n",
      "  warnings.warn(message_string, RuntimeWarning)\n"
     ]
    },
    {
     "name": "stdout",
     "output_type": "stream",
     "text": [
      "--- 32.5105848312 seconds for timestep ---\n",
      "100\n",
      "PMSR\n"
     ]
    },
    {
     "name": "stderr",
     "output_type": "stream",
     "text": [
      "subduction_convergence.py:34: RuntimeWarning: Unable to find the overriding and subducting plates of the subducting shared sub-segment \"boundary LHR\" at 100Ma\n",
      "  warnings.warn(message_string, RuntimeWarning)\n",
      "subduction_convergence.py:34: RuntimeWarning: Unable to find the overriding and subducting plates of the subducting shared sub-segment \"Chatham Rise subduction KM\" at 100Ma\n",
      "  warnings.warn(message_string, RuntimeWarning)\n",
      "subduction_convergence.py:34: RuntimeWarning: Unable to find the overriding and subducting plates of the subducting shared sub-segment \"Northern cont. of Eastern Gondwanaland Active Margin\" at 100Ma\n",
      "  warnings.warn(message_string, RuntimeWarning)\n",
      "subduction_convergence.py:34: RuntimeWarning: Unable to find the overriding and subducting plates of the subducting shared sub-segment \"Subduction Zone - A Gibbons Phd 2012\" at 100Ma\n",
      "  warnings.warn(message_string, RuntimeWarning)\n",
      "subduction_convergence.py:34: RuntimeWarning: Unable to find the overriding and subducting plates of the subducting shared sub-segment \"Subduction zone to close the Tethyan/Lhasa back-arc basin, southward jump after accretion\" at 100Ma\n",
      "  warnings.warn(message_string, RuntimeWarning)\n",
      "subduction_convergence.py:34: RuntimeWarning: Unable to find the overriding and subducting plates of the subducting shared sub-segment \"East Gondwana active margin\" at 100Ma\n",
      "  warnings.warn(message_string, RuntimeWarning)\n"
     ]
    },
    {
     "name": "stdout",
     "output_type": "stream",
     "text": [
      "--- 31.0008721352 seconds for timestep ---\n",
      "101\n",
      "PMSR\n",
      "--- 32.5431261063 seconds for timestep ---\n",
      "102\n",
      "PMSR\n",
      "--- 34.3659939766 seconds for timestep ---\n",
      "103\n",
      "PMSR\n",
      "--- 34.0852301121 seconds for timestep ---\n",
      "104\n",
      "PMSR\n",
      "--- 38.9177830219 seconds for timestep ---\n",
      "105\n",
      "PMSR\n",
      "--- 42.8757839203 seconds for timestep ---\n",
      "106\n",
      "PMSR\n",
      "--- 40.5693511963 seconds for timestep ---\n",
      "107\n",
      "PMSR\n",
      "--- 39.9496598244 seconds for timestep ---\n",
      "108\n",
      "PMSR\n",
      "--- 42.0685060024 seconds for timestep ---\n",
      "109\n",
      "PMSR\n",
      "--- 40.1380650997 seconds for timestep ---\n",
      "110\n",
      "PMSR\n",
      "--- 35.3071739674 seconds for timestep ---\n",
      "111\n",
      "PMSR\n",
      "--- 33.0345678329 seconds for timestep ---\n",
      "112\n",
      "PMSR\n",
      "--- 32.8320319653 seconds for timestep ---\n",
      "113\n",
      "PMSR\n",
      "--- 37.0340349674 seconds for timestep ---\n",
      "114\n",
      "PMSR\n",
      "--- 43.455548048 seconds for timestep ---\n",
      "115\n",
      "PMSR\n",
      "--- 40.3739919662 seconds for timestep ---\n",
      "116\n",
      "PMSR\n",
      "--- 37.7403719425 seconds for timestep ---\n",
      "117\n",
      "PMSR\n",
      "--- 38.3325779438 seconds for timestep ---\n",
      "118\n",
      "PMSR\n",
      "--- 39.3286869526 seconds for timestep ---\n",
      "119\n",
      "PMSR\n",
      "--- 39.6348631382 seconds for timestep ---\n",
      "120\n",
      "PMSR\n",
      "--- 37.4792640209 seconds for timestep ---\n",
      "121\n",
      "PMSR\n"
     ]
    },
    {
     "name": "stderr",
     "output_type": "stream",
     "text": [
      "subduction_convergence.py:34: RuntimeWarning: Unable to find the overriding and subducting plates of the subducting shared sub-segment \"East Gondwana active margin\" at 121Ma\n",
      "  warnings.warn(message_string, RuntimeWarning)\n",
      "subduction_convergence.py:34: RuntimeWarning: Unable to find the overriding and subducting plates of the subducting shared sub-segment \"Challenger Plateau NE margin\" at 121Ma\n",
      "  warnings.warn(message_string, RuntimeWarning)\n"
     ]
    },
    {
     "name": "stdout",
     "output_type": "stream",
     "text": [
      "--- 38.9133749008 seconds for timestep ---\n",
      "122\n",
      "PMSR\n"
     ]
    },
    {
     "name": "stderr",
     "output_type": "stream",
     "text": [
      "subduction_convergence.py:34: RuntimeWarning: Unable to find the overriding and subducting plates of the subducting shared sub-segment \"Challenger Plateau NE margin\" at 122Ma\n",
      "  warnings.warn(message_string, RuntimeWarning)\n",
      "subduction_convergence.py:34: RuntimeWarning: Unable to find the overriding and subducting plates of the subducting shared sub-segment \"East Gondwana active margin\" at 122Ma\n",
      "  warnings.warn(message_string, RuntimeWarning)\n"
     ]
    },
    {
     "name": "stdout",
     "output_type": "stream",
     "text": [
      "--- 38.6782848835 seconds for timestep ---\n",
      "123\n",
      "PMSR\n"
     ]
    },
    {
     "name": "stderr",
     "output_type": "stream",
     "text": [
      "subduction_convergence.py:34: RuntimeWarning: Unable to find the overriding and subducting plates of the subducting shared sub-segment \"East Gondwana active margin\" at 123Ma\n",
      "  warnings.warn(message_string, RuntimeWarning)\n",
      "subduction_convergence.py:34: RuntimeWarning: Unable to find the overriding and subducting plates of the subducting shared sub-segment \"Challenger Plateau NE margin\" at 123Ma\n",
      "  warnings.warn(message_string, RuntimeWarning)\n"
     ]
    },
    {
     "name": "stdout",
     "output_type": "stream",
     "text": [
      "--- 39.614593029 seconds for timestep ---\n",
      "124\n",
      "PMSR\n"
     ]
    },
    {
     "name": "stderr",
     "output_type": "stream",
     "text": [
      "subduction_convergence.py:34: RuntimeWarning: Unable to find the overriding and subducting plates of the subducting shared sub-segment \"East Gondwana active margin\" at 124Ma\n",
      "  warnings.warn(message_string, RuntimeWarning)\n",
      "subduction_convergence.py:34: RuntimeWarning: Unable to find the overriding and subducting plates of the subducting shared sub-segment \"Challenger Plateau NE margin\" at 124Ma\n",
      "  warnings.warn(message_string, RuntimeWarning)\n"
     ]
    },
    {
     "name": "stdout",
     "output_type": "stream",
     "text": [
      "--- 35.5940699577 seconds for timestep ---\n",
      "125\n",
      "PMSR\n"
     ]
    },
    {
     "name": "stderr",
     "output_type": "stream",
     "text": [
      "subduction_convergence.py:34: RuntimeWarning: Unable to find the overriding and subducting plates of the subducting shared sub-segment \"Philippines Late Cretaceous back-arc\" at 125Ma\n",
      "  warnings.warn(message_string, RuntimeWarning)\n",
      "subduction_convergence.py:34: RuntimeWarning: Unable to find the overriding and subducting plates of the subducting shared sub-segment \"Proto Molucca subduction\" at 125Ma\n",
      "  warnings.warn(message_string, RuntimeWarning)\n",
      "subduction_convergence.py:34: RuntimeWarning: Unable to find the overriding and subducting plates of the subducting shared sub-segment \"East Gondwana active margin\" at 125Ma\n",
      "  warnings.warn(message_string, RuntimeWarning)\n",
      "subduction_convergence.py:34: RuntimeWarning: Unable to find the overriding and subducting plates of the subducting shared sub-segment \"Challenger Plateau NE margin\" at 125Ma\n",
      "  warnings.warn(message_string, RuntimeWarning)\n"
     ]
    },
    {
     "name": "stdout",
     "output_type": "stream",
     "text": [
      "--- 38.600153923 seconds for timestep ---\n",
      "126\n",
      "PMSR\n"
     ]
    },
    {
     "name": "stderr",
     "output_type": "stream",
     "text": [
      "subduction_convergence.py:34: RuntimeWarning: Unable to find the overriding and subducting plates of the subducting shared sub-segment \"East Gondwana active margin\" at 126Ma\n",
      "  warnings.warn(message_string, RuntimeWarning)\n",
      "subduction_convergence.py:34: RuntimeWarning: Unable to find the overriding and subducting plates of the subducting shared sub-segment \"Challenger Plateau NE margin\" at 126Ma\n",
      "  warnings.warn(message_string, RuntimeWarning)\n",
      "subduction_convergence.py:34: RuntimeWarning: Unable to find the overriding and subducting plates of the subducting shared sub-segment \"TBD: Unknown Boundary\" at 126Ma\n",
      "  warnings.warn(message_string, RuntimeWarning)\n",
      "subduction_convergence.py:34: RuntimeWarning: Unable to find the overriding and subducting plates of the subducting shared sub-segment \"TBD\" at 126Ma\n",
      "  warnings.warn(message_string, RuntimeWarning)\n"
     ]
    },
    {
     "name": "stdout",
     "output_type": "stream",
     "text": [
      "--- 38.5636940002 seconds for timestep ---\n",
      "127\n",
      "PMSR\n"
     ]
    },
    {
     "name": "stderr",
     "output_type": "stream",
     "text": [
      "subduction_convergence.py:34: RuntimeWarning: Unable to find the overriding and subducting plates of the subducting shared sub-segment \"East Gondwana active margin\" at 127Ma\n",
      "  warnings.warn(message_string, RuntimeWarning)\n",
      "subduction_convergence.py:34: RuntimeWarning: Unable to find the overriding and subducting plates of the subducting shared sub-segment \"Challenger Plateau NE margin\" at 127Ma\n",
      "  warnings.warn(message_string, RuntimeWarning)\n"
     ]
    },
    {
     "name": "stdout",
     "output_type": "stream",
     "text": [
      "--- 38.4559299946 seconds for timestep ---\n",
      "128\n",
      "PMSR\n"
     ]
    },
    {
     "name": "stderr",
     "output_type": "stream",
     "text": [
      "subduction_convergence.py:34: RuntimeWarning: Unable to find the overriding and subducting plates of the subducting shared sub-segment \"Challenger Plateau NE margin\" at 128Ma\n",
      "  warnings.warn(message_string, RuntimeWarning)\n",
      "subduction_convergence.py:34: RuntimeWarning: Unable to find the overriding and subducting plates of the subducting shared sub-segment \"South America trench taken from COB file\" at 128Ma\n",
      "  warnings.warn(message_string, RuntimeWarning)\n",
      "subduction_convergence.py:34: RuntimeWarning: Unable to find the overriding and subducting plates of the subducting shared sub-segment \"East Gondwana active margin\" at 128Ma\n",
      "  warnings.warn(message_string, RuntimeWarning)\n"
     ]
    },
    {
     "name": "stdout",
     "output_type": "stream",
     "text": [
      "--- 38.9528400898 seconds for timestep ---\n",
      "129\n",
      "PMSR\n"
     ]
    },
    {
     "name": "stderr",
     "output_type": "stream",
     "text": [
      "subduction_convergence.py:34: RuntimeWarning: Unable to find the overriding and subducting plates of the subducting shared sub-segment \"Challenger Plateau NE margin\" at 129Ma\n",
      "  warnings.warn(message_string, RuntimeWarning)\n",
      "subduction_convergence.py:34: RuntimeWarning: Unable to find the overriding and subducting plates of the subducting shared sub-segment \"East Gondwana active margin\" at 129Ma\n",
      "  warnings.warn(message_string, RuntimeWarning)\n"
     ]
    },
    {
     "name": "stdout",
     "output_type": "stream",
     "text": [
      "--- 36.8752520084 seconds for timestep ---\n",
      "130\n",
      "PMSR\n"
     ]
    },
    {
     "name": "stderr",
     "output_type": "stream",
     "text": [
      "subduction_convergence.py:34: RuntimeWarning: Unable to find the overriding and subducting plates of the subducting shared sub-segment \"East Gondwana active margin\" at 130Ma\n",
      "  warnings.warn(message_string, RuntimeWarning)\n",
      "subduction_convergence.py:34: RuntimeWarning: Unable to find the overriding and subducting plates of the subducting shared sub-segment \"Challenger Plateau NE margin\" at 130Ma\n",
      "  warnings.warn(message_string, RuntimeWarning)\n"
     ]
    },
    {
     "name": "stdout",
     "output_type": "stream",
     "text": [
      "--- 36.8981761932 seconds for timestep ---\n",
      "131\n",
      "PMSR\n",
      "--- 40.6554450989 seconds for timestep ---\n",
      "132\n",
      "PMSR\n",
      "--- 36.8095231056 seconds for timestep ---\n",
      "133\n",
      "PMSR\n"
     ]
    },
    {
     "name": "stderr",
     "output_type": "stream",
     "text": [
      "subduction_convergence.py:34: RuntimeWarning: Unable to find the overriding and subducting plates of the subducting shared sub-segment \"TBD\" at 133Ma\n",
      "  warnings.warn(message_string, RuntimeWarning)\n",
      "subduction_convergence.py:34: RuntimeWarning: Unable to find the overriding and subducting plates of the subducting shared sub-segment \"TBD: Unknown Boundary\" at 133Ma\n",
      "  warnings.warn(message_string, RuntimeWarning)\n"
     ]
    },
    {
     "name": "stdout",
     "output_type": "stream",
     "text": [
      "--- 37.9481379986 seconds for timestep ---\n",
      "134\n",
      "PMSR\n"
     ]
    },
    {
     "name": "stderr",
     "output_type": "stream",
     "text": [
      "subduction_convergence.py:34: RuntimeWarning: Unable to find the overriding and subducting plates of the subducting shared sub-segment \"TBD\" at 134Ma\n",
      "  warnings.warn(message_string, RuntimeWarning)\n",
      "subduction_convergence.py:34: RuntimeWarning: Unable to find the overriding and subducting plates of the subducting shared sub-segment \"TBD: Unknown Boundary\" at 134Ma\n",
      "  warnings.warn(message_string, RuntimeWarning)\n"
     ]
    },
    {
     "name": "stdout",
     "output_type": "stream",
     "text": [
      "--- 38.0559010506 seconds for timestep ---\n",
      "135\n",
      "PMSR\n"
     ]
    },
    {
     "name": "stderr",
     "output_type": "stream",
     "text": [
      "subduction_convergence.py:34: RuntimeWarning: Unable to find the overriding and subducting plates of the subducting shared sub-segment \"TBD\" at 135Ma\n",
      "  warnings.warn(message_string, RuntimeWarning)\n",
      "subduction_convergence.py:34: RuntimeWarning: Unable to find the overriding and subducting plates of the subducting shared sub-segment \"TBD: Unknown Boundary\" at 135Ma\n",
      "  warnings.warn(message_string, RuntimeWarning)\n"
     ]
    },
    {
     "name": "stdout",
     "output_type": "stream",
     "text": [
      "--- 36.9056651592 seconds for timestep ---\n",
      "136\n",
      "PMSR\n"
     ]
    },
    {
     "name": "stderr",
     "output_type": "stream",
     "text": [
      "subduction_convergence.py:34: RuntimeWarning: Unable to find the overriding and subducting plates of the subducting shared sub-segment \"Nutesyn Arc Subduction Zone Test GS\" at 136Ma\n",
      "  warnings.warn(message_string, RuntimeWarning)\n"
     ]
    },
    {
     "name": "stdout",
     "output_type": "stream",
     "text": [
      "--- 34.7721149921 seconds for timestep ---\n",
      "137\n",
      "PMSR\n"
     ]
    },
    {
     "name": "stderr",
     "output_type": "stream",
     "text": [
      "subduction_convergence.py:34: RuntimeWarning: Unable to find the overriding and subducting plates of the subducting shared sub-segment \"Nutesyn Arc Subduction Zone Test GS\" at 137Ma\n",
      "  warnings.warn(message_string, RuntimeWarning)\n"
     ]
    },
    {
     "name": "stdout",
     "output_type": "stream",
     "text": [
      "--- 35.0037579536 seconds for timestep ---\n",
      "138\n",
      "PMSR\n"
     ]
    },
    {
     "name": "stderr",
     "output_type": "stream",
     "text": [
      "subduction_convergence.py:34: RuntimeWarning: Unable to find the overriding and subducting plates of the subducting shared sub-segment \"Nutesyn Arc Subduction Zone Test GS\" at 138Ma\n",
      "  warnings.warn(message_string, RuntimeWarning)\n"
     ]
    },
    {
     "name": "stdout",
     "output_type": "stream",
     "text": [
      "--- 35.9851529598 seconds for timestep ---\n",
      "139\n",
      "PMSR\n"
     ]
    },
    {
     "name": "stderr",
     "output_type": "stream",
     "text": [
      "subduction_convergence.py:34: RuntimeWarning: Unable to find the overriding and subducting plates of the subducting shared sub-segment \"Nutesyn Arc Subduction Zone Test GS\" at 139Ma\n",
      "  warnings.warn(message_string, RuntimeWarning)\n"
     ]
    },
    {
     "name": "stdout",
     "output_type": "stream",
     "text": [
      "--- 34.2692070007 seconds for timestep ---\n",
      "140\n",
      "PMSR\n",
      "--- 37.1262171268 seconds for timestep ---\n",
      "141\n",
      "PMSR\n",
      "--- 35.7180428505 seconds for timestep ---\n",
      "142\n",
      "PMSR\n"
     ]
    },
    {
     "name": "stderr",
     "output_type": "stream",
     "text": [
      "subduction_convergence.py:34: RuntimeWarning: Unable to find the overriding and subducting plates of the subducting shared sub-segment \"Nutesyn Arc Subduction Zone Test GS\" at 142Ma\n",
      "  warnings.warn(message_string, RuntimeWarning)\n"
     ]
    },
    {
     "name": "stdout",
     "output_type": "stream",
     "text": [
      "--- 38.5601539612 seconds for timestep ---\n",
      "143\n",
      "PMSR\n",
      "--- 36.8047749996 seconds for timestep ---\n",
      "144\n",
      "PMSR\n"
     ]
    },
    {
     "name": "stderr",
     "output_type": "stream",
     "text": [
      "subduction_convergence.py:34: RuntimeWarning: Unable to find the overriding and subducting plates of the subducting shared sub-segment \"Oloy subduction zone  GS\" at 144Ma\n",
      "  warnings.warn(message_string, RuntimeWarning)\n"
     ]
    },
    {
     "name": "stdout",
     "output_type": "stream",
     "text": [
      "--- 36.4987180233 seconds for timestep ---\n",
      "145\n",
      "PMSR\n"
     ]
    },
    {
     "name": "stderr",
     "output_type": "stream",
     "text": [
      "subduction_convergence.py:34: RuntimeWarning: Unable to find the overriding and subducting plates of the subducting shared sub-segment \"Oloy subduction zone  GS\" at 145Ma\n",
      "  warnings.warn(message_string, RuntimeWarning)\n"
     ]
    },
    {
     "name": "stdout",
     "output_type": "stream",
     "text": [
      "--- 36.7444200516 seconds for timestep ---\n",
      "146\n",
      "PMSR\n"
     ]
    },
    {
     "name": "stderr",
     "output_type": "stream",
     "text": [
      "subduction_convergence.py:34: RuntimeWarning: Unable to find the overriding and subducting plates of the subducting shared sub-segment \"Oloy subduction zone  GS\" at 146Ma\n",
      "  warnings.warn(message_string, RuntimeWarning)\n"
     ]
    },
    {
     "name": "stdout",
     "output_type": "stream",
     "text": [
      "--- 38.5835471153 seconds for timestep ---\n",
      "147\n",
      "PMSR\n"
     ]
    },
    {
     "name": "stderr",
     "output_type": "stream",
     "text": [
      "subduction_convergence.py:34: RuntimeWarning: Unable to find the overriding and subducting plates of the subducting shared sub-segment \"Oloy subduction zone  GS\" at 147Ma\n",
      "  warnings.warn(message_string, RuntimeWarning)\n"
     ]
    },
    {
     "name": "stdout",
     "output_type": "stream",
     "text": [
      "--- 35.7063169479 seconds for timestep ---\n",
      "148\n",
      "PMSR\n"
     ]
    },
    {
     "name": "stderr",
     "output_type": "stream",
     "text": [
      "subduction_convergence.py:34: RuntimeWarning: Unable to find the overriding and subducting plates of the subducting shared sub-segment \"Oloy subduction zone  GS\" at 148Ma\n",
      "  warnings.warn(message_string, RuntimeWarning)\n"
     ]
    },
    {
     "name": "stdout",
     "output_type": "stream",
     "text": [
      "--- 35.8829758167 seconds for timestep ---\n",
      "149\n",
      "PMSR\n",
      "--- 36.5690779686 seconds for timestep ---\n",
      "150\n",
      "PMSR\n",
      "--- 35.136152029 seconds for timestep ---\n",
      "151\n",
      "PMSR\n",
      "--- 38.1991360188 seconds for timestep ---\n",
      "152\n",
      "PMSR\n",
      "--- 39.3465940952 seconds for timestep ---\n",
      "153\n",
      "PMSR\n",
      "--- 36.6998667717 seconds for timestep ---\n",
      "154\n",
      "PMSR\n",
      "--- 37.8887271881 seconds for timestep ---\n",
      "155\n",
      "PMSR\n"
     ]
    },
    {
     "name": "stderr",
     "output_type": "stream",
     "text": [
      "subduction_convergence.py:34: RuntimeWarning: Unable to find the overriding and subducting plates of the subducting shared sub-segment \"Tethyan subduction after Afgan block accretion\" at 155Ma\n",
      "  warnings.warn(message_string, RuntimeWarning)\n"
     ]
    },
    {
     "name": "stdout",
     "output_type": "stream",
     "text": [
      "--- 36.6895461082 seconds for timestep ---\n",
      "156\n",
      "PMSR\n",
      "--- 34.8488848209 seconds for timestep ---\n",
      "157\n",
      "PMSR\n",
      "--- 36.2812020779 seconds for timestep ---\n",
      "158\n",
      "PMSR\n",
      "--- 36.7172410488 seconds for timestep ---\n",
      "159\n",
      "PMSR\n",
      "--- 34.5646920204 seconds for timestep ---\n",
      "160\n",
      "PMSR\n"
     ]
    },
    {
     "name": "stderr",
     "output_type": "stream",
     "text": [
      "subduction_convergence.py:34: RuntimeWarning: Unable to find the overriding and subducting plates of the subducting shared sub-segment \"Sunda Jurassic-Cretaceous subduction\" at 160Ma\n",
      "  warnings.warn(message_string, RuntimeWarning)\n",
      "subduction_convergence.py:34: RuntimeWarning: Unable to find the overriding and subducting plates of the subducting shared sub-segment \"East Borneo subduction\" at 160Ma\n",
      "  warnings.warn(message_string, RuntimeWarning)\n",
      "subduction_convergence.py:34: RuntimeWarning: Unable to find the overriding and subducting plates of the subducting shared sub-segment \"Junction SZ\" at 160Ma\n",
      "  warnings.warn(message_string, RuntimeWarning)\n"
     ]
    },
    {
     "name": "stdout",
     "output_type": "stream",
     "text": [
      "--- 33.6545879841 seconds for timestep ---\n",
      "161\n",
      "PMSR\n",
      "--- 32.2537651062 seconds for timestep ---\n",
      "162\n",
      "PMSR\n",
      "--- 34.3818390369 seconds for timestep ---\n",
      "163\n",
      "PMSR\n",
      "--- 31.1605780125 seconds for timestep ---\n",
      "164\n",
      "PMSR\n",
      "--- 28.8664820194 seconds for timestep ---\n",
      "165\n",
      "PMSR\n",
      "--- 32.084800005 seconds for timestep ---\n",
      "166\n",
      "PMSR\n"
     ]
    },
    {
     "name": "stderr",
     "output_type": "stream",
     "text": [
      "subduction_convergence.py:34: RuntimeWarning: Unable to find the subducting plate of the subducting shared sub-segment \"Southern Eurasia SZ\" at 166Ma\n",
      "  warnings.warn(message_string, RuntimeWarning)\n"
     ]
    },
    {
     "name": "stdout",
     "output_type": "stream",
     "text": [
      "--- 33.0082759857 seconds for timestep ---\n",
      "167\n",
      "PMSR\n",
      "--- 32.6501269341 seconds for timestep ---\n",
      "168\n",
      "PMSR\n",
      "--- 31.0631959438 seconds for timestep ---\n",
      "169\n",
      "PMSR\n",
      "--- 31.921077013 seconds for timestep ---\n",
      "170\n",
      "PMSR\n",
      "--- 32.5620651245 seconds for timestep ---\n",
      "171\n",
      "PMSR\n",
      "--- 32.9033658504 seconds for timestep ---\n",
      "172\n",
      "PMSR\n",
      "--- 33.6206629276 seconds for timestep ---\n",
      "173\n",
      "PMSR\n",
      "--- 30.4548988342 seconds for timestep ---\n",
      "174\n",
      "PMSR\n",
      "--- 30.9343559742 seconds for timestep ---\n",
      "175\n",
      "PMSR\n",
      "--- 33.641933918 seconds for timestep ---\n",
      "176\n",
      "PMSR\n",
      "--- 31.0620980263 seconds for timestep ---\n",
      "177\n",
      "PMSR\n",
      "--- 33.1663749218 seconds for timestep ---\n",
      "178\n",
      "PMSR\n",
      "--- 35.0569138527 seconds for timestep ---\n",
      "179\n",
      "PMSR\n",
      "--- 32.9383070469 seconds for timestep ---\n",
      "180\n",
      "PMSR\n",
      "--- 34.1934139729 seconds for timestep ---\n",
      "181\n",
      "PMSR\n",
      "--- 33.9272100925 seconds for timestep ---\n",
      "182\n",
      "PMSR\n",
      "--- 33.9713630676 seconds for timestep ---\n",
      "183\n",
      "PMSR\n",
      "--- 33.4777171612 seconds for timestep ---\n",
      "184\n",
      "PMSR\n",
      "--- 32.5000910759 seconds for timestep ---\n",
      "185\n",
      "PMSR\n"
     ]
    },
    {
     "name": "stderr",
     "output_type": "stream",
     "text": [
      "subduction_convergence.py:34: RuntimeWarning: Unable to find the overriding and subducting plates of the subducting shared sub-segment \"Talkeetna-Bonanza SZ GS\" at 185Ma\n",
      "  warnings.warn(message_string, RuntimeWarning)\n",
      "subduction_convergence.py:34: RuntimeWarning: Unable to find the overriding and subducting plates of the subducting shared sub-segment \"Western NAM subduction w/hole for Siletzia and before Wrangellia collision\" at 185Ma\n",
      "  warnings.warn(message_string, RuntimeWarning)\n"
     ]
    },
    {
     "name": "stdout",
     "output_type": "stream",
     "text": [
      "--- 32.1783330441 seconds for timestep ---\n",
      "186\n",
      "PMSR\n",
      "--- 33.8992180824 seconds for timestep ---\n",
      "187\n",
      "PMSR\n"
     ]
    },
    {
     "name": "stderr",
     "output_type": "stream",
     "text": [
      "subduction_convergence.py:34: RuntimeWarning: Unable to find the overriding and subducting plates of the subducting shared sub-segment \"Koni-Taigonos Subduction Zone GS\" at 187Ma\n",
      "  warnings.warn(message_string, RuntimeWarning)\n",
      "subduction_convergence.py:34: RuntimeWarning: Unable to find the overriding and subducting plates of the subducting shared sub-segment \"Monghol-Okosk Subduction Zone MS\" at 187Ma\n",
      "  warnings.warn(message_string, RuntimeWarning)\n",
      "subduction_convergence.py:34: RuntimeWarning: Unable to find the overriding and subducting plates of the subducting shared sub-segment \"East Asia subduction 250-150 Ma\" at 187Ma\n",
      "  warnings.warn(message_string, RuntimeWarning)\n"
     ]
    },
    {
     "name": "stdout",
     "output_type": "stream",
     "text": [
      "--- 33.1372039318 seconds for timestep ---\n",
      "188\n",
      "PMSR\n"
     ]
    },
    {
     "name": "stderr",
     "output_type": "stream",
     "text": [
      "subduction_convergence.py:34: RuntimeWarning: Unable to find the overriding and subducting plates of the subducting shared sub-segment \"Koni-Taigonos Subduction Zone GS\" at 188Ma\n",
      "  warnings.warn(message_string, RuntimeWarning)\n",
      "subduction_convergence.py:34: RuntimeWarning: Unable to find the overriding and subducting plates of the subducting shared sub-segment \"Monghol-Okosk Subduction Zone MS\" at 188Ma\n",
      "  warnings.warn(message_string, RuntimeWarning)\n",
      "subduction_convergence.py:34: RuntimeWarning: Unable to find the overriding and subducting plates of the subducting shared sub-segment \"East Asia subduction 250-150 Ma\" at 188Ma\n",
      "  warnings.warn(message_string, RuntimeWarning)\n"
     ]
    },
    {
     "name": "stdout",
     "output_type": "stream",
     "text": [
      "--- 32.9346802235 seconds for timestep ---\n",
      "189\n",
      "PMSR\n"
     ]
    },
    {
     "name": "stderr",
     "output_type": "stream",
     "text": [
      "subduction_convergence.py:34: RuntimeWarning: Unable to find the overriding and subducting plates of the subducting shared sub-segment \"Monghol-Okosk Subduction Zone MS\" at 189Ma\n",
      "  warnings.warn(message_string, RuntimeWarning)\n",
      "subduction_convergence.py:34: RuntimeWarning: Unable to find the overriding and subducting plates of the subducting shared sub-segment \"East Asia subduction 250-150 Ma\" at 189Ma\n",
      "  warnings.warn(message_string, RuntimeWarning)\n",
      "subduction_convergence.py:34: RuntimeWarning: Unable to find the overriding and subducting plates of the subducting shared sub-segment \"Koni-Taigonos Subduction Zone GS\" at 189Ma\n",
      "  warnings.warn(message_string, RuntimeWarning)\n"
     ]
    },
    {
     "name": "stdout",
     "output_type": "stream",
     "text": [
      "--- 34.7900910378 seconds for timestep ---\n",
      "190\n",
      "PMSR\n"
     ]
    },
    {
     "name": "stderr",
     "output_type": "stream",
     "text": [
      "subduction_convergence.py:34: RuntimeWarning: Unable to find the overriding and subducting plates of the subducting shared sub-segment \"East Asia subduction 250-150 Ma\" at 190Ma\n",
      "  warnings.warn(message_string, RuntimeWarning)\n",
      "subduction_convergence.py:34: RuntimeWarning: Unable to find the overriding and subducting plates of the subducting shared sub-segment \"Monghol-Okosk Subduction Zone MS\" at 190Ma\n",
      "  warnings.warn(message_string, RuntimeWarning)\n",
      "subduction_convergence.py:34: RuntimeWarning: Unable to find the overriding and subducting plates of the subducting shared sub-segment \"Koni-Taigonos Subduction Zone GS\" at 190Ma\n",
      "  warnings.warn(message_string, RuntimeWarning)\n"
     ]
    },
    {
     "name": "stdout",
     "output_type": "stream",
     "text": [
      "--- 32.9164271355 seconds for timestep ---\n",
      "191\n",
      "PMSR\n",
      "--- 35.8502600193 seconds for timestep ---\n",
      "192\n",
      "PMSR\n",
      "--- 31.2540400028 seconds for timestep ---\n",
      "193\n",
      "PMSR\n",
      "--- 31.0493159294 seconds for timestep ---\n",
      "194\n",
      "PMSR\n",
      "--- 32.1152188778 seconds for timestep ---\n",
      "195\n",
      "PMSR\n",
      "--- 34.1736171246 seconds for timestep ---\n",
      "196\n",
      "PMSR\n",
      "--- 34.765638113 seconds for timestep ---\n",
      "197\n",
      "PMSR\n",
      "--- 34.1576941013 seconds for timestep ---\n",
      "198\n",
      "PMSR\n",
      "--- 34.3564970493 seconds for timestep ---\n",
      "199\n",
      "PMSR\n",
      "--- 32.1173992157 seconds for timestep ---\n",
      "200\n",
      "PMSR\n",
      "--- 32.3555810452 seconds for timestep ---\n"
     ]
    }
   ],
   "source": [
    "#just to get what we want for a bigger analysis\n",
    "samples=10000\n",
    "max_time = 200\n",
    "times = np.arange(0, 200+1, 1)\n",
    "thickness_threshold = 0.10 #100 m for carbon, 5 km for serp\n",
    "z = np.zeros([max_time+1, samples])\n",
    "\n",
    "#change for POSR\n",
    "variable = 'C'\n",
    "uncertainty_method = 'batch' #full, individual or batch\n",
    "model_type = 'PMSR' #PMSR or POSR\n",
    "#load our desired distribution *\n",
    "distribution = get_distribution(variable, uncertainty_method)\n",
    "for ind,time in enumerate(times):\n",
    "    start_time = tme.time()\n",
    "    print(time)\n",
    "    v = calc_subducting_sediment_volume(time,samples, variable, distribution, thickness_threshold, \n",
    "                                        uncertainty_method, PMSR=True)\n",
    "    z[time,::] = v\n",
    "    print(\"--- %s seconds for timestep ---\" % (tme.time() - start_time))\n",
    "    \n",
    "#with open('%s%s_SUB_%s_%s' % (savedir, variable, model_type, uncertainty_method) + '.csv', 'wb') as f:\n",
    "#    writer = csv.writer(f)\n",
    "#    writer.writerows(z)"
   ]
  },
  {
   "cell_type": "code",
   "execution_count": 65,
   "metadata": {},
   "outputs": [],
   "source": [
    "#quick and dirty plot to make sure it looks somewhat reasonable\n",
    "import matplotlib.pyplot as plt\n",
    "\n",
    "#density serpentinites g/cm3\n",
    "density = 2.26 #serp, 3.0: ranges between 2.7-3.3\n",
    "densitygkm3 = float(serpentinites_density * 100000**3)\n",
    "MT_a = densitygkm3/1000/1000000000/1000000\n",
    "\n",
    "c = z * MT_a"
   ]
  },
  {
   "cell_type": "code",
   "execution_count": 66,
   "metadata": {},
   "outputs": [],
   "source": [
    "mean = np.asarray([np.mean(i) for i in c])\n",
    "std = np.asarray([np.std(i) for i in c])\n",
    "\n",
    "smooth_mean = running_mean(mean, 5, 'valid')\n",
    "smooth_std = running_mean(std, 5, 'valid')"
   ]
  },
  {
   "cell_type": "code",
   "execution_count": 71,
   "metadata": {},
   "outputs": [
    {
     "data": {
      "image/png": "[encoded data removed]",
      "text/plain": [
       "<Figure size 864x432 with 1 Axes>"
      ]
     },
     "metadata": {
      "needs_background": "light"
     },
     "output_type": "display_data"
    }
   ],
   "source": [
    "#individual, z2?\n",
    "plt.figure(figsize=(12,6))\n",
    "\n",
    "plt.plot(mean, color='k')\n",
    "plt.plot(mean+std, color='orange')\n",
    "plt.plot(mean-std, color='orange')\n",
    "\n",
    "plt.plot(smooth_mean, color='k', lw=10, alpha=0.5)\n",
    "plt.plot(smooth_mean+smooth_std, color='orange', lw=10, alpha=0.5)\n",
    "plt.plot(smooth_mean-smooth_std, color='orange', lw=10, alpha=0.5)\n",
    "\n",
    "plt.xlabel('Time (Ma)', fontsize=20)\n",
    "plt.ylabel('Carbon mass at Trench (Mt)', fontsize=20)\n",
    "\n",
    "plt.xticks(fontsize=14)\n",
    "plt.yticks(fontsize=14)\n",
    "\n",
    "plt.title('Carbon Mass at trench, POSR, batch uncertainty')\n",
    "\n",
    "plt.xlim(200,0)\n",
    "plt.grid()"
   ]
  },
  {
   "cell_type": "code",
   "execution_count": null,
   "metadata": {},
   "outputs": [],
   "source": []
  }
 ],
 "metadata": {
  "kernelspec": {
   "display_name": "Python 2",
   "language": "python",
   "name": "python2"
  },
  "language_info": {
   "codemirror_mode": {
    "name": "ipython",
    "version": 2
   },
   "file_extension": ".py",
   "mimetype": "text/x-python",
   "name": "python",
   "nbconvert_exporter": "python",
   "pygments_lexer": "ipython2",
   "version": "2.7.16"
  }
 },
 "nbformat": 4,
 "nbformat_minor": 2
}
