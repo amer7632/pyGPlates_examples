{
 "cells": [
  {
   "cell_type": "markdown",
   "metadata": {},
   "source": [
    "Final stage. Here we take the maps made and calculate the total amount of volatile storage. In the manuscript we compare two different methods of masking the data. Here I just show one (NN and COB masked).\n",
    "\n",
    "This takes quite awhile to run (next step is to speed it up sorry)."
   ]
  },
  {
   "cell_type": "code",
   "execution_count": 1,
   "metadata": {},
   "outputs": [
    {
     "name": "stderr",
     "output_type": "stream",
     "text": [
      "/Users/Andrew/anaconda2/lib/python2.7/site-packages/matplotlib/__init__.py:1066: UserWarning: Duplicate key in file \"/Users/Andrew/.matplotlib/matplotlibrc\", line #3\n",
      "  (fname, cnt))\n",
      "/Users/Andrew/anaconda2/lib/python2.7/site-packages/matplotlib/__init__.py:1066: UserWarning: Duplicate key in file \"/Users/Andrew/.matplotlib/matplotlibrc\", line #4\n",
      "  (fname, cnt))\n"
     ]
    }
   ],
   "source": [
    "import numpy as np\n",
    "import pygplates\n",
    "import pandas as pd\n",
    "from datetime import datetime\n",
    "from netCDF4 import Dataset\n",
    "import matplotlib.pyplot as plt\n",
    "from itertools import izip\n",
    "from skimage import measure\n",
    "import create_gpml, points_in_polygons\n",
    "import pickle"
   ]
  },
  {
   "cell_type": "code",
   "execution_count": 2,
   "metadata": {},
   "outputs": [],
   "source": [
    "#load data\n",
    "raster_dir = '/Users/Andrew/Documents/PhD/Scripts/Python_Scripts/pyGPlates_examples/Merdith_2019_Frontiers/output/rasters/'\n",
    "datadir = '/Users/Andrew/Documents/PhD/Scripts/Python_Scripts/pyGPlates_examples/Merdith_2019_Frontiers/Sample_Data/'\n",
    "loaddir = '/Users/Andrew/Documents/PhD/Scripts/Python_Scripts/pyGPlates_examples/Merdith_2019_Frontiers/output/'\n",
    "savedir = '/Users/Andrew/Documents/PhD/Scripts/Python_Scripts/pyGPlates_examples/Merdith_2019_Frontiers/output/results/'\n",
    "\n",
    "rotfile = '%sMatthews_etal_GPC_2016_410-0Ma_GK07.rot' % datadir\n",
    "COBs = '%sGlobal_EarthByte_GeeK07_COB_Terranes_Matthews_etal.gpml' % datadir\n",
    "coastlines = '%sGlobal_coastlines_2015_v1_low_res_ASM.gpml' % datadir\n",
    "topologies = ['%sMatthews_etal_GPC_2016_MesozoicCenozoic_PlateTopologies.gpmlz' % datadir,\n",
    "              '%sMatthews_etal_GPC_2016_Paleozoic_PlateTopologies.gpmlz' % datadir]\n",
    "\n",
    "\n",
    "rotation_model = pygplates.RotationModel(rotfile)\n",
    "\n",
    "#some polygons are disguised as polylines, need to force them all to be polygons\n",
    "COBs = pygplates.FeatureCollection(COBs)\n",
    "polygons = []\n",
    "for feature in COBs:\n",
    "    for geom in feature.get_geometries():\n",
    "        polygon = feature\n",
    "        polygon.set_geometry(pygplates.PolygonOnSphere(geom))\n",
    "        polygons.append(polygon)\n",
    "\n",
    "COBs = pygplates.FeatureCollection(polygons)\n",
    "\n",
    "coastlines = pygplates.FeatureCollection(coastlines)\n",
    "polygons = []\n",
    "for feature in coastlines:\n",
    "    for geom in feature.get_geometries():\n",
    "        polygon = feature\n",
    "        polygon.set_geometry(pygplates.PolygonOnSphere(geom))\n",
    "        polygons.append(polygon)\n",
    "\n",
    "coastlines = pygplates.FeatureCollection(polygons)\n",
    "carbon_density = 2.26\n",
    "carbon_densitygkm3 = float(carbon_density * 100000**3)\n",
    "#density serpentinites g/cm3\n",
    "serpentinites_density = 3.00 #ranges between 2.7-3.3\n",
    "serpentinites_densitygkm3 = float(serpentinites_density * 100000**3)"
   ]
  },
  {
   "cell_type": "code",
   "execution_count": null,
   "metadata": {},
   "outputs": [],
   "source": [
    "def run_grid_pip(time,points,polygons,rotation_model,grid_dims):\n",
    "\n",
    "    reconstructed_polygons = []\n",
    "    pygplates.reconstruct(polygons,rotation_model,reconstructed_polygons,time)\n",
    "\n",
    "    rpolygons = []\n",
    "    for polygon in reconstructed_polygons:\n",
    "        if polygon.get_reconstructed_geometry():\n",
    "            rpolygons.append(polygon.get_reconstructed_geometry())\n",
    "\n",
    "    polygons_containing_points = points_in_polygons.find_polygons(points, rpolygons)\n",
    "\n",
    "    lat = []\n",
    "    lon = []\n",
    "    zval = []\n",
    "    for pcp,point in zip(polygons_containing_points,points):\n",
    "        lat.append(point.get_latitude())\n",
    "        lon.append(point.get_longitude())\n",
    "        if pcp is not None:\n",
    "            zval.append(1)\n",
    "        else:\n",
    "            zval.append(0)\n",
    "\n",
    "    bi = np.array(zval).reshape(grid_dims[0],grid_dims[1])\n",
    "\n",
    "    return bi"
   ]
  },
  {
   "cell_type": "code",
   "execution_count": null,
   "metadata": {},
   "outputs": [],
   "source": [
    "def get_distribution(variable, method):\n",
    "    \n",
    "    '''\n",
    "    Accesses a pickle file made in '3_Uncertainty_Distributions_per_spreading_rate' which stores a\n",
    "    distribution of expected variable values at different spreading rates. Three approaches depenting on 'method'.\n",
    "\n",
    "    Variable (String): What variable (e.g. Carbon, serpentinite) distirbution we want access to.\n",
    "    Method (String): What distribution method we want to access; (1) individual; (2) batch; (3) full\n",
    "    \n",
    "    1) Distribution for each spreading rate is recovered and sampled to perturb\n",
    "    2) Distirbution for each spreading rate classificaiton is recovered and sampled to perturb\n",
    "    3) Full distribution for all spreading rates are recovered\n",
    "    '''\n",
    "    \n",
    "    with open('%s%s_thickness_%s.pkl' % (loaddir, variable, method), 'rb') as f:\n",
    "        distribution = pickle.load(f)\n",
    "        \n",
    "    return distribution"
   ]
  },
  {
   "cell_type": "code",
   "execution_count": null,
   "metadata": {},
   "outputs": [],
   "source": [
    "def merge_polygons(polygons,rotation_model,\n",
    "                   time,sampling=1.,area_threshold=None,filename=None,\n",
    "                   return_raster=False):\n",
    "\n",
    "    multipoints = create_gpml.create_gpml_regular_long_lat_mesh(sampling)\n",
    "    grid_dims = (int(180/sampling)+1,int(360/sampling)+1)\n",
    "\n",
    "    for multipoint in multipoints:\n",
    "        for mp in multipoint.get_all_geometries():\n",
    "            points = mp.to_lat_lon_point_list()\n",
    "\n",
    "    bi = run_grid_pip(time,points,polygons,rotation_model,grid_dims)\n",
    "    \n",
    "    if return_raster:\n",
    "        return bi\n",
    "    \n",
    "    else:\n",
    "        # To handle edge effects, pad grid before making contour polygons  \n",
    "        ## --- start\n",
    "        pad_hor = np.zeros((1,bi.shape[1]))\n",
    "        pad_ver = np.zeros((bi.shape[0]+2,1))\n",
    "        pad1 = np.vstack((pad_hor,bi,pad_hor))      # add row of zeros to top and bottom\n",
    "        pad2 = np.hstack((pad_ver,pad1,pad_ver))    # add row of zeros to left and right\n",
    "        #pad3 = np.hstack((pad2,pad_ver))\n",
    "        contours = measure.find_contours(pad2, 0.5, fully_connected='low')\n",
    "        ## --- end\n",
    "    \n",
    "        contour_polygons = []\n",
    "        contour_features = []\n",
    "    \n",
    "        for n,cp in enumerate(contours):\n",
    "        \n",
    "            # To handle edge effects again - strip off parts of polygon\n",
    "            # due to padding, and adjust from image coordinates to long/lat\n",
    "            # --- start\n",
    "            cp[:,1] = (cp[:,1]*sampling)-sampling\n",
    "            cp[:,0] = (cp[:,0]*sampling)-sampling\n",
    "            cp[np.where(cp[:,0]<0.),0] = 0\n",
    "            cp[np.where(cp[:,0]>180.),0] = 180\n",
    "            cp[np.where(cp[:,1]<0.),1] = 0\n",
    "            cp[np.where(cp[:,1]>360.),1] = 360\n",
    "            ## --- end\n",
    "        \n",
    "            cpf = pygplates.PolygonOnSphere(zip(cp[:,0]-90,cp[:,1]-180))\n",
    "            contour_polygons.append(cpf)\n",
    "        \n",
    "            feature = pygplates.Feature()\n",
    "            feature.set_geometry(cpf)\n",
    "            contour_features.append(feature)\n",
    "\n",
    "        if filename is not None:\n",
    "            pygplates.FeatureCollection(contour_features).write(filename)\n",
    "\n",
    "        else:\n",
    "            return contour_features"
   ]
  },
  {
   "cell_type": "code",
   "execution_count": null,
   "metadata": {},
   "outputs": [],
   "source": [
    "def return_std(spreading_rate_at_points_creation, distribution, uncertainty_method):\n",
    "    \n",
    "    #print spreading_rate_at_points_creation\n",
    "        \n",
    "    local_spreading_rate_at_creation = np.round(spreading_rate_at_points_creation)\n",
    "    #round up incase\n",
    "    if local_spreading_rate_at_creation == 0:\n",
    "        local_spreading_rate_at_creation = 1\n",
    "\n",
    "    if uncertainty_method == 'individual':\n",
    "        if local_spreading_rate_at_creation > 100:\n",
    "            local_spreading_rate_at_creation = 100\n",
    "\n",
    "        variable_key = int(local_spreading_rate_at_creation)\n",
    "\n",
    "        variation = distribution[variable_key-1]\n",
    "\n",
    "    if uncertainty_method == 'batch':\n",
    "        if local_spreading_rate_at_creation <= 20:\n",
    "            variable_key = 0\n",
    "        elif 20 < local_spreading_rate_at_creation <= 40:\n",
    "            variable_key = 1\n",
    "        elif 40 < local_spreading_rate_at_creation <= 70:\n",
    "            variable_key = 0\n",
    "        else:\n",
    "            variable_key = 3\n",
    "\n",
    "        variation = distribution[variable_key]\n",
    "\n",
    "    if uncertainty_method == 'full':\n",
    "                variation = distribution\n",
    "    perturbation = variation/np.mean(variation)\n",
    "    perturbation_range = np.zeros([3])\n",
    "    perturbation_range[0]  =  np.mean(perturbation)-np.std(perturbation)\n",
    "    perturbation_range[1]  =  np.mean(perturbation)\n",
    "    perturbation_range[2]  =  np.mean(perturbation)+np.std(perturbation)\n",
    "    #print variation\n",
    "    return perturbation_range"
   ]
  },
  {
   "cell_type": "code",
   "execution_count": null,
   "metadata": {},
   "outputs": [],
   "source": [
    "def get_total_vals(carbon_raster, serps_raster, spreading_rate,distribution_C, distribution_Serp):\n",
    "    \n",
    "    uncertainty_method = 'batch'\n",
    "    \n",
    "    C_zval = Dataset(carbon_raster)\n",
    "    S_zval = Dataset(serps_raster)\n",
    "    spreading = Dataset(spreading_rate)\n",
    "\n",
    "    lons = C_zval.variables['lon'][::]\n",
    "    lats = C_zval.variables['lat'][::]\n",
    "    C_vals = C_zval.variables['z'][::]\n",
    "    S_vals = S_zval.variables['z'][::]\n",
    "    rate = spreading.variables['z'][::]\n",
    "    C_val2 = C_vals.flatten()\n",
    "    S_val2 = S_vals.flatten()\n",
    "    SRs = rate.flatten() \n",
    "    \n",
    "    C_val2.mask = False\n",
    "    S_val2.mask = False\n",
    "    SRs.mask = False\n",
    "        \n",
    "    perturbation_carbon = np.zeros([len(C_val2), 3])\n",
    "    perturbation_serp = np.zeros([len(C_val2), 3])\n",
    "\n",
    "    for index in range(len(C_val2)):\n",
    "        if np.isnan(C_val2[index]) == False:\n",
    "            if C_val2[index] > 0.1:\n",
    "                #print 'i'\n",
    "                C_val2[index] = C_val2[index]/SRs[index]*2/1000000\n",
    "                S_val2[index] = S_val2[index]/SRs[index]*2/1000000\n",
    "            perturbation_carbon[index,::] = return_std(SRs[index], distribution_C, 'batch')**2\n",
    "            perturbation_serp[index,::] = return_std(SRs[index], distribution_Serp, 'batch')**2\n",
    "\n",
    "    for index in range(len(C_val2)):\n",
    "        if np.isnan(C_val2[index]) == False:\n",
    "            if C_val2[index] < 1e-6:\n",
    "                C_val2[index] = C_val2[index]*SRs[index]/100\n",
    "                S_val2[index] = S_val2[index]*SRs[index]/100\n",
    "\n",
    "    perturbed_carb_vals = perturbation_carbon*C_val2[:, None]\n",
    "    perturbed_serp_vals = perturbation_serp*S_val2[:, None]    \n",
    "    \n",
    "    total_C_val_in_km = np.nansum(perturbed_carb_vals, axis=0)\n",
    "    total_S_val_in_km = np.nansum(perturbed_serp_vals, axis=0)\n",
    "    \n",
    "    return total_C_val_in_km, total_S_val_in_km"
   ]
  },
  {
   "cell_type": "code",
   "execution_count": null,
   "metadata": {},
   "outputs": [],
   "source": [
    "#some variables\n",
    "\n",
    "area_earth = 4*np.pi*pygplates.Earth.mean_radius_in_kms**2\n",
    "times = np.arange(0,201,1)"
   ]
  },
  {
   "cell_type": "code",
   "execution_count": null,
   "metadata": {},
   "outputs": [],
   "source": [
    "ocean_area = []\n",
    "carbon_mass_POSR = np.zeros([len(times), 3])\n",
    "serps_mass_POSR = np.zeros([len(times), 3])\n",
    "carbon_mass_PMSR = np.zeros([len(times), 3])\n",
    "serps_mass_PMSR = np.zeros([len(times), 3])\n",
    "for time in times:\n",
    "    print time\n",
    "    \n",
    "    distribution_C = get_distribution('C', 'batch')\n",
    "    distribution_Serp = get_distribution('Serp', 'batch')\n",
    "    thickness = 7 #median for now, will likely result in an overestimation\n",
    "    carbon_COB_NN = '%sPOSR_C_%s_Ma_NN_COB_masked.grd' % (raster_dir, time)\n",
    "    serps_COB_NN =  '%sPOSR_Serp_%s_Ma_NN_COB_masked.grd' % (raster_dir, time)\n",
    "    SR_COB_NN =     '%sPOSR_SR_%s_Ma_NN_COB_masked.grd' % (raster_dir, time)\n",
    "    perturbed_carb_vals, perturbed_serp_vals, = get_total_vals(carbon_COB_NN, \n",
    "                                                              serps_COB_NN, \n",
    "                                                              SR_COB_NN,\n",
    "                                                             distribution_C,\n",
    "                                                             distribution_Serp)\n",
    "\n",
    "\n",
    "    merged_polygons = merge_polygons(COBs, rotation_model, time)\n",
    "    area = []\n",
    "    for i in merged_polygons:\n",
    "        #print i.get_geometry().get_area()*pygplates.Earth.mean_radius_in_kms**2\n",
    "        area.append(i.get_geometry().get_area()*pygplates.Earth.mean_radius_in_kms**2)\n",
    "    total_cont_area = np.sum(area)\n",
    "    ocean_area_at_time = area_earth-total_cont_area\n",
    "    ocean_area.append(ocean_area_at_time)\n",
    "    C_in_km3 = ocean_area_at_time * thickness * perturbed_carb_vals\n",
    "    S_in_km3 = ocean_area_at_time * thickness * perturbed_serp_vals\n",
    "\n",
    "    C_in_MT_per_a = C_in_km3*carbon_densitygkm3/1000/1000000000/1000000\n",
    "    S_in_MT_per_a = S_in_km3*serpentinites_densitygkm3/1000/1000000000/1000000\n",
    "    \n",
    "    carbon_mass_POSR[time,::] = C_in_MT_per_a \n",
    "    serps_mass_POSR[time,::] = S_in_MT_per_a "
   ]
  },
  {
   "cell_type": "code",
   "execution_count": null,
   "metadata": {},
   "outputs": [],
   "source": [
    "#-SD, mean, +1SD\n",
    "np.savetxt('%scarbon_mass_POSR.csv' % savedir, carbon_mass_POSR, delimiter=' ')\n",
    "np.savetxt('%sserp_mass_POSR.csv' % savedir, serps_mass_POSR, delimiter=' ')"
   ]
  },
  {
   "cell_type": "code",
   "execution_count": 5,
   "metadata": {},
   "outputs": [],
   "source": [
    "carbon_mass_POSR = np.loadtxt('%scarbon_mass_POSR.csv' % savedir, delimiter=' ')\n",
    "serps_mass_POSR = np.loadtxt('%sserp_mass_POSR.csv' % savedir, delimiter=' ')"
   ]
  },
  {
   "cell_type": "code",
   "execution_count": 17,
   "metadata": {},
   "outputs": [
    {
     "data": {
      "text/plain": [
       "(200, 0)"
      ]
     },
     "execution_count": 17,
     "metadata": {},
     "output_type": "execute_result"
    },
    {
     "data": {
      "image/png": "[encoded data removed]",
      "text/plain": [
       "<Figure size 432x288 with 1 Axes>"
      ]
     },
     "metadata": {
      "needs_background": "light"
     },
     "output_type": "display_data"
    }
   ],
   "source": [
    "#carbon\n",
    "plt.plot(carbon_mass_POSR[:,0], color='k')\n",
    "plt.plot(carbon_mass_POSR[:,1])\n",
    "plt.plot(carbon_mass_POSR[:,2], color='k')\n",
    "plt.ylim(0)\n",
    "plt.xlim(200,0)"
   ]
  },
  {
   "cell_type": "code",
   "execution_count": 16,
   "metadata": {},
   "outputs": [
    {
     "data": {
      "text/plain": [
       "(200, 0)"
      ]
     },
     "execution_count": 16,
     "metadata": {},
     "output_type": "execute_result"
    },
    {
     "data": {
      "image/png": "[encoded data removed]",
      "text/plain": [
       "<Figure size 432x288 with 1 Axes>"
      ]
     },
     "metadata": {
      "needs_background": "light"
     },
     "output_type": "display_data"
    }
   ],
   "source": [
    "#serps\n",
    "plt.plot(serps_mass_POSR[:,0], color='k')\n",
    "plt.plot(serps_mass_POSR[:,1])\n",
    "plt.plot(serps_mass_POSR[:,2], color='k')\n",
    "plt.ylim(0)\n",
    "plt.xlim(200,0)"
   ]
  },
  {
   "cell_type": "code",
   "execution_count": null,
   "metadata": {},
   "outputs": [],
   "source": []
  }
 ],
 "metadata": {
  "kernelspec": {
   "display_name": "Python 2",
   "language": "python",
   "name": "python2"
  },
  "language_info": {
   "codemirror_mode": {
    "name": "ipython",
    "version": 2
   },
   "file_extension": ".py",
   "mimetype": "text/x-python",
   "name": "python",
   "nbconvert_exporter": "python",
   "pygments_lexer": "ipython2",
   "version": "2.7.16"
  }
 },
 "nbformat": 4,
 "nbformat_minor": 2
}
