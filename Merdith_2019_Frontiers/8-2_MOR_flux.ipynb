{
 "cells": [
  {
   "cell_type": "markdown",
   "metadata": {},
   "source": [
    "This is very similar to 8-1_subduction_flux, but we want MOR formation instead. In this notebook we take our C_storage value that we made in notebook 4 and use the data stored there to calculate the amount of carbonate or serpentinite stored in new crust at MOR. We have, of course, two different models (using plate model spreading rates or Pacific Ocean spreading rates) as well as three different ways of measuring uncertainty (see notebook 3); full, batch or individual. We prefer to use 'batch' uncertainty, as it plays a midpoint between full and individual, thus accommodating the inherent uncertainty in spreading rates in the plate model. For serpentinite it is recommended not use 'full' as the bimodal distribution will produce a very (very) large error bar."
   ]
  },
  {
   "cell_type": "code",
   "execution_count": 38,
   "metadata": {},
   "outputs": [],
   "source": [
    "import numpy as np\n",
    "import pandas as pd\n",
    "import pygplates\n",
    "import pickle\n",
    "from collections import defaultdict\n",
    "import csv\n",
    "import itertools"
   ]
  },
  {
   "cell_type": "code",
   "execution_count": 2,
   "metadata": {},
   "outputs": [],
   "source": [
    "datadir = '/Users/Andrew/Documents/PhD/Scripts/Python_Scripts/pyGPlates_examples/Merdith_2019_Frontiers/Sample_Data/'\n",
    "loaddir = '/Users/Andrew/Documents/PhD/Scripts/Python_Scripts/pyGPlates_examples/Merdith_2019_Frontiers/output/'\n",
    "savedir = '/Users/Andrew/Documents/PhD/Scripts/Python_Scripts/pyGPlates_examples/Merdith_2019_Frontiers/output/results/'\n",
    "\n",
    "# import previously made file of crustal properties\n",
    "#separate load so faster if we need to recheck stuff\n",
    "C_storage_POSR = pickle.load(open('%sC_storage_2020-03-13_POSR.p' % datadir, 'rb'))\n",
    "C_storage_PMSR = pickle.load(open('%sC_storage_2020-03-13_PMSR.p' % datadir, 'rb'))\n"
   ]
  },
  {
   "cell_type": "code",
   "execution_count": 3,
   "metadata": {},
   "outputs": [],
   "source": [
    "def running_mean(x, N, mode):\n",
    "    \n",
    "    '''\n",
    "    uses np.convolve to return a running mean.\n",
    "    X: 1D array or list of values to compute running mean\n",
    "    N: window size of running mean\n",
    "    mode: valid, full or same (see https://stackoverflow.com/questions/13728392/moving-average-or-running-mean\n",
    "    for an example of the difference). I default to 'valid'.\n",
    "    '''\n",
    "    #x = np.pad(x, (0, N // 2), mode='constant', constant_values = np.nan)\n",
    "    return np.convolve(x, np.ones((N,))/N, mode=mode)"
   ]
  },
  {
   "cell_type": "code",
   "execution_count": 4,
   "metadata": {},
   "outputs": [],
   "source": [
    "def get_distribution(variable, method):\n",
    "    \n",
    "    '''\n",
    "    Accesses a pickle file made in '3_Uncertainty_Distributions_per_spreading_rate' which stores a\n",
    "    distribution of expected variable values at different spreading rates. Three approaches depenting on 'method'.\n",
    "\n",
    "    Variable (String): What variable (e.g. Carbon, serpentinite) distirbution we want access to.\n",
    "    Method (String): What distribution method we want to access; (1) individual; (2) batch; (3) full\n",
    "    \n",
    "    1) Distribution for each spreading rate is recovered and sampled to perturb\n",
    "    2) Distirbution for each spreading rate classificaiton is recovered and sampled to perturb\n",
    "    3) Full distribution for all spreading rates are recovered\n",
    "    '''\n",
    "    \n",
    "    with open('%s%s_thickness_%s.pkl' % (loaddir, variable, method), 'rb') as f:\n",
    "        distribution = pickle.load(f)\n",
    "        \n",
    "    return distribution"
   ]
  },
  {
   "cell_type": "code",
   "execution_count": 27,
   "metadata": {
    "scrolled": true
   },
   "outputs": [
    {
     "name": "stderr",
     "output_type": "stream",
     "text": [
      "/Users/Andrew/anaconda2/lib/python2.7/site-packages/ipykernel_launcher.py:40: RuntimeWarning: invalid value encountered in divide\n",
      "/Users/Andrew/anaconda2/lib/python2.7/site-packages/ipykernel_launcher.py:51: RuntimeWarning: invalid value encountered in divide\n"
     ]
    }
   ],
   "source": [
    "#have to check the correct C_storage is open\n",
    "times = np.arange(0,401,1)\n",
    "timesteps = len(times)\n",
    "samples=10000\n",
    "variable = 'Serp'\n",
    "model_type = 'PMSR' #POSR PMSR\n",
    "sum_variable_PMSR = np.zeros([timesteps, samples])\n",
    "uncertainty_method = 'batch'\n",
    "distribution = get_distribution(variable, uncertainty_method)\n",
    "\n",
    "for ind,time in enumerate(times):\n",
    "    #print time\n",
    "    perturbation = np.zeros([len(C_storage_PMSR[time]['Spreading Rate']), samples])\n",
    "    blank_array = np.ones([len(C_storage_PMSR[time]['Spreading Rate']), samples])\n",
    "    tmp_SR_array = np.round(np.asarray(C_storage_PMSR[0]['Spreading Rate']))\n",
    "    tmp_SR_array[tmp_SR_array > 100] = 100\n",
    "\n",
    "    if uncertainty_method == 'individual':\n",
    "        for i in range(len(perturbation)):\n",
    "             #if SR == 0:\n",
    "            if tmp_SR_array[i] == 0:\n",
    "                perturbation[i,::] = 0\n",
    "            else:\n",
    "                perturbation[i,::] = distribution[int(tmp_SR_array[i]-1)]\n",
    "\n",
    "    if uncertainty_method == 'batch':\n",
    "        for i in range(len(perturbation)):\n",
    "            \n",
    "            if tmp_SR_array[i] == 0:\n",
    "                perturbation[i,::] = 0\n",
    "            elif tmp_SR_array[i] <= 20:\n",
    "                perturbation[i,::] = distribution[0]\n",
    "            elif 20 < tmp_SR_array[i] <= 40:\n",
    "                perturbation[i,::] = distribution[1]\n",
    "            elif 40 < tmp_SR_array[i] <= 70:\n",
    "                perturbation[i,::] = distribution[2]\n",
    "            else:\n",
    "                perturbation[i,::] = distribution[3]\n",
    "\n",
    "        perturbation = perturbation/perturbation.mean(axis=1)[:,None]\n",
    "        perturbation[np.isnan(perturbation)] = 0\n",
    "\n",
    "    if uncertainty_method == 'full':\n",
    "        for i in range(len(perturbation)):\n",
    "             #if SR == 0:\n",
    "            if tmp_SR_array[i] == 0:\n",
    "                perturbation[i,::] = 0\n",
    "            else:\n",
    "                perturbation[i,::] = distribution    \n",
    "    \n",
    "    perturbation = perturbation/perturbation.mean(axis=1)[:,None]\n",
    "    perturbation[np.isnan(perturbation)] = 0    \n",
    "    \n",
    "\n",
    "    perturbed_variable =  np.asarray(C_storage_PMSR[time]['Serpentinites_raw'])[:,None]*perturbation\n",
    "\n",
    "    sum_variable_PMSR[ind,::] = (np.asarray(C_storage_PMSR[time]['Spreading Rate'])[:,None] * \\\n",
    "                      np.asarray(C_storage_PMSR[time]['Boundary-Length'])[:,None] * \\\n",
    "                      perturbed_variable).sum(axis=0)\n",
    "\n",
    "#with open('%s%s_MOR_%s_%s' % (savedir, variable, model_type, uncertainty_method) + '.csv', 'wb') as f:\n",
    "#    writer = csv.writer(f)\n",
    "#    writer.writerows(sum_variable_PMSR)"
   ]
  },
  {
   "cell_type": "code",
   "execution_count": 41,
   "metadata": {},
   "outputs": [],
   "source": [
    "panthalassa_plate_ids = ['902',\n",
    "                                       '919',\n",
    "                                       '926']"
   ]
  },
  {
   "cell_type": "code",
   "execution_count": 54,
   "metadata": {},
   "outputs": [],
   "source": [
    "sr_PMSR = []\n",
    "\n",
    "for i,j,k in itertools.izip(C_storage_PMSR[185]['RightPlate'],\n",
    "                            C_storage_PMSR[185]['LeftPlate'],\n",
    "                            C_storage_PMSR[185]['Spreading Rate']):\n",
    "    new_conjugate_plates = (i,j)\n",
    "    if all(x in panthalassa_plate_ids for x in new_conjugate_plates) == True:\n",
    "        #print i,j,k\n",
    "        sr_PMSR.append(k)"
   ]
  },
  {
   "cell_type": "code",
   "execution_count": 56,
   "metadata": {},
   "outputs": [
    {
     "data": {
      "text/plain": [
       "(array([1., 0., 2., 1., 2., 1., 1., 2., 6., 2.]),\n",
       " array([  2.02224457,  14.53616533,  27.05008608,  39.56400684,\n",
       "         52.07792759,  64.59184835,  77.1057691 ,  89.61968986,\n",
       "        102.13361061, 114.64753137, 127.16145212]),\n",
       " <a list of 10 Patch objects>)"
      ]
     },
     "execution_count": 56,
     "metadata": {},
     "output_type": "execute_result"
    },
    {
     "data": {
      "image/png": "[encoded data removed]",
      "text/plain": [
       "<Figure size 432x288 with 1 Axes>"
      ]
     },
     "metadata": {
      "needs_background": "light"
     },
     "output_type": "display_data"
    }
   ],
   "source": [
    "plt.hist(sr_PMSR)"
   ]
  },
  {
   "cell_type": "code",
   "execution_count": 58,
   "metadata": {
    "scrolled": false
   },
   "outputs": [],
   "source": [
    "sr_POSR = []\n",
    "for i,j,k in itertools.izip(C_storage_POSR[180]['RightPlate'],\n",
    "                            C_storage_POSR[180]['LeftPlate'],\n",
    "                            C_storage_POSR[180]['Spreading Rate']):\n",
    "    new_conjugate_plates = (i,j)\n",
    "    if all(x in panthalassa_plate_ids for x in new_conjugate_plates) == True:\n",
    "        #print i,j,k\n",
    "        sr_POSR.append(k)"
   ]
  },
  {
   "cell_type": "code",
   "execution_count": 59,
   "metadata": {},
   "outputs": [
    {
     "data": {
      "text/plain": [
       "(array([1., 3., 5., 1., 2., 3., 1., 0., 1., 1.]),\n",
       " array([ 24.95724733,  42.29003933,  59.62283133,  76.95562333,\n",
       "         94.28841533, 111.62120733, 128.95399933, 146.28679133,\n",
       "        163.61958333, 180.95237532, 198.28516732]),\n",
       " <a list of 10 Patch objects>)"
      ]
     },
     "execution_count": 59,
     "metadata": {},
     "output_type": "execute_result"
    },
    {
     "data": {
      "image/png": "[encoded data removed]",
      "text/plain": [
       "<Figure size 432x288 with 1 Axes>"
      ]
     },
     "metadata": {
      "needs_background": "light"
     },
     "output_type": "display_data"
    }
   ],
   "source": [
    "plt.hist(sr_POSR)"
   ]
  },
  {
   "cell_type": "code",
   "execution_count": null,
   "metadata": {},
   "outputs": [],
   "source": []
  },
  {
   "cell_type": "code",
   "execution_count": null,
   "metadata": {},
   "outputs": [],
   "source": []
  },
  {
   "cell_type": "code",
   "execution_count": 28,
   "metadata": {},
   "outputs": [],
   "source": [
    "#quick and dirty plot to make sure it looks somewhat reasonable\n",
    "import matplotlib.pyplot as plt\n",
    "\n",
    "#density serpentinites g/cm3\n",
    "serpentinites_density = 3.00 #ranges between 2.7-3.3\n",
    "serpentinites_densitygkm3 = float(serpentinites_density * 100000**3)\n",
    "S_MT_a = serpentinites_densitygkm3/1000/1000000000/1000000\n",
    "\n",
    "a = sum_variable_POSR * S_MT_a\n",
    "b = sum_variable_PMSR * S_MT_a"
   ]
  },
  {
   "cell_type": "code",
   "execution_count": 29,
   "metadata": {},
   "outputs": [],
   "source": [
    "mean_POSR = np.asarray([np.mean(i) for i in a])\n",
    "std_POSR = np.asarray([np.std(i) for i in a])\n",
    "\n",
    "smooth_mean_POSR = running_mean(mean_POSR, 5, 'valid')\n",
    "smooth_std_POSR = running_mean(std_POSR, 5, 'valid')\n",
    "\n",
    "mean_PMSR = np.asarray([np.mean(i) for i in b])\n",
    "std_PMSR = np.asarray([np.std(i) for i in b])\n",
    "\n",
    "smooth_mean_PMSR = running_mean(mean_PMSR, 5, 'valid')\n",
    "smooth_std_PMSR = running_mean(std_PMSR, 5, 'valid')"
   ]
  },
  {
   "cell_type": "code",
   "execution_count": 34,
   "metadata": {},
   "outputs": [
    {
     "data": {
      "text/plain": [
       "(200, 150)"
      ]
     },
     "execution_count": 34,
     "metadata": {},
     "output_type": "execute_result"
    },
    {
     "data": {
      "image/png": "[encoded data removed]",
      "text/plain": [
       "<Figure size 864x432 with 1 Axes>"
      ]
     },
     "metadata": {
      "needs_background": "light"
     },
     "output_type": "display_data"
    }
   ],
   "source": [
    "#batch uncertainty\n",
    "plt.figure(figsize=(12,6))\n",
    "\n",
    "plt.plot(mean_POSR, color='k')\n",
    "#plt.plot(mean_POSR+std_POSR, color='orange')\n",
    "#plt.plot(mean_POSR-std_POSR, color='orange')\n",
    "\n",
    "plt.plot(mean_PMSR, color='green')\n",
    "#plt.plot(mean_PMSR+std_PMSR, color='blue')\n",
    "#plt.plot(mean_PMSR-std_PMSR, color='blue')\n",
    "\n",
    "plt.plot(smooth_mean_POSR, color='k', lw=10, alpha=0.5, label='POSR')\n",
    "#plt.plot(smooth_mean_POSR+smooth_std_POSR, color='orange', lw=10, alpha=0.5)\n",
    "#plt.plot(smooth_mean_POSR-smooth_std_POSR, color='orange', lw=10, alpha=0.5)\n",
    "\n",
    "plt.plot(smooth_mean_PMSR, color='green', lw=10, alpha=0.5, label='PMSR')\n",
    "#plt.plot(smooth_mean_PMSR+smooth_std_PMSR, color='blue', lw=10, alpha=0.5)\n",
    "#plt.plot(smooth_mean_PMSR-smooth_std_PMSR, color='blue', lw=10, alpha=0.5)\n",
    "\n",
    "plt.xlabel('Time (Ma)', fontsize=20)\n",
    "plt.ylabel('Serpentinite mass at ride (Mt)', fontsize=20)\n",
    "\n",
    "plt.xticks(fontsize=14)\n",
    "plt.yticks(fontsize=14)\n",
    "plt.legend()\n",
    "plt.xlim(200,150)"
   ]
  },
  {
   "cell_type": "code",
   "execution_count": null,
   "metadata": {},
   "outputs": [],
   "source": []
  }
 ],
 "metadata": {
  "kernelspec": {
   "display_name": "Python 2",
   "language": "python",
   "name": "python2"
  },
  "language_info": {
   "codemirror_mode": {
    "name": "ipython",
    "version": 2
   },
   "file_extension": ".py",
   "mimetype": "text/x-python",
   "name": "python",
   "nbconvert_exporter": "python",
   "pygments_lexer": "ipython2",
   "version": "2.7.16"
  }
 },
 "nbformat": 4,
 "nbformat_minor": 2
}
