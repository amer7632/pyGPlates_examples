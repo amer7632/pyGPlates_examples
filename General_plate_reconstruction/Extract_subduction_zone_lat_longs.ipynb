{
 "cells": [
  {
   "cell_type": "markdown",
   "metadata": {},
   "source": [
    "This code takes a plate boundary file (in this case subduction zones) and extrats the latitude, longitude co-ordinates of those polylines (for each segment) at each time and then stores them in a dictionary.  The lat-lon co-ords are a extracted from a tessellation of each segment.\n",
    "\n",
    "It should be quite easy to change models and adapt for other \n",
    "\n",
    "Referneces \n",
    "\n",
    "Domeier, M. and Torsvik, T.H., 2014. Plate tectonics in the late Paleozoic. Geoscience Frontiers, 5(3), pp.303-350."
   ]
  },
  {
   "cell_type": "code",
   "execution_count": 1,
   "metadata": {},
   "outputs": [],
   "source": [
    "import pygplates\n",
    "import numpy as np"
   ]
  },
  {
   "cell_type": "code",
   "execution_count": 8,
   "metadata": {},
   "outputs": [],
   "source": [
    "#setbasedir for loading reconstruction files\n",
    "basedir = '/Users/Andrew/Documents/PhD/Scripts/Python_Scripts/pyGPlates_examples/General_plate_reconstruction/Sample_data/'\n",
    "\n",
    "#Domeier and Torsvik (2014)\n",
    "DT14_rotation_model = pygplates.RotationModel('%sDT14_rotations.rot' % basedir)\n",
    "DT14_topologies = ['%sDT14_ridge.gpml' % basedir,\n",
    "                   '%sDT14_subduction.gpml' % basedir,\n",
    "                   '%sDT14_topologies.gpml' % basedir,\n",
    "                   '%sDT14_transform.gpml' % basedir]"
   ]
  },
  {
   "cell_type": "code",
   "execution_count": 13,
   "metadata": {
    "scrolled": true
   },
   "outputs": [],
   "source": [
    "subduction_zone_geometries = dict()\n",
    "times = np.arange(250, 420, 10)\n",
    "for time in times:\n",
    "\n",
    "    #print tmp_csv\n",
    "    subduction_zone_geometries[time] = []\n",
    "\n",
    "    # Resolve our topological plate polygons (and deforming networks) to the current 'time'.\n",
    "    # We generate both the resolved topology boundaries and the boundary sections between them.\n",
    "\n",
    "    #these arrays are to store the topologies and boundary sections\n",
    "    resolved_topologies = []\n",
    "    shared_boundary_sections = []\n",
    "\n",
    "    pygplates.resolve_topologies(DT14_topologies, DT14_rotation_model, resolved_topologies, \\\n",
    "                                 time, shared_boundary_sections)\n",
    "\n",
    "    # Iterate over the shared boundary sections (since one plate boundary can be shared by two plates)\n",
    "\n",
    "    for  shared_boundary_section in shared_boundary_sections:\n",
    "\n",
    "        #we only want subudction zones (NB you can change the feature type to transform/MoR etc.)\n",
    "        if shared_boundary_section.get_feature().get_feature_type() == pygplates.FeatureType.gpml_subduction_zone:\n",
    "\n",
    "            #iterate over sub segments in each feature\n",
    "            for shared_sub_segment in shared_boundary_section.get_shared_sub_segments():\n",
    "                shared_sub_segment_geometry = shared_sub_segment.get_resolved_geometry()\n",
    "                shared_sub_segment_geometry_tessellated = shared_sub_segment_geometry.to_tessellated(np.radians(1))\n",
    "                #convert to lat lon array, you can conver to a list or to a feature as well, depending\n",
    "                #what output you want one may be better than others\n",
    "                tmp = shared_sub_segment_geometry_tessellated.to_lat_lon_array()\n",
    "\n",
    "            #append everything to a big dictionary\n",
    "            subduction_zone_geometries[time].append(tmp)"
   ]
  }
 ],
 "metadata": {
  "kernelspec": {
   "display_name": "Python 2",
   "language": "python",
   "name": "python2"
  },
  "language_info": {
   "codemirror_mode": {
    "name": "ipython",
    "version": 2
   },
   "file_extension": ".py",
   "mimetype": "text/x-python",
   "name": "python",
   "nbconvert_exporter": "python",
   "pygments_lexer": "ipython2",
   "version": "2.7.16"
  }
 },
 "nbformat": 4,
 "nbformat_minor": 2
}
