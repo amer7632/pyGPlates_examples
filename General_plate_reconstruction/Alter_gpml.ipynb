{
 "cells": [
  {
   "cell_type": "markdown",
   "metadata": {},
   "source": [
    "This notebook is similar to the alter plate ID notebooks in the same folder, but it actually changes the gpml features more sophistically than just changing text.  This means that we need pyGPlates to load and save the new file.\n",
    "\n",
    "In this example I use the plate boundary file of Matthews et al. (2016) and loop through the gpml file to separate the boundaries into their specific boundary type (mid-ocean ridge, subduction zone, transform and leftovers).  NB. some plate boundary types are not the main three (for whatever reason) so we need to have the leftovers as well."
   ]
  },
  {
   "cell_type": "code",
   "execution_count": 2,
   "metadata": {},
   "outputs": [],
   "source": [
    "import pygplates\n",
    "import numpy as np"
   ]
  },
  {
   "cell_type": "code",
   "execution_count": 3,
   "metadata": {},
   "outputs": [],
   "source": [
    "#setbasedir for loading reconstruction files\n",
    "basedir = '/Users/Andrew/Documents/PhD/Scripts/Python_Scripts/pyGPlates_examples/General_plate_reconstruction/Sample_data/'\n",
    "#load topology features\n",
    "input_feature_collection = pygplates.FeatureCollection('%sMat16_Mesozoic-Cenozoic_plate_boundaries.gpml' % basedir)"
   ]
  },
  {
   "cell_type": "code",
   "execution_count": 6,
   "metadata": {
    "scrolled": true
   },
   "outputs": [],
   "source": [
    "# Start with an empty list of MOR features\n",
    "MOR_Features = []\n",
    "subduction_features = []\n",
    "transform_features = []\n",
    "leftovers = []\n",
    "# Iterate over all plate boundary features and add those with a feature ID of MoR to 'MOR_Features'.\n",
    "for index, feature in enumerate(input_feature_collection):\n",
    "    if feature.get_feature_type() == pygplates.FeatureType.gpml_mid_ocean_ridge:\n",
    "        MOR_Features.append(feature)\n",
    "    elif feature.get_feature_type() == pygplates.FeatureType.gpml_subduction_zone:\n",
    "        subduction_features.append(feature)\n",
    "    elif feature.get_feature_type() == pygplates.FeatureType.gpml_transform:\n",
    "        transform_features.append(feature)\n",
    "    else: #everything else\n",
    "        leftovers.append(feature)\n",
    "\n",
    "#convert to pygplates feature collection        \n",
    "output_feature_collection_MOR = pygplates.FeatureCollection(MOR_Features)\n",
    "output_feature_collection_SUB = pygplates.FeatureCollection(subduction_features)\n",
    "output_feature_collection_TRA = pygplates.FeatureCollection(transform_features)\n",
    "output_feature_collection_LFO = pygplates.FeatureCollection(leftovers)\n",
    "\n",
    "#save to a gpml file, you should definitely check them in GPlates to make sure it worked\n",
    "savestyle = 'Mat16_Mesozoic-Cenozoic'\n",
    "output_feature_collection_MOR.write('%s%s_mid_ocean_ridges.gpml' % (basedir, savestyle))\n",
    "output_feature_collection_SUB.write('%s%s_subduction_zones.gpml' % (basedir, savestyle))\n",
    "output_feature_collection_TRA.write('%s%s_transforms.gpml' % (basedir, savestyle))\n",
    "output_feature_collection_LFO.write('%s%s_leftovers.gpml' % (basedir, savestyle))"
   ]
  },
  {
   "cell_type": "code",
   "execution_count": null,
   "metadata": {},
   "outputs": [],
   "source": []
  }
 ],
 "metadata": {
  "kernelspec": {
   "display_name": "Python 2",
   "language": "python",
   "name": "python2"
  },
  "language_info": {
   "codemirror_mode": {
    "name": "ipython",
    "version": 2
   },
   "file_extension": ".py",
   "mimetype": "text/x-python",
   "name": "python",
   "nbconvert_exporter": "python",
   "pygments_lexer": "ipython2",
   "version": "2.7.16"
  }
 },
 "nbformat": 4,
 "nbformat_minor": 2
}
