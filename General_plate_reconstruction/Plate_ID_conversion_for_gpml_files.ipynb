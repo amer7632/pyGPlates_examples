{
 "cells": [
  {
   "cell_type": "markdown",
   "metadata": {},
   "source": [
    "This notebook is similar to the rotation file one (and probably could be used interchangeably) but is a bit better for very long files, like gpml topology files.  It essentially uses a dict to find and replace plate IDs.\n",
    "\n",
    "References\n",
    "Merdith, A.S., Collins, A.S., Williams, S.E., Pisarevsky, S., Foden, J.D., Archibald, D.B., Blades, M.L., Alessio, B.L., Armistead, S., Plavsa, D., Clark, C., and Müller, R.D. 2017. A full-plate global reconstruction of the Neoproterozoic. Gondwana Research, 50, pp.84-134."
   ]
  },
  {
   "cell_type": "code",
   "execution_count": 1,
   "metadata": {},
   "outputs": [],
   "source": [
    "import numpy as np\n",
    "import pandas as pd"
   ]
  },
  {
   "cell_type": "code",
   "execution_count": 2,
   "metadata": {},
   "outputs": [],
   "source": [
    "#this function loops searches a text file and replaces values based on a dictionary\n",
    "def replace_all(text, dic):\n",
    "    for i, j in dic.iteritems():\n",
    "        i1 = str(i) #these lines are needed to convert to string if just dealing with numbers\n",
    "        j1 = str(j) #these lines are needed to convert to string if just dealing with numbers\n",
    "        text = text.replace(i1,j1)\n",
    "    return text"
   ]
  },
  {
   "cell_type": "code",
   "execution_count": 3,
   "metadata": {},
   "outputs": [],
   "source": [
    "#setbasedir for loading reconstruction files\n",
    "basedir = '/Users/Andrew/Documents/PhD/Scripts/Python_Scripts/pyGPlates_examples/General_plate_reconstruction/Sample_data/'\n",
    "\n",
    "#we aren't using pygplates, instead we just want to read the files as text files\n",
    "df_ID_table = pd.read_csv('%sPlate_IDs_for_topology_conversion.csv' % basedir)\n",
    "\n",
    "#load gpml file, or rot file\n",
    "with open('%sMer17_1000-520Ma_shapes.gpml' % basedir, 'r') as file :\n",
    "    filedata = file.read()"
   ]
  },
  {
   "cell_type": "code",
   "execution_count": 4,
   "metadata": {},
   "outputs": [],
   "source": [
    "#create a dictionary of old and new plate IDs for conversion\n",
    "id_dict = dict(zip(df_ID_table.Old,df_ID_table.New))\n",
    "new_text = replace_all(filedata, id_dict)"
   ]
  },
  {
   "cell_type": "code",
   "execution_count": 5,
   "metadata": {},
   "outputs": [],
   "source": [
    "#if you want to save, if rot file change .gpml to .rot\n",
    "#with open('%sAltered_file.gpml' % basedir, 'w') as file:\n",
    "#    file.write(new_text)"
   ]
  }
 ],
 "metadata": {
  "kernelspec": {
   "display_name": "Python 2",
   "language": "python",
   "name": "python2"
  },
  "language_info": {
   "codemirror_mode": {
    "name": "ipython",
    "version": 2
   },
   "file_extension": ".py",
   "mimetype": "text/x-python",
   "name": "python",
   "nbconvert_exporter": "python",
   "pygments_lexer": "ipython2",
   "version": "2.7.16"
  }
 },
 "nbformat": 4,
 "nbformat_minor": 2
}
